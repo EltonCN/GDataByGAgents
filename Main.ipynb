{
 "cells": [
  {
   "cell_type": "code",
   "execution_count": 1,
   "metadata": {},
   "outputs": [],
   "source": [
    "from __future__ import annotations\n",
    "\n",
    "import time\n",
    "import datetime\n",
    "import os\n",
    "import json\n",
    "from copy import deepcopy\n",
    "\n",
    "import numpy as np\n",
    "import cst_python as cst\n",
    "import toolpy as tp\n",
    "from toolpy.integrations import groq\n",
    "\n",
    "import gbyg as gg"
   ]
  },
  {
   "cell_type": "markdown",
   "metadata": {},
   "source": [
    "Define LLM to use:"
   ]
  },
  {
   "cell_type": "code",
   "execution_count": 2,
   "metadata": {},
   "outputs": [],
   "source": [
    "groq_interface = groq.GroqInterface(model=groq.GroqModel.LLAMA3_70B, n_retry=10)\n",
    "\n",
    "registry = tp.llm.LLMRegistry()\n",
    "registry.registry(model_name=\"llama3-70b\", interface=groq_interface, default=True)"
   ]
  },
  {
   "cell_type": "markdown",
   "metadata": {},
   "source": [
    "Create agent:"
   ]
  },
  {
   "cell_type": "code",
   "execution_count": 3,
   "metadata": {},
   "outputs": [],
   "source": [
    "importance_threshould = 1"
   ]
  },
  {
   "cell_type": "code",
   "execution_count": 4,
   "metadata": {},
   "outputs": [],
   "source": [
    "mind = cst.Mind()\n",
    "\n",
    "gg.agent.agent_constructor(mind, importance_threshould)\n",
    "\n",
    "for codelet in mind.code_rack.all_codelets:\n",
    "    codelet.time_step = 100\n",
    "\n",
    "memories_input = mind.raw_memory.get_all_of_type(\"MemoriesInput\")[0]\n",
    "memory_stream = mind.raw_memory.get_all_of_type(\"MemoryStream\")[0]\n",
    "agent_time_memory = mind.raw_memory.get_all_of_type(\"AgentTime\")[0]\n",
    "agent_info_memory = mind.raw_memory.get_all_of_type(\"AgentInfo\")[0]\n",
    "agent_summary_description = mind.raw_memory.get_all_of_type(\"AgentSummaryDescription\")[0]\n",
    "actual_place_memory = mind.raw_memory.get_all_of_type(\"ActualPlace\")[0]\n",
    "known_world = mind.raw_memory.get_all_of_type(\"KnownWorld\")[0]\n",
    "action_memory = mind.raw_memory.get_all_of_type(\"Action\")[0]\n",
    "current_observation_memory = mind.raw_memory.get_all_of_type(\"CurrentObservation\")[0]\n",
    "current_state_memory = mind.raw_memory.get_all_of_type(\"CurrentState\")[0]\n",
    "\n",
    "previous_day_summary = mind.raw_memory.get_all_of_type(\"PreviousDaySummary\")[0]\n",
    "plan = mind.raw_memory.get_all_of_type(\"Plan\")[0]"
   ]
  },
  {
   "cell_type": "markdown",
   "metadata": {},
   "source": [
    "Set initial agent info:"
   ]
  },
  {
   "cell_type": "code",
   "execution_count": 5,
   "metadata": {},
   "outputs": [
    {
     "data": {
      "text/plain": [
       "-1"
      ]
     },
     "execution_count": 5,
     "metadata": {},
     "output_type": "execute_result"
    }
   ],
   "source": [
    "agent_info_memory.set_info({\"name\":\"Alex\", \"age\":25, \"traits\":\"friendly, outgoing, hospitable\"})\n",
    "agent_time_memory.set_info(datetime.datetime.fromisoformat(\"2024-06-26T00:00:00\").timestamp())\n",
    "actual_place_memory.set_info(\"Bedroom\")"
   ]
  },
  {
   "cell_type": "code",
   "execution_count": 6,
   "metadata": {},
   "outputs": [],
   "source": [
    "mind.start()"
   ]
  },
  {
   "cell_type": "code",
   "execution_count": 7,
   "metadata": {},
   "outputs": [],
   "source": [
    "with open(\"data\\\\seed_memories.json\") as file:\n",
    "    seed_memories = json.load(file)\n",
    "\n",
    "input_memories = []\n",
    "for memory_name in seed_memories:\n",
    "    memory = {\"type\": \"reflection\",\n",
    "            \"created\": \"2024-01-01 08:00:00\",\n",
    "            \"description\": seed_memories[memory_name]}\n",
    "\n",
    "    input_memories.append(memory)\n",
    "\n",
    "with open(\"data\\\\yesterday_routine.json\") as file:\n",
    "  yesterday_memories = json.load(file) \n",
    "\n",
    "#input_memories += deepcopy(yesterday_memories)\n",
    "\n",
    "for m in input_memories:\n",
    "    m[\"created\"] = datetime.datetime.fromisoformat(m[\"created\"]).timestamp()\n",
    "    m[\"last_acessed\"] = m[\"created\"]"
   ]
  },
  {
   "cell_type": "code",
   "execution_count": 8,
   "metadata": {},
   "outputs": [
    {
     "name": "stderr",
     "output_type": "stream",
     "text": [
      "D:\\Github\\GDataByGAgents\\src\\gbyg\\agent\\retrieval\\recency_scorer_tool.py:32: RuntimeWarning: invalid value encountered in divide\n",
      "  scores = (scores-min_score)/(max_score-min_score)\n",
      "c:\\Python38\\lib\\site-packages\\sentence_transformers\\util.py:41: UserWarning: Creating a tensor from a list of numpy.ndarrays is extremely slow. Please consider converting the list to a single numpy.ndarray with numpy.array() before converting to a tensor. (Triggered internally at C:\\actions-runner\\_work\\pytorch\\pytorch\\builder\\windows\\pytorch\\torch\\csrc\\utils\\tensor_new.cpp:278.)\n",
      "  b = torch.tensor(b)\n"
     ]
    }
   ],
   "source": [
    "memories_input_queue = memories_input.get_info()\n",
    "for memory in input_memories:\n",
    "    memories_input_queue.append(memory)\n",
    "\n",
    "while len(memory_stream.get_info()) != len(input_memories):\n",
    "    time.sleep(0.1)"
   ]
  },
  {
   "cell_type": "markdown",
   "metadata": {},
   "source": [
    "Check stored memories:"
   ]
  },
  {
   "cell_type": "code",
   "execution_count": 9,
   "metadata": {},
   "outputs": [
    {
     "name": "stdout",
     "output_type": "stream",
     "text": [
      "1 (reflection): Alex is a 25-year-old photographer known for his friendly, outgoing, and hospitable nature | because of: \n",
      "2 (reflection): Alex is passionated about capturing moments through the lens has made him a well-respected figure in the local photography scene | because of: \n",
      "3 (reflection): Alex enjoys experimenting with different styles and techniques, constantly pushing the boundaries of his creativity. | because of: \n",
      "4 (reflection): Alex has a particular fondness for photographing nature, finding inspiration in the beauty of landscapes, wildlife, and natural light. | because of: \n",
      "5 (reflection): Alex is a social butterfly who thrives on meeting new people and making lasting connections. | because of: \n",
      "6 (reflection): Alex has a knack for making others feel welcome and comfortable, whether he's hosting a casual get-together or a larger event. | because of: \n",
      "7 (reflection): Alex is warmth and enthusiasm for life are evident in everything he does, making him a beloved presence in his community. | because of: \n"
     ]
    }
   ],
   "source": [
    "for memory in memory_stream.get_info():\n",
    "    because_of = \"\"\n",
    "    if 'because_of' in memory: \n",
    "        because_of = memory['because_of']\n",
    "\n",
    "    memory_str = f\"{memory['index']} ({memory['type']}): {memory['description']} | because of: {because_of}\"\n",
    "    print(memory_str)"
   ]
  },
  {
   "cell_type": "markdown",
   "metadata": {},
   "source": [
    "Generate previous day and agent summary:"
   ]
  },
  {
   "cell_type": "code",
   "execution_count": 10,
   "metadata": {},
   "outputs": [],
   "source": [
    "summary_function = gg.agent.summary.SummaryFunction()\n",
    "\n",
    "query = {\"query_statement\":\"Alex's previous day\",\n",
    "         \"statements\":json.dumps(yesterday_memories)}\n",
    "\n",
    "summary_result, _ = summary_function(query)\n",
    "\n",
    "summary = f'''Yesteday, 26 June {datetime.datetime.fromisoformat(yesterday_memories[0][\"created\"]).strftime(\"%d %B\")},\n",
    "{summary_result['description']}.\n",
    "Alex took several photos, preparing to later edit them and post them on social media.\n",
    "Alex now plans to stay home the entire day.'''"
   ]
  },
  {
   "cell_type": "code",
   "execution_count": 11,
   "metadata": {},
   "outputs": [
    {
     "name": "stdout",
     "output_type": "stream",
     "text": [
      "Name: Alex (age: 25)\n",
      "Innate traits: friendly, outgoing, hospitable\n",
      "Alex is a young, sociable, and welcoming photographer.\n",
      "A 25-year-old photographer with a friendly and outgoing personality\n",
      "There is no information provided about Alex's feelings about their recent progress in life based on the given statement.\n"
     ]
    }
   ],
   "source": [
    "last_summary_time = agent_summary_description.get_timestamp()\n",
    "\n",
    "agent_time_memory.set_info(agent_time_memory.get_info()+gg.time_utils.TimeInterval.ONE_DAY)\n",
    "\n",
    "previous_day_summary_content = {\"summary\":summary,\n",
    "                                \"generated_time\":agent_time_memory.get_info()}\n",
    "\n",
    "previous_day_summary.set_info(previous_day_summary_content)\n",
    "\n",
    "while agent_summary_description.get_timestamp() == last_summary_time:\n",
    "    time.sleep(0.1)\n",
    "\n",
    "print(agent_summary_description.get_info()[\"summary\"])"
   ]
  },
  {
   "cell_type": "markdown",
   "metadata": {},
   "source": [
    "Wait for plan and check plan:"
   ]
  },
  {
   "cell_type": "code",
   "execution_count": 12,
   "metadata": {},
   "outputs": [],
   "source": [
    "while plan.get_info() == \"\":\n",
    "    time.sleep(0.1) "
   ]
  },
  {
   "cell_type": "code",
   "execution_count": 13,
   "metadata": {},
   "outputs": [],
   "source": [
    "#Remove fisrt hour actions to avoid infinity loop bellow\n",
    "while plan.get_info()[0][\"hour\"] == 0:\n",
    "    del plan.get_info()[0]"
   ]
  },
  {
   "cell_type": "code",
   "execution_count": 14,
   "metadata": {},
   "outputs": [
    {
     "name": "stdout",
     "output_type": "stream",
     "text": [
      "8:0: Wake up\n",
      "8:15: Have breakfast\n",
      "9:0: Gather all photos from yesterday's outing\n",
      "9:10: Organize photos into folders\n",
      "9:20: Start editing photos\n",
      "12:0: Start taking a lunch break\n",
      "12:30: Continue taking a lunch break\n",
      "13:0: Resume editing photos\n",
      "17:0: Take a short break to relax and unwind\n",
      "18:0: Continue editing photos\n",
      "20:0: Select and gather photos for social media\n",
      "20:10: Organize photos into logical folders\n",
      "20:20: Write captions for each photo\n",
      "20:30: Review and edit captions for clarity and grammar\n",
      "20:40: Upload photos and captions to social media\n",
      "21:0: Review photo selection for posting\n",
      "21:20: Finalize photo selection for posting\n",
      "22:0: Prepare for bed\n",
      "22:30: Wind down and relax before sleeping\n",
      "22:50: Get into bed, feeling accomplished\n"
     ]
    }
   ],
   "source": [
    "for action in plan.get_info():\n",
    "    hour = action[\"hour\"]\n",
    "    minute = action[\"minute\"]\n",
    "    action_action = action[\"action\"]\n",
    "\n",
    "    print(f\"{hour}:{minute}: {action_action}\")"
   ]
  },
  {
   "cell_type": "markdown",
   "metadata": {},
   "source": [
    "Load environment:"
   ]
  },
  {
   "cell_type": "code",
   "execution_count": 15,
   "metadata": {},
   "outputs": [],
   "source": [
    "with open(\"data\\\\environment.json\") as file:\n",
    "    alex_house = json.load(file)\n",
    "\n",
    "alex = {\"name\":\"Alex\", \"type\":\"agent\", \"description\":\"human\", 'state':'sleeping in the bed.'}\n",
    "\n",
    "alex_house[\"Alex's House\"][\"Bedroom\"].append(alex)\n",
    "\n",
    "agent_names = [\"Alex\"]"
   ]
  },
  {
   "cell_type": "code",
   "execution_count": 16,
   "metadata": {},
   "outputs": [],
   "source": [
    "from collections import deque\n",
    "from copy import deepcopy\n",
    "\n",
    "known_world_tree = deepcopy(alex_house)\n",
    "\n",
    "stack = deque()\n",
    "for room_name in known_world_tree:\n",
    "    room = known_world_tree[room_name]\n",
    "    stack.append(room)\n",
    "\n",
    "while len(stack) > 0:\n",
    "    room = stack.pop()\n",
    "    if isinstance(room, list):\n",
    "        for object in room:\n",
    "            del object[\"state\"]\n",
    "    else:\n",
    "        for subroom_name in room:\n",
    "            subroom = room[subroom_name]\n",
    "            stack.append(subroom)"
   ]
  },
  {
   "cell_type": "code",
   "execution_count": 17,
   "metadata": {},
   "outputs": [
    {
     "data": {
      "text/plain": [
       "-1"
      ]
     },
     "execution_count": 17,
     "metadata": {},
     "output_type": "execute_result"
    }
   ],
   "source": [
    "known_world.set_info(known_world_tree)"
   ]
  },
  {
   "cell_type": "markdown",
   "metadata": {},
   "source": [
    "Agent initial state:"
   ]
  },
  {
   "cell_type": "code",
   "execution_count": 18,
   "metadata": {},
   "outputs": [],
   "source": [
    "observation_memory = {\"index\": 0,\n",
    "    \"type\": \"event\",\n",
    "    \"created\": agent_time_memory.get_info(),\n",
    "    \"description\": f\"Alex is {alex['state']}\"}\n",
    "\n",
    "input_memories.append(observation_memory)"
   ]
  },
  {
   "cell_type": "code",
   "execution_count": 19,
   "metadata": {},
   "outputs": [
    {
     "data": {
      "text/plain": [
       "''"
      ]
     },
     "execution_count": 19,
     "metadata": {},
     "output_type": "execute_result"
    }
   ],
   "source": [
    "action_memory.get_info()"
   ]
  },
  {
   "cell_type": "markdown",
   "metadata": {},
   "source": [
    "Get simulation information:"
   ]
  },
  {
   "cell_type": "code",
   "execution_count": 20,
   "metadata": {},
   "outputs": [],
   "source": [
    "first_action = plan.get_info()[0]\n",
    "last_action = plan.get_info()[-1]\n",
    "\n",
    "agent_time = agent_time_memory.get_info()\n",
    "\n",
    "now = datetime.datetime.fromtimestamp(agent_time)\n",
    "\n",
    "now = now.replace(hour=first_action[\"hour\"], minute=first_action[\"minute\"])\n",
    "agent_time_memory.set_info(now.timestamp())\n",
    "\n",
    "simulation_end_time = datetime.datetime.fromtimestamp(agent_time)\n",
    "simulation_end_time = simulation_end_time.replace(hour=last_action[\"hour\"], minute=last_action[\"minute\"]).timestamp()"
   ]
  },
  {
   "cell_type": "markdown",
   "metadata": {},
   "source": [
    "Wait for agent generate first action:"
   ]
  },
  {
   "cell_type": "code",
   "execution_count": 21,
   "metadata": {},
   "outputs": [],
   "source": [
    "while action_memory.get_info() == \"\":\n",
    "    time.sleep(0.1)\n",
    "\n",
    "last_action_time = action_memory.get_timestamp()"
   ]
  },
  {
   "cell_type": "markdown",
   "metadata": {},
   "source": [
    "Create environment:"
   ]
  },
  {
   "cell_type": "code",
   "execution_count": 22,
   "metadata": {},
   "outputs": [],
   "source": [
    "env = gg.environment.Environment(alex_house, agent_names)"
   ]
  },
  {
   "cell_type": "markdown",
   "metadata": {},
   "source": [
    "Log function:"
   ]
  },
  {
   "cell_type": "code",
   "execution_count": 23,
   "metadata": {},
   "outputs": [],
   "source": [
    "def encoder(obj):\n",
    "    if isinstance(obj, np.integer):\n",
    "            return int(obj)\n",
    "    elif isinstance(obj, np.floating):\n",
    "        return float(obj)\n",
    "    elif isinstance(obj, np.ndarray):\n",
    "        return []\n",
    "    \n",
    "    return obj.__dict__\n",
    "\n",
    "sensor_result = {}\n",
    "\n",
    "def dump_log(path:str):\n",
    "    log = {}\n",
    "    log[\"agent_time\"] = agent_time_memory.get_info()\n",
    "    log[\"action\"] = action_memory.get_info()\n",
    "    log[\"agent_summary_description\"] = agent_summary_description.get_info()\n",
    "    log[\"state\"] = current_state_memory.get_info()\n",
    "    log[\"curret_observation\"] = current_observation_memory.get_info()\n",
    "    log[\"current_place\"] = actual_place_memory.get_info()\n",
    "    log[\"sensor_result\"] = sensor_result\n",
    "    log[\"environment_tree\"] = env._environment_tree\n",
    "    \n",
    "\n",
    "    log[\"memory_stream\"] = list(memory_stream.get_info())\n",
    "\n",
    "    if not os.path.isdir(path):\n",
    "        os.mkdir(path)\n",
    "\n",
    "    log_path = os.path.join(path, str(log[\"agent_time\"])+\".json\")\n",
    "    file = open(log_path, \"w\")\n",
    "    json.dump(log, file, default=encoder)\n",
    "    file.close()\n"
   ]
  },
  {
   "cell_type": "code",
   "execution_count": 24,
   "metadata": {},
   "outputs": [],
   "source": [
    "dump_log(\"logs\")"
   ]
  },
  {
   "cell_type": "markdown",
   "metadata": {},
   "source": [
    "Create sensor:"
   ]
  },
  {
   "cell_type": "code",
   "execution_count": 25,
   "metadata": {},
   "outputs": [],
   "source": [
    "sound_sensor = gg.sensors.SoundSensor()"
   ]
  },
  {
   "cell_type": "markdown",
   "metadata": {},
   "source": [
    "Simulate:"
   ]
  },
  {
   "cell_type": "code",
   "execution_count": 26,
   "metadata": {},
   "outputs": [
    {
     "name": "stdout",
     "output_type": "stream",
     "text": [
      "Current time: 1719486000.0\n",
      "env step|"
     ]
    },
    {
     "name": "stderr",
     "output_type": "stream",
     "text": [
      "D:\\Github\\GDataByGAgents\\src\\gbyg\\environment\\tools\\object_mover.py:57: UserWarning: Place None not found. Aborting change.\n",
      "  warnings.warn(f\"Place {place} not found. Aborting change.\")\n"
     ]
    },
    {
     "name": "stdout",
     "output_type": "stream",
     "text": [
      "sensor step|waiting for agent\n",
      "Current time: 1719486002.0\n",
      "env step|sensor step|waiting for agent\n",
      "Current time: 1719486004.0\n",
      "env step|sensor step|waiting for agent\n",
      "Current time: 1719486006.0\n",
      "env step|sensor step|waiting for agent\n",
      "Current time: 1719486008.5\n",
      "env step|Traceback (most recent call last):\n",
      "  File \"D:\\Github\\CST-Python\\src\\cst_python\\core\\entities\\codelet.py\", line 450, in _scheduled_run\n",
      "    self.proc()\n",
      "  File \"D:\\Github\\GDataByGAgents\\src\\gbyg\\agent\\retrieval\\retrieval_codelet.py\", line 83, in proc\n",
      "    timestamps.append(memory[\"last_acessed\"])\n",
      "KeyError: 'last_acessed'\n",
      "\n",
      "sensor step|waiting for agent\n",
      "Current time: 1719486013.5\n",
      "env step|"
     ]
    },
    {
     "name": "stderr",
     "output_type": "stream",
     "text": [
      "D:\\Github\\GDataByGAgents\\src\\gbyg\\environment\\tools\\object_mover.py:67: UserWarning: Origin object Alex not found in Bedroom. Aborting change.\n",
      "  warnings.warn(f\"Origin object {object_name} not found in {original_place_name}. Aborting change.\")\n"
     ]
    },
    {
     "name": "stdout",
     "output_type": "stream",
     "text": [
      "sensor step|waiting for agent\n",
      "Current time: 1719486023.5\n",
      "env step|"
     ]
    },
    {
     "ename": "AttributeError",
     "evalue": "'NoneType' object has no attribute 'keys'",
     "output_type": "error",
     "traceback": [
      "\u001b[1;31m---------------------------------------------------------------------------\u001b[0m",
      "\u001b[1;31mAttributeError\u001b[0m                            Traceback (most recent call last)",
      "\u001b[1;32m<ipython-input-26-ef8ce0626867>\u001b[0m in \u001b[0;36m<module>\u001b[1;34m\u001b[0m\n\u001b[0;32m      5\u001b[0m \u001b[1;33m\u001b[0m\u001b[0m\n\u001b[0;32m      6\u001b[0m     \u001b[0mprint\u001b[0m\u001b[1;33m(\u001b[0m\u001b[1;34m\"env step|\"\u001b[0m\u001b[1;33m,\u001b[0m \u001b[0mend\u001b[0m\u001b[1;33m=\u001b[0m\u001b[1;34m\"\"\u001b[0m\u001b[1;33m)\u001b[0m\u001b[1;33m\u001b[0m\u001b[1;33m\u001b[0m\u001b[0m\n\u001b[1;32m----> 7\u001b[1;33m     \u001b[0mobsevation\u001b[0m \u001b[1;33m=\u001b[0m \u001b[0menv\u001b[0m\u001b[1;33m.\u001b[0m\u001b[0mstep\u001b[0m\u001b[1;33m(\u001b[0m\u001b[0magent_actions\u001b[0m\u001b[1;33m)\u001b[0m\u001b[1;33m\u001b[0m\u001b[1;33m\u001b[0m\u001b[0m\n\u001b[0m\u001b[0;32m      8\u001b[0m     \u001b[0malex_observation\u001b[0m \u001b[1;33m=\u001b[0m \u001b[0mobsevation\u001b[0m\u001b[1;33m[\u001b[0m\u001b[1;34m\"Alex\"\u001b[0m\u001b[1;33m]\u001b[0m\u001b[1;33m\u001b[0m\u001b[1;33m\u001b[0m\u001b[0m\n\u001b[0;32m      9\u001b[0m \u001b[1;33m\u001b[0m\u001b[0m\n",
      "\u001b[1;32mD:\\Github\\GDataByGAgents\\src\\gbyg\\environment\\environment.py\u001b[0m in \u001b[0;36mstep\u001b[1;34m(self, agents_action)\u001b[0m\n\u001b[0;32m     33\u001b[0m \u001b[1;33m\u001b[0m\u001b[0m\n\u001b[0;32m     34\u001b[0m             \u001b[1;32mfor\u001b[0m \u001b[0mobject_name\u001b[0m \u001b[1;32min\u001b[0m \u001b[0mtarget_result\u001b[0m\u001b[1;33m[\u001b[0m\u001b[1;34m\"objects\"\u001b[0m\u001b[1;33m]\u001b[0m\u001b[1;33m:\u001b[0m\u001b[1;33m\u001b[0m\u001b[1;33m\u001b[0m\u001b[0m\n\u001b[1;32m---> 35\u001b[1;33m                 \u001b[0mplace\u001b[0m \u001b[1;33m=\u001b[0m \u001b[0mnext\u001b[0m\u001b[1;33m(\u001b[0m\u001b[0miter\u001b[0m\u001b[1;33m(\u001b[0m\u001b[0mget_object_room\u001b[0m\u001b[1;33m(\u001b[0m\u001b[0mself\u001b[0m\u001b[1;33m.\u001b[0m\u001b[0m_environment_tree\u001b[0m\u001b[1;33m,\u001b[0m \u001b[0mobject_name\u001b[0m\u001b[1;33m)\u001b[0m\u001b[1;33m.\u001b[0m\u001b[0mkeys\u001b[0m\u001b[1;33m(\u001b[0m\u001b[1;33m)\u001b[0m\u001b[1;33m)\u001b[0m\u001b[1;33m)\u001b[0m\u001b[1;33m\u001b[0m\u001b[1;33m\u001b[0m\u001b[0m\n\u001b[0m\u001b[0;32m     36\u001b[0m                 \u001b[0mobject_object\u001b[0m \u001b[1;33m=\u001b[0m \u001b[0mget_object\u001b[0m\u001b[1;33m(\u001b[0m\u001b[0mself\u001b[0m\u001b[1;33m.\u001b[0m\u001b[0m_environment_tree\u001b[0m\u001b[1;33m,\u001b[0m \u001b[0mobject_name\u001b[0m\u001b[1;33m)\u001b[0m\u001b[1;33m\u001b[0m\u001b[1;33m\u001b[0m\u001b[0m\n\u001b[0;32m     37\u001b[0m \u001b[1;33m\u001b[0m\u001b[0m\n",
      "\u001b[1;31mAttributeError\u001b[0m: 'NoneType' object has no attribute 'keys'"
     ]
    }
   ],
   "source": [
    "while agent_time_memory.get_info() < simulation_end_time:\n",
    "    print(\"Current time:\", agent_time_memory.get_info())\n",
    "\n",
    "    #Step the env\n",
    "    agent_actions = {\"Alex\":action_memory.get_info()}\n",
    "\n",
    "    print(\"env step|\", end=\"\")\n",
    "    obsevation = env.step(agent_actions)\n",
    "    alex_observation = obsevation[\"Alex\"]\n",
    "\n",
    "    #Insert memories\n",
    "    last_memory_stream_size = len(memory_stream.get_info())\n",
    "\n",
    "    observation_memory = {\"type\": \"event\",\n",
    "        \"created\": agent_time_memory.get_info(),\n",
    "        \"description\": f\"Alex is {alex_observation['state']}\"}\n",
    "\n",
    "    memories_input_queue.append(observation_memory)\n",
    "\n",
    "    observation_memory = {\"type\": \"event\",\n",
    "        \"created\": agent_time_memory.get_info(),\n",
    "        \"description\": alex_observation['observation'],\n",
    "        \"last_acessed\":agent_time_memory.get_info()}\n",
    "\n",
    "    memories_input_queue.append(observation_memory)\n",
    "\n",
    "    current_state_memory.set_info(alex_observation[\"state\"])\n",
    "    current_observation_memory.set_info(alex_observation['observation'])\n",
    "    actual_place_memory.set_info(alex_observation[\"place\"])\n",
    "\n",
    "    #Update agent time\n",
    "    current_time = agent_time_memory.get_info()\n",
    "\n",
    "    if alex_observation[\"duration\"] == 0:\n",
    "        alex_observation[\"duration\"] = 1\n",
    "\n",
    "    current_time += alex_observation[\"duration\"]\n",
    "    agent_time_memory.set_info(current_time)\n",
    "\n",
    "    #Get sensor output\n",
    "    query = {\"action\":agent_actions[\"Alex\"],\n",
    "            \"state\":alex_observation['state'],\n",
    "            \"observation\":alex_observation['observation'],\n",
    "            \"last_acessed\":agent_time_memory.get_info()}\n",
    "\n",
    "    print(\"sensor step|\", end=\"\")\n",
    "    sensor_result, _ = sound_sensor(query)\n",
    "\n",
    "    #Wait for agent processing\n",
    "    print(\"waiting for agent\")\n",
    "    while action_memory.get_timestamp() == last_action_time or len(memory_stream.get_info()) < last_memory_stream_size+2:\n",
    "        time.sleep(0.1)\n",
    "\n",
    "    last_action_time = action_memory.get_timestamp()\n",
    "\n",
    "    dump_log(\"logs\")"
   ]
  },
  {
   "cell_type": "code",
   "execution_count": 27,
   "metadata": {},
   "outputs": [],
   "source": [
    "mind.shutdown()"
   ]
  }
 ],
 "metadata": {
  "kernelspec": {
   "display_name": "Python 3",
   "language": "python",
   "name": "python3"
  },
  "language_info": {
   "codemirror_mode": {
    "name": "ipython",
    "version": 3
   },
   "file_extension": ".py",
   "mimetype": "text/x-python",
   "name": "python",
   "nbconvert_exporter": "python",
   "pygments_lexer": "ipython3",
   "version": "3.8.5"
  }
 },
 "nbformat": 4,
 "nbformat_minor": 2
}
