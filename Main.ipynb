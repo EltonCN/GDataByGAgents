{
 "cells": [
  {
   "cell_type": "code",
   "execution_count": 1,
   "metadata": {},
   "outputs": [],
   "source": [
    "from __future__ import annotations\n",
    "\n",
    "import time\n",
    "import datetime\n",
    "import os\n",
    "import json\n",
    "from copy import deepcopy\n",
    "\n",
    "import numpy as np\n",
    "import cst_python as cst\n",
    "import toolpy as tp\n",
    "from toolpy.integrations import groq\n",
    "\n",
    "import gbyg as gg"
   ]
  },
  {
   "cell_type": "markdown",
   "metadata": {},
   "source": [
    "Define LLM to use:"
   ]
  },
  {
   "cell_type": "code",
   "execution_count": 2,
   "metadata": {},
   "outputs": [],
   "source": [
    "groq_interface = groq.GroqInterface(model=groq.GroqModel.LLAMA3_70B, n_retry=10)\n",
    "\n",
    "registry = tp.llm.LLMRegistry()\n",
    "registry.registry(model_name=\"llama3-70b\", interface=groq_interface, default=True)"
   ]
  },
  {
   "cell_type": "markdown",
   "metadata": {},
   "source": [
    "Create agent:"
   ]
  },
  {
   "cell_type": "code",
   "execution_count": 3,
   "metadata": {},
   "outputs": [],
   "source": [
    "importance_threshould = 1"
   ]
  },
  {
   "cell_type": "code",
   "execution_count": 4,
   "metadata": {},
   "outputs": [],
   "source": [
    "mind = cst.Mind()\n",
    "\n",
    "gg.agent.agent_constructor(mind, importance_threshould)\n",
    "\n",
    "for codelet in mind.code_rack.all_codelets:\n",
    "    codelet.time_step = 100\n",
    "\n",
    "memories_input = mind.raw_memory.get_all_of_type(\"MemoriesInput\")[0]\n",
    "memory_stream = mind.raw_memory.get_all_of_type(\"MemoryStream\")[0]\n",
    "agent_time_memory = mind.raw_memory.get_all_of_type(\"AgentTime\")[0]\n",
    "agent_info_memory = mind.raw_memory.get_all_of_type(\"AgentInfo\")[0]\n",
    "agent_summary_description = mind.raw_memory.get_all_of_type(\"AgentSummaryDescription\")[0]\n",
    "actual_place_memory = mind.raw_memory.get_all_of_type(\"ActualPlace\")[0]\n",
    "known_world = mind.raw_memory.get_all_of_type(\"KnownWorld\")[0]\n",
    "action_memory = mind.raw_memory.get_all_of_type(\"Action\")[0]\n",
    "current_observation_memory = mind.raw_memory.get_all_of_type(\"CurrentObservation\")[0]\n",
    "current_state_memory = mind.raw_memory.get_all_of_type(\"CurrentState\")[0]\n",
    "\n",
    "previous_day_summary = mind.raw_memory.get_all_of_type(\"PreviousDaySummary\")[0]\n",
    "plan = mind.raw_memory.get_all_of_type(\"Plan\")[0]"
   ]
  },
  {
   "cell_type": "markdown",
   "metadata": {},
   "source": [
    "Set initial agent info:"
   ]
  },
  {
   "cell_type": "code",
   "execution_count": 5,
   "metadata": {},
   "outputs": [
    {
     "data": {
      "text/plain": [
       "-1"
      ]
     },
     "execution_count": 5,
     "metadata": {},
     "output_type": "execute_result"
    }
   ],
   "source": [
    "agent_info_memory.set_info({\"name\":\"Alex\", \"age\":25, \"traits\":\"friendly, outgoing, hospitable\"})\n",
    "agent_time_memory.set_info(datetime.datetime.fromisoformat(\"2024-06-26T00:00:00\").timestamp())\n",
    "actual_place_memory.set_info(\"Bedroom\")"
   ]
  },
  {
   "cell_type": "code",
   "execution_count": 6,
   "metadata": {},
   "outputs": [],
   "source": [
    "mind.start()"
   ]
  },
  {
   "cell_type": "code",
   "execution_count": 7,
   "metadata": {},
   "outputs": [],
   "source": [
    "with open(\"data\\\\seed_memories.json\") as file:\n",
    "    seed_memories = json.load(file)\n",
    "\n",
    "input_memories = []\n",
    "for memory_name in seed_memories:\n",
    "    memory = {\"type\": \"reflection\",\n",
    "            \"created\": \"2024-01-01 08:00:00\",\n",
    "            \"description\": seed_memories[memory_name]}\n",
    "\n",
    "    input_memories.append(memory)\n",
    "\n",
    "with open(\"data\\\\yesterday_routine.json\") as file:\n",
    "  yesterday_memories = json.load(file) \n",
    "\n",
    "#input_memories += deepcopy(yesterday_memories)\n",
    "\n",
    "for m in input_memories:\n",
    "    m[\"created\"] = datetime.datetime.fromisoformat(m[\"created\"]).timestamp()\n",
    "    m[\"last_acessed\"] = m[\"created\"]"
   ]
  },
  {
   "cell_type": "code",
   "execution_count": 8,
   "metadata": {},
   "outputs": [
    {
     "name": "stderr",
     "output_type": "stream",
     "text": [
      "D:\\Github\\GDataByGAgents\\src\\gbyg\\agent\\retrieval\\recency_scorer_tool.py:32: RuntimeWarning: invalid value encountered in divide\n",
      "  scores = (scores-min_score)/(max_score-min_score)\n",
      "c:\\Python38\\lib\\site-packages\\sentence_transformers\\util.py:41: UserWarning: Creating a tensor from a list of numpy.ndarrays is extremely slow. Please consider converting the list to a single numpy.ndarray with numpy.array() before converting to a tensor. (Triggered internally at C:\\actions-runner\\_work\\pytorch\\pytorch\\builder\\windows\\pytorch\\torch\\csrc\\utils\\tensor_new.cpp:278.)\n",
      "  b = torch.tensor(b)\n"
     ]
    }
   ],
   "source": [
    "memories_input_queue = memories_input.get_info()\n",
    "for memory in input_memories:\n",
    "    memories_input_queue.append(memory)\n",
    "\n",
    "while len(memory_stream.get_info()) != len(input_memories):\n",
    "    time.sleep(0.1)"
   ]
  },
  {
   "cell_type": "markdown",
   "metadata": {},
   "source": [
    "Check stored memories:"
   ]
  },
  {
   "cell_type": "code",
   "execution_count": 9,
   "metadata": {},
   "outputs": [
    {
     "name": "stdout",
     "output_type": "stream",
     "text": [
      "1 (reflection): Alex is a 25-year-old photographer known for his friendly, outgoing, and hospitable nature | because of: \n",
      "2 (reflection): Alex is passionated about capturing moments through the lens has made him a well-respected figure in the local photography scene | because of: \n",
      "3 (reflection): Alex enjoys experimenting with different styles and techniques, constantly pushing the boundaries of his creativity. | because of: \n",
      "4 (reflection): Alex has a particular fondness for photographing nature, finding inspiration in the beauty of landscapes, wildlife, and natural light. | because of: \n",
      "5 (reflection): Alex is a social butterfly who thrives on meeting new people and making lasting connections. | because of: \n",
      "6 (reflection): Alex has a knack for making others feel welcome and comfortable, whether he's hosting a casual get-together or a larger event. | because of: \n",
      "7 (reflection): Alex is warmth and enthusiasm for life are evident in everything he does, making him a beloved presence in his community. | because of: \n"
     ]
    }
   ],
   "source": [
    "for memory in memory_stream.get_info():\n",
    "    because_of = \"\"\n",
    "    if 'because_of' in memory: \n",
    "        because_of = memory['because_of']\n",
    "\n",
    "    memory_str = f\"{memory['index']} ({memory['type']}): {memory['description']} | because of: {because_of}\"\n",
    "    print(memory_str)"
   ]
  },
  {
   "cell_type": "markdown",
   "metadata": {},
   "source": [
    "Generate previous day and agent summary:"
   ]
  },
  {
   "cell_type": "code",
   "execution_count": 10,
   "metadata": {},
   "outputs": [],
   "source": [
    "summary_function = gg.agent.summary.SummaryFunction()\n",
    "\n",
    "query = {\"query_statement\":\"Alex's previous day\",\n",
    "         \"statements\":json.dumps(yesterday_memories)}\n",
    "\n",
    "summary_result, _ = summary_function(query)\n",
    "\n",
    "summary = f'''Yesteday, 26 June {datetime.datetime.fromisoformat(yesterday_memories[0][\"created\"]).strftime(\"%d %B\")},\n",
    "{summary_result['description']}.\n",
    "Alex took several photos, preparing to later edit them and post them on social media.\n",
    "Alex now plans to stay home the entire day.'''"
   ]
  },
  {
   "cell_type": "code",
   "execution_count": 11,
   "metadata": {},
   "outputs": [
    {
     "name": "stdout",
     "output_type": "stream",
     "text": [
      "Name: Alex (age: 25)\n",
      "Innate traits: friendly, outgoing, hospitable\n",
      "Alex is a young and sociable photographer with a warm personality.\n",
      "Alex is a young photographer.\n",
      "No information provided about Alex's recent progress in life.\n"
     ]
    }
   ],
   "source": [
    "last_summary_time = agent_summary_description.get_timestamp()\n",
    "\n",
    "agent_time_memory.set_info(agent_time_memory.get_info()+gg.time_utils.TimeInterval.ONE_DAY)\n",
    "\n",
    "previous_day_summary_content = {\"summary\":summary,\n",
    "                                \"generated_time\":agent_time_memory.get_info()}\n",
    "\n",
    "previous_day_summary.set_info(previous_day_summary_content)\n",
    "\n",
    "while agent_summary_description.get_timestamp() == last_summary_time:\n",
    "    time.sleep(0.1)\n",
    "\n",
    "print(agent_summary_description.get_info()[\"summary\"])"
   ]
  },
  {
   "cell_type": "markdown",
   "metadata": {},
   "source": [
    "Wait for plan and check plan:"
   ]
  },
  {
   "cell_type": "code",
   "execution_count": 12,
   "metadata": {},
   "outputs": [],
   "source": [
    "while plan.get_info() == \"\":\n",
    "    time.sleep(0.1) "
   ]
  },
  {
   "cell_type": "code",
   "execution_count": 13,
   "metadata": {},
   "outputs": [],
   "source": [
    "#Remove fisrt hour actions to avoid infinity loop bellow\n",
    "while plan.get_info()[0][\"hour\"] == 0:\n",
    "    del plan.get_info()[0]"
   ]
  },
  {
   "cell_type": "code",
   "execution_count": 14,
   "metadata": {},
   "outputs": [
    {
     "name": "stdout",
     "output_type": "stream",
     "text": [
      "8:0: Wake up\n",
      "8:15: Have breakfast\n",
      "9:0: Get computer and necessary cables ready for editing\n",
      "9:10: Organize and import yesterday's photos to editing software\n",
      "9:30: Start editing photos\n",
      "12:0: Lunch break\n",
      "13:0: Respond to social media comments\n",
      "13:20: Post new content\n",
      "15:0: Continue editing photos\n",
      "15:10: Continue editing photos\n",
      "15:20: Continue editing photos\n",
      "15:30: Continue editing photos\n",
      "15:40: Continue editing photos\n",
      "15:50: Continue editing photos\n",
      "18:0: Take a break\n",
      "18:10: Read a book\n",
      "18:30: Have a snack\n",
      "20:0: Meditate\n",
      "20:10: Reflect on the day\n",
      "21:0: Write in journal\n",
      "22:0: Start winding down\n",
      "22:10: Begin nighttime routine\n",
      "22:20: Get into bed\n"
     ]
    }
   ],
   "source": [
    "for action in plan.get_info():\n",
    "    hour = action[\"hour\"]\n",
    "    minute = action[\"minute\"]\n",
    "    action_action = action[\"action\"]\n",
    "\n",
    "    print(f\"{hour}:{minute}: {action_action}\")"
   ]
  },
  {
   "cell_type": "markdown",
   "metadata": {},
   "source": [
    "Load environment:"
   ]
  },
  {
   "cell_type": "code",
   "execution_count": 15,
   "metadata": {},
   "outputs": [],
   "source": [
    "with open(\"data\\\\environment.json\") as file:\n",
    "    alex_house = json.load(file)\n",
    "\n",
    "alex = {\"name\":\"Alex\", \"type\":\"agent\", \"description\":\"human\", 'state':'sleeping in the bed.'}\n",
    "\n",
    "alex_house[\"Alex's House\"][\"Bedroom\"].append(alex)\n",
    "\n",
    "agent_names = [\"Alex\"]"
   ]
  },
  {
   "cell_type": "code",
   "execution_count": 16,
   "metadata": {},
   "outputs": [],
   "source": [
    "from collections import deque\n",
    "from copy import deepcopy\n",
    "\n",
    "known_world_tree = deepcopy(alex_house)\n",
    "\n",
    "stack = deque()\n",
    "for room_name in known_world_tree:\n",
    "    room = known_world_tree[room_name]\n",
    "    stack.append(room)\n",
    "\n",
    "while len(stack) > 0:\n",
    "    room = stack.pop()\n",
    "    if isinstance(room, list):\n",
    "        for object in room:\n",
    "            del object[\"state\"]\n",
    "    else:\n",
    "        for subroom_name in room:\n",
    "            subroom = room[subroom_name]\n",
    "            stack.append(subroom)"
   ]
  },
  {
   "cell_type": "code",
   "execution_count": 17,
   "metadata": {},
   "outputs": [
    {
     "data": {
      "text/plain": [
       "-1"
      ]
     },
     "execution_count": 17,
     "metadata": {},
     "output_type": "execute_result"
    }
   ],
   "source": [
    "known_world.set_info(known_world_tree)"
   ]
  },
  {
   "cell_type": "markdown",
   "metadata": {},
   "source": [
    "Agent initial state:"
   ]
  },
  {
   "cell_type": "code",
   "execution_count": 18,
   "metadata": {},
   "outputs": [],
   "source": [
    "observation_memory = {\"index\": 0,\n",
    "    \"type\": \"event\",\n",
    "    \"created\": agent_time_memory.get_info(),\n",
    "    \"description\": f\"Alex is {alex['state']}\"}\n",
    "\n",
    "input_memories.append(observation_memory)"
   ]
  },
  {
   "cell_type": "code",
   "execution_count": 19,
   "metadata": {},
   "outputs": [
    {
     "data": {
      "text/plain": [
       "''"
      ]
     },
     "execution_count": 19,
     "metadata": {},
     "output_type": "execute_result"
    }
   ],
   "source": [
    "action_memory.get_info()"
   ]
  },
  {
   "cell_type": "markdown",
   "metadata": {},
   "source": [
    "Get simulation information:"
   ]
  },
  {
   "cell_type": "code",
   "execution_count": 20,
   "metadata": {},
   "outputs": [],
   "source": [
    "first_action = plan.get_info()[0]\n",
    "last_action = plan.get_info()[-1]\n",
    "\n",
    "agent_time = agent_time_memory.get_info()\n",
    "\n",
    "now = datetime.datetime.fromtimestamp(agent_time)\n",
    "\n",
    "now = now.replace(hour=first_action[\"hour\"], minute=first_action[\"minute\"])\n",
    "agent_time_memory.set_info(now.timestamp())\n",
    "\n",
    "simulation_end_time = datetime.datetime.fromtimestamp(agent_time)\n",
    "simulation_end_time = simulation_end_time.replace(hour=last_action[\"hour\"], minute=last_action[\"minute\"]).timestamp()"
   ]
  },
  {
   "cell_type": "markdown",
   "metadata": {},
   "source": [
    "Wait for agent generate first action:"
   ]
  },
  {
   "cell_type": "code",
   "execution_count": 21,
   "metadata": {},
   "outputs": [],
   "source": [
    "while action_memory.get_info() == \"\":\n",
    "    time.sleep(0.1)\n",
    "\n",
    "last_action_time = action_memory.get_timestamp()"
   ]
  },
  {
   "cell_type": "markdown",
   "metadata": {},
   "source": [
    "Create environment:"
   ]
  },
  {
   "cell_type": "code",
   "execution_count": 22,
   "metadata": {},
   "outputs": [],
   "source": [
    "env = gg.environment.Environment(alex_house, agent_names)"
   ]
  },
  {
   "cell_type": "markdown",
   "metadata": {},
   "source": [
    "Log function:"
   ]
  },
  {
   "cell_type": "code",
   "execution_count": 23,
   "metadata": {},
   "outputs": [],
   "source": [
    "def encoder(obj):\n",
    "    if isinstance(obj, np.integer):\n",
    "            return int(obj)\n",
    "    elif isinstance(obj, np.floating):\n",
    "        return float(obj)\n",
    "    elif isinstance(obj, np.ndarray):\n",
    "        return []\n",
    "    \n",
    "    return obj.__dict__\n",
    "\n",
    "sensor_result = {}\n",
    "\n",
    "def dump_log(path:str):\n",
    "    log = {}\n",
    "    log[\"agent_time\"] = agent_time_memory.get_info()\n",
    "    log[\"action\"] = action_memory.get_info()\n",
    "    log[\"agent_summary_description\"] = agent_summary_description.get_info()\n",
    "    log[\"state\"] = current_state_memory.get_info()\n",
    "    log[\"curret_observation\"] = current_observation_memory.get_info()\n",
    "    log[\"current_place\"] = actual_place_memory.get_info()\n",
    "    log[\"sensor_result\"] = sensor_result\n",
    "    log[\"environment_tree\"] = env._environment_tree\n",
    "    log[\"plan\"] = plan.get_info()\n",
    "\n",
    "\n",
    "    log[\"memory_stream\"] = list(memory_stream.get_info())\n",
    "\n",
    "    if not os.path.isdir(path):\n",
    "        os.mkdir(path)\n",
    "\n",
    "    log_path = os.path.join(path, str(log[\"agent_time\"])+\".json\")\n",
    "    file = open(log_path, \"w\")\n",
    "    json.dump(log, file, default=encoder)\n",
    "    file.close()\n"
   ]
  },
  {
   "cell_type": "code",
   "execution_count": 24,
   "metadata": {},
   "outputs": [],
   "source": [
    "dump_log(\"logs\")"
   ]
  },
  {
   "cell_type": "markdown",
   "metadata": {},
   "source": [
    "Create sensor:"
   ]
  },
  {
   "cell_type": "code",
   "execution_count": 25,
   "metadata": {},
   "outputs": [],
   "source": [
    "sound_sensor = gg.sensors.SoundSensor()"
   ]
  },
  {
   "cell_type": "markdown",
   "metadata": {},
   "source": [
    "Simulate:"
   ]
  },
  {
   "cell_type": "code",
   "execution_count": 26,
   "metadata": {},
   "outputs": [
    {
     "name": "stdout",
     "output_type": "stream",
     "text": [
      "Current time: 1719486000.0\n",
      "env step|sensor step|waiting for agent\n",
      "Current time: 1719486001.0\n",
      "env step|"
     ]
    },
    {
     "name": "stderr",
     "output_type": "stream",
     "text": [
      "D:\\Github\\GDataByGAgents\\src\\gbyg\\environment\\tools\\object_mover.py:57: UserWarning: Place None not found. Aborting change.\n",
      "  warnings.warn(f\"Place {place} not found. Aborting change.\")\n"
     ]
    },
    {
     "name": "stdout",
     "output_type": "stream",
     "text": [
      "sensor step|waiting for agent\n",
      "Current time: 1719486003.0\n",
      "env step|sensor step|waiting for agent\n",
      "Current time: 1719486123.0\n",
      "env step|sensor step|waiting for agent\n",
      "Current time: 1719486123.5\n",
      "env step|sensor step|waiting for agent\n",
      "Current time: 1719486133.5\n",
      "env step|sensor step|waiting for agent\n",
      "Current time: 1719486135.5\n",
      "env step|sensor step|waiting for agent\n",
      "Current time: 1719486140.5\n",
      "env step|"
     ]
    },
    {
     "name": "stderr",
     "output_type": "stream",
     "text": [
      "D:\\Github\\GDataByGAgents\\src\\gbyg\\environment\\tools\\object_mover.py:67: UserWarning: Origin object Alex not found in Bedroom. Aborting change.\n",
      "  warnings.warn(f\"Origin object {object_name} not found in {original_place_name}. Aborting change.\")\n"
     ]
    },
    {
     "name": "stdout",
     "output_type": "stream",
     "text": [
      "sensor step|waiting for agent\n",
      "Current time: 1719486150.5\n",
      "env step|sensor step|waiting for agent\n",
      "Current time: 1719486152.5\n",
      "env step|sensor step|waiting for agent\n",
      "Current time: 1719486154.5\n",
      "env step|sensor step|waiting for agent\n",
      "Current time: 1719486159.5\n",
      "env step|sensor step|waiting for agent\n",
      "Current time: 1719486161.5\n",
      "env step|sensor step|waiting for agent\n",
      "Current time: 1719486166.5\n",
      "env step|sensor step|waiting for agent\n",
      "Current time: 1719486169.0\n",
      "env step|sensor step|waiting for agent\n",
      "Current time: 1719486171.0\n",
      "env step|sensor step|waiting for agent\n",
      "Current time: 1719486173.0\n",
      "env step|sensor step|waiting for agent\n",
      "Current time: 1719486175.0\n",
      "env step|sensor step|waiting for agent\n",
      "Current time: 1719486180.0\n",
      "env step|sensor step|waiting for agent\n",
      "Current time: 1719486480.0\n",
      "env step|sensor step|waiting for agent\n",
      "Current time: 1719486490.0\n",
      "env step|sensor step|waiting for agent\n",
      "Current time: 1719486492.0\n",
      "env step|sensor step|waiting for agent\n",
      "Current time: 1719488292.0\n",
      "env step|sensor step|waiting for agent\n",
      "Current time: 1719488294.5\n",
      "env step|sensor step|waiting for agent\n",
      "Current time: 1719488304.5\n",
      "env step|sensor step|waiting for agent\n",
      "Current time: 1719488334.5\n",
      "env step|sensor step|waiting for agent\n",
      "Current time: 1719488344.5\n",
      "env step|sensor step|waiting for agent\n",
      "Current time: 1719488346.5\n",
      "env step|sensor step|waiting for agent\n",
      "Current time: 1719488348.5\n",
      "env step|sensor step|waiting for agent\n",
      "Current time: 1719488358.5\n",
      "env step|"
     ]
    },
    {
     "name": "stderr",
     "output_type": "stream",
     "text": [
      "D:\\Github\\GDataByGAgents\\src\\gbyg\\environment\\tools\\object_mover.py:67: UserWarning: Origin object Alex not found in Living Room. Aborting change.\n",
      "  warnings.warn(f\"Origin object {object_name} not found in {original_place_name}. Aborting change.\")\n"
     ]
    },
    {
     "name": "stdout",
     "output_type": "stream",
     "text": [
      "sensor step|waiting for agent\n",
      "Current time: 1719488363.5\n",
      "env step|sensor step|waiting for agent\n",
      "Current time: 1719488963.5\n",
      "env step|sensor step|waiting for agent\n",
      "Current time: 1719488965.5\n",
      "env step|sensor step|waiting for agent\n",
      "Current time: 1719488975.5\n",
      "env step|sensor step|waiting for agent\n",
      "Current time: 1719488980.5\n",
      "env step|sensor step|waiting for agent\n",
      "Current time: 1719488981.5\n",
      "env step|sensor step|waiting for agent\n",
      "Current time: 1719488991.5\n",
      "env step|sensor step|waiting for agent\n",
      "Current time: 1719488996.5\n",
      "env step|sensor step|waiting for agent\n",
      "Current time: 1719490796.5\n",
      "env step|sensor step|waiting for agent\n",
      "Current time: 1719490826.5\n",
      "env step|sensor step|waiting for agent\n",
      "Current time: 1719494426.5\n",
      "env step|sensor step|waiting for agent\n",
      "Current time: 1719498026.5\n",
      "env step|sensor step|waiting for agent\n",
      "Current time: 1719498028.5\n",
      "env step|sensor step|waiting for agent\n",
      "Current time: 1719498058.5\n",
      "env step|sensor step|waiting for agent\n",
      "Current time: 1719498063.5\n",
      "env step|sensor step|waiting for agent\n",
      "Current time: 1719498064.5\n",
      "env step|sensor step|waiting for agent\n",
      "Current time: 1719498364.5\n",
      "env step|Error code: 429 - {'error': {'message': 'Rate limit reached for model `llama3-70b-8192` in organization `org_01hwass4mser7828brcc1jqbxv` on tokens per minute (TPM): Limit 6000, Used 0, Requested 6004. Please try again in 40ms. Visit https://console.groq.com/docs/rate-limits for more information.', 'type': 'tokens', 'code': 'rate_limit_exceeded'}}\n",
      "Error code: 429 - {'error': {'message': 'Rate limit reached for model `llama3-70b-8192` in organization `org_01hwass4mser7828brcc1jqbxv` on tokens per minute (TPM): Limit 6000, Used 0, Requested 6004. Please try again in 40ms. Visit https://console.groq.com/docs/rate-limits for more information.', 'type': 'tokens', 'code': 'rate_limit_exceeded'}}\n",
      "Error code: 429 - {'error': {'message': 'Rate limit reached for model `llama3-70b-8192` in organization `org_01hwass4mser7828brcc1jqbxv` on tokens per minute (TPM): Limit 6000, Used 0, Requested 6004. Please try again in 40ms. Visit https://console.groq.com/docs/rate-limits for more information.', 'type': 'tokens', 'code': 'rate_limit_exceeded'}}\n",
      "Error code: 429 - {'error': {'message': 'Rate limit reached for model `llama3-70b-8192` in organization `org_01hwass4mser7828brcc1jqbxv` on tokens per minute (TPM): Limit 6000, Used 0, Requested 6004. Please try again in 40ms. Visit https://console.groq.com/docs/rate-limits for more information.', 'type': 'tokens', 'code': 'rate_limit_exceeded'}}\n",
      "Error code: 429 - {'error': {'message': 'Rate limit reached for model `llama3-70b-8192` in organization `org_01hwass4mser7828brcc1jqbxv` on tokens per minute (TPM): Limit 6000, Used 0, Requested 6004. Please try again in 40ms. Visit https://console.groq.com/docs/rate-limits for more information.', 'type': 'tokens', 'code': 'rate_limit_exceeded'}}\n",
      "Error code: 429 - {'error': {'message': 'Rate limit reached for model `llama3-70b-8192` in organization `org_01hwass4mser7828brcc1jqbxv` on tokens per minute (TPM): Limit 6000, Used 0, Requested 6004. Please try again in 40ms. Visit https://console.groq.com/docs/rate-limits for more information.', 'type': 'tokens', 'code': 'rate_limit_exceeded'}}\n",
      "Error code: 429 - {'error': {'message': 'Rate limit reached for model `llama3-70b-8192` in organization `org_01hwass4mser7828brcc1jqbxv` on tokens per minute (TPM): Limit 6000, Used 0, Requested 6004. Please try again in 40ms. Visit https://console.groq.com/docs/rate-limits for more information.', 'type': 'tokens', 'code': 'rate_limit_exceeded'}}\n",
      "Error code: 429 - {'error': {'message': 'Rate limit reached for model `llama3-70b-8192` in organization `org_01hwass4mser7828brcc1jqbxv` on tokens per minute (TPM): Limit 6000, Used 0, Requested 6004. Please try again in 40ms. Visit https://console.groq.com/docs/rate-limits for more information.', 'type': 'tokens', 'code': 'rate_limit_exceeded'}}\n",
      "Error code: 429 - {'error': {'message': 'Rate limit reached for model `llama3-70b-8192` in organization `org_01hwass4mser7828brcc1jqbxv` on tokens per minute (TPM): Limit 6000, Used 0, Requested 6004. Please try again in 40ms. Visit https://console.groq.com/docs/rate-limits for more information.', 'type': 'tokens', 'code': 'rate_limit_exceeded'}}\n",
      "Error code: 429 - {'error': {'message': 'Rate limit reached for model `llama3-70b-8192` in organization `org_01hwass4mser7828brcc1jqbxv` on tokens per minute (TPM): Limit 6000, Used 0, Requested 6004. Please try again in 40ms. Visit https://console.groq.com/docs/rate-limits for more information.', 'type': 'tokens', 'code': 'rate_limit_exceeded'}}\n",
      "Error code: 429 - {'error': {'message': 'Rate limit reached for model `llama3-70b-8192` in organization `org_01hwass4mser7828brcc1jqbxv` on tokens per minute (TPM): Limit 6000, Used 0, Requested 6004. Please try again in 40ms. Visit https://console.groq.com/docs/rate-limits for more information.', 'type': 'tokens', 'code': 'rate_limit_exceeded'}}\n",
      "Error code: 429 - {'error': {'message': 'Rate limit reached for model `llama3-70b-8192` in organization `org_01hwass4mser7828brcc1jqbxv` on tokens per minute (TPM): Limit 6000, Used 0, Requested 6004. Please try again in 40ms. Visit https://console.groq.com/docs/rate-limits for more information.', 'type': 'tokens', 'code': 'rate_limit_exceeded'}}\n",
      "Error code: 429 - {'error': {'message': 'Rate limit reached for model `llama3-70b-8192` in organization `org_01hwass4mser7828brcc1jqbxv` on tokens per minute (TPM): Limit 6000, Used 0, Requested 6004. Please try again in 40ms. Visit https://console.groq.com/docs/rate-limits for more information.', 'type': 'tokens', 'code': 'rate_limit_exceeded'}}\n",
      "Error code: 429 - {'error': {'message': 'Rate limit reached for model `llama3-70b-8192` in organization `org_01hwass4mser7828brcc1jqbxv` on tokens per minute (TPM): Limit 6000, Used 0, Requested 6004. Please try again in 40ms. Visit https://console.groq.com/docs/rate-limits for more information.', 'type': 'tokens', 'code': 'rate_limit_exceeded'}}\n",
      "Error code: 429 - {'error': {'message': 'Rate limit reached for model `llama3-70b-8192` in organization `org_01hwass4mser7828brcc1jqbxv` on tokens per minute (TPM): Limit 6000, Used 0, Requested 6004. Please try again in 40ms. Visit https://console.groq.com/docs/rate-limits for more information.', 'type': 'tokens', 'code': 'rate_limit_exceeded'}}\n",
      "Error code: 429 - {'error': {'message': 'Rate limit reached for model `llama3-70b-8192` in organization `org_01hwass4mser7828brcc1jqbxv` on tokens per minute (TPM): Limit 6000, Used 0, Requested 6004. Please try again in 40ms. Visit https://console.groq.com/docs/rate-limits for more information.', 'type': 'tokens', 'code': 'rate_limit_exceeded'}}\n",
      "Error code: 429 - {'error': {'message': 'Rate limit reached for model `llama3-70b-8192` in organization `org_01hwass4mser7828brcc1jqbxv` on tokens per minute (TPM): Limit 6000, Used 0, Requested 6004. Please try again in 40ms. Visit https://console.groq.com/docs/rate-limits for more information.', 'type': 'tokens', 'code': 'rate_limit_exceeded'}}\n",
      "Error code: 429 - {'error': {'message': 'Rate limit reached for model `llama3-70b-8192` in organization `org_01hwass4mser7828brcc1jqbxv` on tokens per minute (TPM): Limit 6000, Used 0, Requested 6004. Please try again in 40ms. Visit https://console.groq.com/docs/rate-limits for more information.', 'type': 'tokens', 'code': 'rate_limit_exceeded'}}\n",
      "Error code: 429 - {'error': {'message': 'Rate limit reached for model `llama3-70b-8192` in organization `org_01hwass4mser7828brcc1jqbxv` on tokens per minute (TPM): Limit 6000, Used 0, Requested 6004. Please try again in 40ms. Visit https://console.groq.com/docs/rate-limits for more information.', 'type': 'tokens', 'code': 'rate_limit_exceeded'}}\n",
      "Error code: 429 - {'error': {'message': 'Rate limit reached for model `llama3-70b-8192` in organization `org_01hwass4mser7828brcc1jqbxv` on tokens per minute (TPM): Limit 6000, Used 0, Requested 6004. Please try again in 40ms. Visit https://console.groq.com/docs/rate-limits for more information.', 'type': 'tokens', 'code': 'rate_limit_exceeded'}}\n",
      "Error code: 429 - {'error': {'message': 'Rate limit reached for model `llama3-70b-8192` in organization `org_01hwass4mser7828brcc1jqbxv` on tokens per minute (TPM): Limit 6000, Used 0, Requested 6004. Please try again in 40ms. Visit https://console.groq.com/docs/rate-limits for more information.', 'type': 'tokens', 'code': 'rate_limit_exceeded'}}\n",
      "Error code: 429 - {'error': {'message': 'Rate limit reached for model `llama3-70b-8192` in organization `org_01hwass4mser7828brcc1jqbxv` on tokens per minute (TPM): Limit 6000, Used 0, Requested 6004. Please try again in 40ms. Visit https://console.groq.com/docs/rate-limits for more information.', 'type': 'tokens', 'code': 'rate_limit_exceeded'}}\n",
      "Error code: 429 - {'error': {'message': 'Rate limit reached for model `llama3-70b-8192` in organization `org_01hwass4mser7828brcc1jqbxv` on tokens per minute (TPM): Limit 6000, Used 0, Requested 6004. Please try again in 40ms. Visit https://console.groq.com/docs/rate-limits for more information.', 'type': 'tokens', 'code': 'rate_limit_exceeded'}}\n",
      "Error code: 429 - {'error': {'message': 'Rate limit reached for model `llama3-70b-8192` in organization `org_01hwass4mser7828brcc1jqbxv` on tokens per minute (TPM): Limit 6000, Used 0, Requested 6004. Please try again in 40ms. Visit https://console.groq.com/docs/rate-limits for more information.', 'type': 'tokens', 'code': 'rate_limit_exceeded'}}\n",
      "Error code: 429 - {'error': {'message': 'Rate limit reached for model `llama3-70b-8192` in organization `org_01hwass4mser7828brcc1jqbxv` on tokens per minute (TPM): Limit 6000, Used 0, Requested 6004. Please try again in 40ms. Visit https://console.groq.com/docs/rate-limits for more information.', 'type': 'tokens', 'code': 'rate_limit_exceeded'}}\n",
      "Error code: 429 - {'error': {'message': 'Rate limit reached for model `llama3-70b-8192` in organization `org_01hwass4mser7828brcc1jqbxv` on tokens per minute (TPM): Limit 6000, Used 0, Requested 6004. Please try again in 40ms. Visit https://console.groq.com/docs/rate-limits for more information.', 'type': 'tokens', 'code': 'rate_limit_exceeded'}}\n",
      "Error code: 429 - {'error': {'message': 'Rate limit reached for model `llama3-70b-8192` in organization `org_01hwass4mser7828brcc1jqbxv` on tokens per minute (TPM): Limit 6000, Used 0, Requested 6004. Please try again in 40ms. Visit https://console.groq.com/docs/rate-limits for more information.', 'type': 'tokens', 'code': 'rate_limit_exceeded'}}\n",
      "Error code: 429 - {'error': {'message': 'Rate limit reached for model `llama3-70b-8192` in organization `org_01hwass4mser7828brcc1jqbxv` on tokens per minute (TPM): Limit 6000, Used 0, Requested 6004. Please try again in 40ms. Visit https://console.groq.com/docs/rate-limits for more information.', 'type': 'tokens', 'code': 'rate_limit_exceeded'}}\n",
      "Error code: 429 - {'error': {'message': 'Rate limit reached for model `llama3-70b-8192` in organization `org_01hwass4mser7828brcc1jqbxv` on tokens per minute (TPM): Limit 6000, Used 0, Requested 6004. Please try again in 40ms. Visit https://console.groq.com/docs/rate-limits for more information.', 'type': 'tokens', 'code': 'rate_limit_exceeded'}}\n",
      "Error code: 429 - {'error': {'message': 'Rate limit reached for model `llama3-70b-8192` in organization `org_01hwass4mser7828brcc1jqbxv` on tokens per minute (TPM): Limit 6000, Used 0, Requested 6004. Please try again in 40ms. Visit https://console.groq.com/docs/rate-limits for more information.', 'type': 'tokens', 'code': 'rate_limit_exceeded'}}\n",
      "Error code: 429 - {'error': {'message': 'Rate limit reached for model `llama3-70b-8192` in organization `org_01hwass4mser7828brcc1jqbxv` on tokens per minute (TPM): Limit 6000, Used 0, Requested 6004. Please try again in 40ms. Visit https://console.groq.com/docs/rate-limits for more information.', 'type': 'tokens', 'code': 'rate_limit_exceeded'}}\n",
      "Error code: 429 - {'error': {'message': 'Rate limit reached for model `llama3-70b-8192` in organization `org_01hwass4mser7828brcc1jqbxv` on tokens per minute (TPM): Limit 6000, Used 0, Requested 6004. Please try again in 40ms. Visit https://console.groq.com/docs/rate-limits for more information.', 'type': 'tokens', 'code': 'rate_limit_exceeded'}}\n",
      "Error code: 429 - {'error': {'message': 'Rate limit reached for model `llama3-70b-8192` in organization `org_01hwass4mser7828brcc1jqbxv` on tokens per minute (TPM): Limit 6000, Used 0, Requested 6004. Please try again in 40ms. Visit https://console.groq.com/docs/rate-limits for more information.', 'type': 'tokens', 'code': 'rate_limit_exceeded'}}\n",
      "Error code: 429 - {'error': {'message': 'Rate limit reached for model `llama3-70b-8192` in organization `org_01hwass4mser7828brcc1jqbxv` on tokens per minute (TPM): Limit 6000, Used 0, Requested 6004. Please try again in 40ms. Visit https://console.groq.com/docs/rate-limits for more information.', 'type': 'tokens', 'code': 'rate_limit_exceeded'}}\n",
      "Error code: 429 - {'error': {'message': 'Rate limit reached for model `llama3-70b-8192` in organization `org_01hwass4mser7828brcc1jqbxv` on tokens per minute (TPM): Limit 6000, Used 0, Requested 6004. Please try again in 40ms. Visit https://console.groq.com/docs/rate-limits for more information.', 'type': 'tokens', 'code': 'rate_limit_exceeded'}}\n",
      "Error code: 429 - {'error': {'message': 'Rate limit reached for model `llama3-70b-8192` in organization `org_01hwass4mser7828brcc1jqbxv` on tokens per minute (TPM): Limit 6000, Used 0, Requested 6004. Please try again in 40ms. Visit https://console.groq.com/docs/rate-limits for more information.', 'type': 'tokens', 'code': 'rate_limit_exceeded'}}\n",
      "Error code: 429 - {'error': {'message': 'Rate limit reached for model `llama3-70b-8192` in organization `org_01hwass4mser7828brcc1jqbxv` on tokens per minute (TPM): Limit 6000, Used 0, Requested 6004. Please try again in 40ms. Visit https://console.groq.com/docs/rate-limits for more information.', 'type': 'tokens', 'code': 'rate_limit_exceeded'}}\n",
      "Error code: 429 - {'error': {'message': 'Rate limit reached for model `llama3-70b-8192` in organization `org_01hwass4mser7828brcc1jqbxv` on tokens per minute (TPM): Limit 6000, Used 0, Requested 6004. Please try again in 40ms. Visit https://console.groq.com/docs/rate-limits for more information.', 'type': 'tokens', 'code': 'rate_limit_exceeded'}}\n",
      "Error code: 429 - {'error': {'message': 'Rate limit reached for model `llama3-70b-8192` in organization `org_01hwass4mser7828brcc1jqbxv` on tokens per minute (TPM): Limit 6000, Used 0, Requested 6004. Please try again in 40ms. Visit https://console.groq.com/docs/rate-limits for more information.', 'type': 'tokens', 'code': 'rate_limit_exceeded'}}\n",
      "Error code: 429 - {'error': {'message': 'Rate limit reached for model `llama3-70b-8192` in organization `org_01hwass4mser7828brcc1jqbxv` on tokens per minute (TPM): Limit 6000, Used 0, Requested 6004. Please try again in 40ms. Visit https://console.groq.com/docs/rate-limits for more information.', 'type': 'tokens', 'code': 'rate_limit_exceeded'}}\n",
      "Error code: 429 - {'error': {'message': 'Rate limit reached for model `llama3-70b-8192` in organization `org_01hwass4mser7828brcc1jqbxv` on tokens per minute (TPM): Limit 6000, Used 0, Requested 6004. Please try again in 40ms. Visit https://console.groq.com/docs/rate-limits for more information.', 'type': 'tokens', 'code': 'rate_limit_exceeded'}}\n",
      "Error code: 429 - {'error': {'message': 'Rate limit reached for model `llama3-70b-8192` in organization `org_01hwass4mser7828brcc1jqbxv` on tokens per minute (TPM): Limit 6000, Used 0, Requested 6004. Please try again in 40ms. Visit https://console.groq.com/docs/rate-limits for more information.', 'type': 'tokens', 'code': 'rate_limit_exceeded'}}\n",
      "Error code: 429 - {'error': {'message': 'Rate limit reached for model `llama3-70b-8192` in organization `org_01hwass4mser7828brcc1jqbxv` on tokens per minute (TPM): Limit 6000, Used 0, Requested 6004. Please try again in 40ms. Visit https://console.groq.com/docs/rate-limits for more information.', 'type': 'tokens', 'code': 'rate_limit_exceeded'}}\n",
      "Error code: 429 - {'error': {'message': 'Rate limit reached for model `llama3-70b-8192` in organization `org_01hwass4mser7828brcc1jqbxv` on tokens per minute (TPM): Limit 6000, Used 0, Requested 6004. Please try again in 40ms. Visit https://console.groq.com/docs/rate-limits for more information.', 'type': 'tokens', 'code': 'rate_limit_exceeded'}}\n",
      "Error code: 429 - {'error': {'message': 'Rate limit reached for model `llama3-70b-8192` in organization `org_01hwass4mser7828brcc1jqbxv` on tokens per minute (TPM): Limit 6000, Used 0, Requested 6004. Please try again in 40ms. Visit https://console.groq.com/docs/rate-limits for more information.', 'type': 'tokens', 'code': 'rate_limit_exceeded'}}\n",
      "Error code: 429 - {'error': {'message': 'Rate limit reached for model `llama3-70b-8192` in organization `org_01hwass4mser7828brcc1jqbxv` on tokens per minute (TPM): Limit 6000, Used 0, Requested 6004. Please try again in 40ms. Visit https://console.groq.com/docs/rate-limits for more information.', 'type': 'tokens', 'code': 'rate_limit_exceeded'}}\n",
      "Error code: 429 - {'error': {'message': 'Rate limit reached for model `llama3-70b-8192` in organization `org_01hwass4mser7828brcc1jqbxv` on tokens per minute (TPM): Limit 6000, Used 0, Requested 6004. Please try again in 40ms. Visit https://console.groq.com/docs/rate-limits for more information.', 'type': 'tokens', 'code': 'rate_limit_exceeded'}}\n",
      "Error code: 429 - {'error': {'message': 'Rate limit reached for model `llama3-70b-8192` in organization `org_01hwass4mser7828brcc1jqbxv` on tokens per minute (TPM): Limit 6000, Used 0, Requested 6004. Please try again in 40ms. Visit https://console.groq.com/docs/rate-limits for more information.', 'type': 'tokens', 'code': 'rate_limit_exceeded'}}\n",
      "Error code: 429 - {'error': {'message': 'Rate limit reached for model `llama3-70b-8192` in organization `org_01hwass4mser7828brcc1jqbxv` on tokens per minute (TPM): Limit 6000, Used 0, Requested 6004. Please try again in 40ms. Visit https://console.groq.com/docs/rate-limits for more information.', 'type': 'tokens', 'code': 'rate_limit_exceeded'}}\n",
      "Error code: 429 - {'error': {'message': 'Rate limit reached for model `llama3-70b-8192` in organization `org_01hwass4mser7828brcc1jqbxv` on tokens per minute (TPM): Limit 6000, Used 0, Requested 6004. Please try again in 40ms. Visit https://console.groq.com/docs/rate-limits for more information.', 'type': 'tokens', 'code': 'rate_limit_exceeded'}}\n",
      "Error code: 429 - {'error': {'message': 'Rate limit reached for model `llama3-70b-8192` in organization `org_01hwass4mser7828brcc1jqbxv` on tokens per minute (TPM): Limit 6000, Used 0, Requested 6004. Please try again in 40ms. Visit https://console.groq.com/docs/rate-limits for more information.', 'type': 'tokens', 'code': 'rate_limit_exceeded'}}\n",
      "Error code: 429 - {'error': {'message': 'Rate limit reached for model `llama3-70b-8192` in organization `org_01hwass4mser7828brcc1jqbxv` on tokens per minute (TPM): Limit 6000, Used 0, Requested 6004. Please try again in 40ms. Visit https://console.groq.com/docs/rate-limits for more information.', 'type': 'tokens', 'code': 'rate_limit_exceeded'}}\n",
      "Error code: 429 - {'error': {'message': 'Rate limit reached for model `llama3-70b-8192` in organization `org_01hwass4mser7828brcc1jqbxv` on tokens per minute (TPM): Limit 6000, Used 0, Requested 6004. Please try again in 40ms. Visit https://console.groq.com/docs/rate-limits for more information.', 'type': 'tokens', 'code': 'rate_limit_exceeded'}}\n",
      "Error code: 429 - {'error': {'message': 'Rate limit reached for model `llama3-70b-8192` in organization `org_01hwass4mser7828brcc1jqbxv` on tokens per minute (TPM): Limit 6000, Used 0, Requested 6004. Please try again in 40ms. Visit https://console.groq.com/docs/rate-limits for more information.', 'type': 'tokens', 'code': 'rate_limit_exceeded'}}\n",
      "Error code: 429 - {'error': {'message': 'Rate limit reached for model `llama3-70b-8192` in organization `org_01hwass4mser7828brcc1jqbxv` on tokens per minute (TPM): Limit 6000, Used 0, Requested 6004. Please try again in 40ms. Visit https://console.groq.com/docs/rate-limits for more information.', 'type': 'tokens', 'code': 'rate_limit_exceeded'}}\n",
      "Error code: 429 - {'error': {'message': 'Rate limit reached for model `llama3-70b-8192` in organization `org_01hwass4mser7828brcc1jqbxv` on tokens per minute (TPM): Limit 6000, Used 0, Requested 6004. Please try again in 40ms. Visit https://console.groq.com/docs/rate-limits for more information.', 'type': 'tokens', 'code': 'rate_limit_exceeded'}}\n",
      "Error code: 429 - {'error': {'message': 'Rate limit reached for model `llama3-70b-8192` in organization `org_01hwass4mser7828brcc1jqbxv` on tokens per minute (TPM): Limit 6000, Used 0, Requested 6004. Please try again in 40ms. Visit https://console.groq.com/docs/rate-limits for more information.', 'type': 'tokens', 'code': 'rate_limit_exceeded'}}\n",
      "Error code: 429 - {'error': {'message': 'Rate limit reached for model `llama3-70b-8192` in organization `org_01hwass4mser7828brcc1jqbxv` on tokens per minute (TPM): Limit 6000, Used 0, Requested 6004. Please try again in 40ms. Visit https://console.groq.com/docs/rate-limits for more information.', 'type': 'tokens', 'code': 'rate_limit_exceeded'}}\n",
      "Error code: 429 - {'error': {'message': 'Rate limit reached for model `llama3-70b-8192` in organization `org_01hwass4mser7828brcc1jqbxv` on tokens per minute (TPM): Limit 6000, Used 0, Requested 6004. Please try again in 40ms. Visit https://console.groq.com/docs/rate-limits for more information.', 'type': 'tokens', 'code': 'rate_limit_exceeded'}}\n",
      "Error code: 429 - {'error': {'message': 'Rate limit reached for model `llama3-70b-8192` in organization `org_01hwass4mser7828brcc1jqbxv` on tokens per minute (TPM): Limit 6000, Used 0, Requested 6004. Please try again in 40ms. Visit https://console.groq.com/docs/rate-limits for more information.', 'type': 'tokens', 'code': 'rate_limit_exceeded'}}\n",
      "Error code: 429 - {'error': {'message': 'Rate limit reached for model `llama3-70b-8192` in organization `org_01hwass4mser7828brcc1jqbxv` on tokens per minute (TPM): Limit 6000, Used 0, Requested 6004. Please try again in 40ms. Visit https://console.groq.com/docs/rate-limits for more information.', 'type': 'tokens', 'code': 'rate_limit_exceeded'}}\n",
      "Error code: 429 - {'error': {'message': 'Rate limit reached for model `llama3-70b-8192` in organization `org_01hwass4mser7828brcc1jqbxv` on tokens per minute (TPM): Limit 6000, Used 0, Requested 6004. Please try again in 40ms. Visit https://console.groq.com/docs/rate-limits for more information.', 'type': 'tokens', 'code': 'rate_limit_exceeded'}}\n",
      "Error code: 429 - {'error': {'message': 'Rate limit reached for model `llama3-70b-8192` in organization `org_01hwass4mser7828brcc1jqbxv` on tokens per minute (TPM): Limit 6000, Used 0, Requested 6004. Please try again in 40ms. Visit https://console.groq.com/docs/rate-limits for more information.', 'type': 'tokens', 'code': 'rate_limit_exceeded'}}\n",
      "Error code: 429 - {'error': {'message': 'Rate limit reached for model `llama3-70b-8192` in organization `org_01hwass4mser7828brcc1jqbxv` on tokens per minute (TPM): Limit 6000, Used 0, Requested 6004. Please try again in 40ms. Visit https://console.groq.com/docs/rate-limits for more information.', 'type': 'tokens', 'code': 'rate_limit_exceeded'}}\n",
      "Error code: 429 - {'error': {'message': 'Rate limit reached for model `llama3-70b-8192` in organization `org_01hwass4mser7828brcc1jqbxv` on tokens per minute (TPM): Limit 6000, Used 0, Requested 6004. Please try again in 40ms. Visit https://console.groq.com/docs/rate-limits for more information.', 'type': 'tokens', 'code': 'rate_limit_exceeded'}}\n",
      "Error code: 429 - {'error': {'message': 'Rate limit reached for model `llama3-70b-8192` in organization `org_01hwass4mser7828brcc1jqbxv` on tokens per minute (TPM): Limit 6000, Used 0, Requested 6004. Please try again in 40ms. Visit https://console.groq.com/docs/rate-limits for more information.', 'type': 'tokens', 'code': 'rate_limit_exceeded'}}\n",
      "Error code: 429 - {'error': {'message': 'Rate limit reached for model `llama3-70b-8192` in organization `org_01hwass4mser7828brcc1jqbxv` on tokens per minute (TPM): Limit 6000, Used 0, Requested 6004. Please try again in 40ms. Visit https://console.groq.com/docs/rate-limits for more information.', 'type': 'tokens', 'code': 'rate_limit_exceeded'}}\n",
      "Error code: 429 - {'error': {'message': 'Rate limit reached for model `llama3-70b-8192` in organization `org_01hwass4mser7828brcc1jqbxv` on tokens per minute (TPM): Limit 6000, Used 0, Requested 6004. Please try again in 40ms. Visit https://console.groq.com/docs/rate-limits for more information.', 'type': 'tokens', 'code': 'rate_limit_exceeded'}}\n",
      "Error code: 429 - {'error': {'message': 'Rate limit reached for model `llama3-70b-8192` in organization `org_01hwass4mser7828brcc1jqbxv` on tokens per minute (TPM): Limit 6000, Used 0, Requested 6004. Please try again in 40ms. Visit https://console.groq.com/docs/rate-limits for more information.', 'type': 'tokens', 'code': 'rate_limit_exceeded'}}\n",
      "Error code: 429 - {'error': {'message': 'Rate limit reached for model `llama3-70b-8192` in organization `org_01hwass4mser7828brcc1jqbxv` on tokens per minute (TPM): Limit 6000, Used 0, Requested 6004. Please try again in 40ms. Visit https://console.groq.com/docs/rate-limits for more information.', 'type': 'tokens', 'code': 'rate_limit_exceeded'}}\n",
      "Error code: 429 - {'error': {'message': 'Rate limit reached for model `llama3-70b-8192` in organization `org_01hwass4mser7828brcc1jqbxv` on tokens per minute (TPM): Limit 6000, Used 0, Requested 6004. Please try again in 40ms. Visit https://console.groq.com/docs/rate-limits for more information.', 'type': 'tokens', 'code': 'rate_limit_exceeded'}}\n",
      "Error code: 429 - {'error': {'message': 'Rate limit reached for model `llama3-70b-8192` in organization `org_01hwass4mser7828brcc1jqbxv` on tokens per minute (TPM): Limit 6000, Used 0, Requested 6004. Please try again in 40ms. Visit https://console.groq.com/docs/rate-limits for more information.', 'type': 'tokens', 'code': 'rate_limit_exceeded'}}\n",
      "Error code: 429 - {'error': {'message': 'Rate limit reached for model `llama3-70b-8192` in organization `org_01hwass4mser7828brcc1jqbxv` on tokens per minute (TPM): Limit 6000, Used 0, Requested 6004. Please try again in 40ms. Visit https://console.groq.com/docs/rate-limits for more information.', 'type': 'tokens', 'code': 'rate_limit_exceeded'}}\n",
      "Error code: 429 - {'error': {'message': 'Rate limit reached for model `llama3-70b-8192` in organization `org_01hwass4mser7828brcc1jqbxv` on tokens per minute (TPM): Limit 6000, Used 0, Requested 6004. Please try again in 40ms. Visit https://console.groq.com/docs/rate-limits for more information.', 'type': 'tokens', 'code': 'rate_limit_exceeded'}}\n",
      "Error code: 429 - {'error': {'message': 'Rate limit reached for model `llama3-70b-8192` in organization `org_01hwass4mser7828brcc1jqbxv` on tokens per minute (TPM): Limit 6000, Used 0, Requested 6004. Please try again in 40ms. Visit https://console.groq.com/docs/rate-limits for more information.', 'type': 'tokens', 'code': 'rate_limit_exceeded'}}\n",
      "Error code: 429 - {'error': {'message': 'Rate limit reached for model `llama3-70b-8192` in organization `org_01hwass4mser7828brcc1jqbxv` on tokens per minute (TPM): Limit 6000, Used 0, Requested 6004. Please try again in 40ms. Visit https://console.groq.com/docs/rate-limits for more information.', 'type': 'tokens', 'code': 'rate_limit_exceeded'}}\n",
      "Error code: 429 - {'error': {'message': 'Rate limit reached for model `llama3-70b-8192` in organization `org_01hwass4mser7828brcc1jqbxv` on tokens per minute (TPM): Limit 6000, Used 0, Requested 6004. Please try again in 40ms. Visit https://console.groq.com/docs/rate-limits for more information.', 'type': 'tokens', 'code': 'rate_limit_exceeded'}}\n",
      "Error code: 429 - {'error': {'message': 'Rate limit reached for model `llama3-70b-8192` in organization `org_01hwass4mser7828brcc1jqbxv` on tokens per minute (TPM): Limit 6000, Used 0, Requested 6004. Please try again in 40ms. Visit https://console.groq.com/docs/rate-limits for more information.', 'type': 'tokens', 'code': 'rate_limit_exceeded'}}\n"
     ]
    }
   ],
   "source": [
    "while agent_time_memory.get_info() < simulation_end_time:\n",
    "    print(\"Current time:\", agent_time_memory.get_info())\n",
    "\n",
    "    #Step the env\n",
    "    agent_actions = {\"Alex\":action_memory.get_info()}\n",
    "\n",
    "    print(\"env step|\", end=\"\")\n",
    "    obsevation = env.step(agent_actions)\n",
    "    alex_observation = obsevation[\"Alex\"]\n",
    "\n",
    "    #Insert memories\n",
    "    last_memory_stream_size = len(memory_stream.get_info())\n",
    "\n",
    "    observation_memory = {\"type\": \"event\",\n",
    "        \"created\": agent_time_memory.get_info(),\n",
    "        \"description\": f\"Alex is {alex_observation['state']}\"}\n",
    "\n",
    "    memories_input_queue.append(observation_memory)\n",
    "\n",
    "    observation_memory = {\"type\": \"event\",\n",
    "        \"created\": agent_time_memory.get_info(),\n",
    "        \"description\": alex_observation['observation'],\n",
    "        \"last_acessed\":agent_time_memory.get_info()}\n",
    "\n",
    "    memories_input_queue.append(observation_memory)\n",
    "\n",
    "    current_state_memory.set_info(alex_observation[\"state\"])\n",
    "    current_observation_memory.set_info(alex_observation['observation'])\n",
    "    actual_place_memory.set_info(alex_observation[\"place\"])\n",
    "\n",
    "    #Update agent time\n",
    "    current_time = agent_time_memory.get_info()\n",
    "\n",
    "    if alex_observation[\"duration\"] == 0:\n",
    "        alex_observation[\"duration\"] = 1\n",
    "\n",
    "    current_time += alex_observation[\"duration\"]\n",
    "    agent_time_memory.set_info(current_time)\n",
    "\n",
    "    #Get sensor output\n",
    "    query = {\"action\":agent_actions[\"Alex\"],\n",
    "            \"state\":alex_observation['state'],\n",
    "            \"observation\":alex_observation['observation'],\n",
    "            \"last_acessed\":agent_time_memory.get_info()}\n",
    "\n",
    "    print(\"sensor step|\", end=\"\")\n",
    "    sensor_result, _ = sound_sensor(query)\n",
    "\n",
    "    #Wait for agent processing\n",
    "    print(\"waiting for agent\")\n",
    "    while action_memory.get_timestamp() == last_action_time or len(memory_stream.get_info()) < last_memory_stream_size+2:\n",
    "        time.sleep(0.1)\n",
    "\n",
    "    last_action_time = action_memory.get_timestamp()\n",
    "\n",
    "    dump_log(\"logs\")"
   ]
  },
  {
   "cell_type": "code",
   "execution_count": null,
   "metadata": {},
   "outputs": [],
   "source": [
    "mind.shutdown()"
   ]
  }
 ],
 "metadata": {
  "kernelspec": {
   "display_name": "Python 3",
   "language": "python",
   "name": "python3"
  },
  "language_info": {
   "codemirror_mode": {
    "name": "ipython",
    "version": 3
   },
   "file_extension": ".py",
   "mimetype": "text/x-python",
   "name": "python",
   "nbconvert_exporter": "python",
   "pygments_lexer": "ipython3",
   "version": "3.8.5"
  }
 },
 "nbformat": 4,
 "nbformat_minor": 2
}
