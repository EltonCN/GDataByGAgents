{
 "cells": [
  {
   "cell_type": "code",
   "execution_count": 1,
   "metadata": {},
   "outputs": [],
   "source": [
    "from __future__ import annotations\n",
    "\n",
    "import datetime\n",
    "from typing import List, Dict, Tuple\n",
    "\n",
    "import numpy as np\n",
    "import matplotlib.pyplot as plt\n",
    "import sentence_transformers\n",
    "\n",
    "import toolpy as tp\n",
    "import cst_python as cst\n",
    "from toolpy.tool.tool import TextLike\n",
    "from toolpy.integrations import groq"
   ]
  },
  {
   "cell_type": "code",
   "execution_count": 2,
   "metadata": {},
   "outputs": [],
   "source": [
    "groq_interface = groq.GroqInterface(model=groq.GroqModel.LLAMA3_70B, n_retry=5)\n",
    "\n",
    "registry = tp.llm.LLMRegistry()\n",
    "registry.registry(model_name=\"llama3-70b\", interface=groq_interface, default=True)"
   ]
  },
  {
   "cell_type": "code",
   "execution_count": 3,
   "metadata": {},
   "outputs": [],
   "source": [
    "input_memories  = [\n",
    "  {\n",
    "    \"index\": \"0\",\n",
    "    \"type\": \"event\",\n",
    "    \"created\": \"2024-06-01 08:00:00\",\n",
    "    \"description\": \"Alex attended a nature photography workshop in the city park.\",\n",
    "  },\n",
    "  {\n",
    "    \"index\": \"1\",\n",
    "    \"type\": \"thought\",\n",
    "    \"created\": \"2024-06-01 19:00:00\",\n",
    "    \"description\": \"Reflecting on the new techniques learned during the workshop, considering how to apply them in future projects.\",\n",
    "  },\n",
    "  {\n",
    "    \"index\": \"2\",\n",
    "    \"type\": \"event\",\n",
    "    \"created\": \"2024-06-05 10:00:00\",\n",
    "    \"description\": \"Alex completed a major software development project at work, delivering the final product to the client.\",\n",
    "  },\n",
    "  {\n",
    "    \"index\": \"3\",\n",
    "    \"type\": \"thought\",\n",
    "    \"created\": \"2024-06-05 20:00:00\",\n",
    "    \"description\": \"After delivering the project, Alex felt a sense of relief and accomplishment, thinking about the challenges overcome.\",\n",
    "  },\n",
    "  {\n",
    "    \"index\": \"4\",\n",
    "    \"type\": \"event\",\n",
    "    \"created\": \"2024-06-10 16:00:00\",\n",
    "    \"description\": \"Alex went on a weekend trip to explore a national park, taking photos of the wildlife and landscapes.\",\n",
    "  }\n",
    "]"
   ]
  },
  {
   "cell_type": "code",
   "execution_count": 102,
   "metadata": {},
   "outputs": [],
   "source": [
    "for m in input_memories:\n",
    "    m[\"last_acessed\"] = datetime.datetime.fromisoformat(m[\"created\"]).timestamp()\n"
   ]
  },
  {
   "cell_type": "code",
   "execution_count": 4,
   "metadata": {},
   "outputs": [],
   "source": [
    "class Embedder(tp.Tool):\n",
    "    _description = \"Creates text embeddings\"\n",
    "    _input_description = {\"texts\":\"list of texts to embed\"}\n",
    "    _return_description = {\"embeddings\":\"list of generated embeddings\"}\n",
    "\n",
    "    def __init__(self, embedder_model: str | None = None) -> None:\n",
    "        super().__init__(self._description, self._input_description)\n",
    "\n",
    "        if embedder_model is None:\n",
    "            embedder_model = \"all-MiniLM-L6-v2\"\n",
    "\n",
    "        self._embedder = sentence_transformers.SentenceTransformer(embedder_model)\n",
    "    \n",
    "    def _execute(self, query: Dict[str, str] | None, context: str | None) -> Tuple[Dict[str, TextLike], Dict[str, str]]:\n",
    "        texts = query[\"texts\"]\n",
    "        embeddings = self._embedder.encode(texts)\n",
    "\n",
    "        result = {\"embeddings\":embeddings}\n",
    "\n",
    "        return result, self._return_description"
   ]
  },
  {
   "cell_type": "code",
   "execution_count": 5,
   "metadata": {},
   "outputs": [],
   "source": [
    "embedder = Embedder()"
   ]
  },
  {
   "cell_type": "code",
   "execution_count": 6,
   "metadata": {},
   "outputs": [],
   "source": [
    "result, _ = embedder({\"texts\":[m[\"description\"] for m in input_memories]})"
   ]
  },
  {
   "cell_type": "code",
   "execution_count": 7,
   "metadata": {},
   "outputs": [
    {
     "data": {
      "text/plain": [
       "[{'index': '0',\n",
       "  'type': 'event',\n",
       "  'created': '2024-06-01 08:00:00',\n",
       "  'description': 'Alex attended a nature photography workshop in the city park.'},\n",
       " {'index': '1',\n",
       "  'type': 'thought',\n",
       "  'created': '2024-06-01 19:00:00',\n",
       "  'description': 'Reflecting on the new techniques learned during the workshop, considering how to apply them in future projects.'},\n",
       " {'index': '2',\n",
       "  'type': 'event',\n",
       "  'created': '2024-06-05 10:00:00',\n",
       "  'description': 'Alex completed a major software development project at work, delivering the final product to the client.'},\n",
       " {'index': '3',\n",
       "  'type': 'thought',\n",
       "  'created': '2024-06-05 20:00:00',\n",
       "  'description': 'After delivering the project, Alex felt a sense of relief and accomplishment, thinking about the challenges overcome.'},\n",
       " {'index': '4',\n",
       "  'type': 'event',\n",
       "  'created': '2024-06-10 16:00:00',\n",
       "  'description': 'Alex went on a weekend trip to explore a national park, taking photos of the wildlife and landscapes.'}]"
      ]
     },
     "execution_count": 7,
     "metadata": {},
     "output_type": "execute_result"
    }
   ],
   "source": [
    "input_memories"
   ]
  },
  {
   "cell_type": "code",
   "execution_count": 8,
   "metadata": {},
   "outputs": [],
   "source": [
    "memories = []\n",
    "\n",
    "for i in range(len(input_memories)):\n",
    "    memories.append(input_memories[i].copy())\n",
    "    memories[i][\"embedding\"] = result[\"embeddings\"][i]"
   ]
  },
  {
   "cell_type": "markdown",
   "metadata": {},
   "source": [
    "## Tools"
   ]
  },
  {
   "cell_type": "code",
   "execution_count": 9,
   "metadata": {},
   "outputs": [],
   "source": [
    "from typing import Dict, Tuple\n",
    "\n",
    "\n",
    "class MemoryImportanceScorer(tp.BasicTool):\n",
    "    _description = \"Evaluates the intrinsic importance of a memory, distinguishing between core memories and mundane memories\"\n",
    "    _input_description = {\"memory\":\"the memory description\"}\n",
    "\n",
    "    _system_message = '''You are a memory importance scorer that outputs in JSON.\n",
    "The JSON must use the schema: {'score':'float'}. \n",
    "\n",
    "Please use a valid JSON format.'''\n",
    "\n",
    "    _base_prompt = '''On the scale of 1 to 10, where 1 is purely mundane (e.g., brushing teeth, making bed) and 10 is extremely poignant (e.g., a break up, college acceptance), rate the likely poignancy of the following piece of memory.\n",
    "\n",
    "Memory: {memory}'''\n",
    "\n",
    "    _return_description = {'score':'the importance score for the memory'}\n",
    "\n",
    "    def __init__(self, model_name: str | None = None) -> None:\n",
    "        super().__init__(description=self._description, \n",
    "                         input_description=self._input_description, \n",
    "                         prompt_template=self._base_prompt, \n",
    "                         return_description=self._return_description, \n",
    "                         system_message=self._system_message,\n",
    "                         model_name=model_name,\n",
    "                         json_mode=True)\n",
    "        \n",
    "    def _execute(self, query: Dict[str, str], context: str) -> Tuple[Dict[str, TextLike], Dict[str, str]]:\n",
    "        result, return_description =  super()._execute(query, context)\n",
    "        \n",
    "        score = result[\"score\"]\n",
    "        norm_score = (score-1)/9\n",
    "        result[\"score\"] = norm_score\n",
    "    \n",
    "        return result, return_description\n",
    "        "
   ]
  },
  {
   "cell_type": "code",
   "execution_count": 10,
   "metadata": {},
   "outputs": [],
   "source": [
    "importance_scorer = MemoryImportanceScorer()"
   ]
  },
  {
   "cell_type": "code",
   "execution_count": 11,
   "metadata": {},
   "outputs": [],
   "source": [
    "scores = []\n",
    "\n",
    "for memory in memories:\n",
    "    result, _ = importance_scorer({\"memory\":memory[\"description\"]})\n",
    "    \n",
    "    memory[\"importance\"] = result[\"score\"]"
   ]
  },
  {
   "cell_type": "code",
   "execution_count": 15,
   "metadata": {},
   "outputs": [
    {
     "data": {
      "text/plain": [
       "[0.16666666666666666,\n",
       " 0.2777777777777778,\n",
       " 0.6888888888888889,\n",
       " 0.6111111111111112,\n",
       " 0.6111111111111112]"
      ]
     },
     "execution_count": 15,
     "metadata": {},
     "output_type": "execute_result"
    }
   ],
   "source": [
    "[m[\"importance\"] for m in memories]"
   ]
  },
  {
   "cell_type": "code",
   "execution_count": 37,
   "metadata": {},
   "outputs": [],
   "source": [
    "class MemoryRelevanceScorer(tp.Tool):\n",
    "    _description = \"Scores the contextual relevance of memories\"\n",
    "    _input_description = {\"query_memory\":\"single memory defining the context\", \"embeddings\":\"list of memories embeddings\"}\n",
    "    _return_description = {\"scores\":\"list of generated scores\"}\n",
    "\n",
    "    def __init__(self, embedder_model: str | None = None) -> None:\n",
    "        super().__init__(self._description, self._input_description)\n",
    "\n",
    "        if embedder_model is None:\n",
    "            embedder_model = \"all-MiniLM-L6-v2\"\n",
    "\n",
    "        self._embedder = sentence_transformers.SentenceTransformer(embedder_model)\n",
    "    \n",
    "    def _execute(self, query: Dict[str, str] | None, context: str | None) -> Tuple[Dict[str, TextLike], Dict[str, str]]:\n",
    "        query_memory = query[\"query_memory\"]\n",
    "        embeddings = query[\"embeddings\"]\n",
    "\n",
    "        query_embedding = self._embedder.encode(query_memory)\n",
    "\n",
    "        scores = sentence_transformers.util.cos_sim(query_embedding, embeddings)\n",
    "        scores = scores.numpy()[0]\n",
    "\n",
    "        result = {\"scores\":scores}\n",
    "\n",
    "        return result, self._return_description"
   ]
  },
  {
   "cell_type": "code",
   "execution_count": 38,
   "metadata": {},
   "outputs": [],
   "source": [
    "relevance_scorer = MemoryRelevanceScorer()"
   ]
  },
  {
   "cell_type": "code",
   "execution_count": 39,
   "metadata": {},
   "outputs": [],
   "source": [
    "embeddings = np.array([m[\"embedding\"] for m in memories])\n",
    "query_memory = \"What did Alex think about after attending the photography workshop?\""
   ]
  },
  {
   "cell_type": "code",
   "execution_count": 40,
   "metadata": {},
   "outputs": [],
   "source": [
    "relevance, _ = relevance_scorer({\"query_memory\":query_memory, \"embeddings\":embeddings})"
   ]
  },
  {
   "cell_type": "code",
   "execution_count": 41,
   "metadata": {},
   "outputs": [
    {
     "data": {
      "text/plain": [
       "{'scores': array([0.71101034, 0.27730334, 0.4607735 , 0.5811118 , 0.5151413 ],\n",
       "       dtype=float32)}"
      ]
     },
     "execution_count": 41,
     "metadata": {},
     "output_type": "execute_result"
    }
   ],
   "source": [
    "relevance"
   ]
  },
  {
   "cell_type": "code",
   "execution_count": 24,
   "metadata": {},
   "outputs": [],
   "source": [
    "class MemoryRelativeRecencyScorer(tp.Tool):\n",
    "    _description = \"Scores the relative recency of memories\"\n",
    "    _input_description = {\"timestamps\":\"memories last acess timestamps\"}\n",
    "    _return_description = {\"scores\":\"list of generated scores\"}\n",
    "\n",
    "    def __init__(self, decay_factor: float | None = None) -> None:\n",
    "        super().__init__(self._description, self._input_description)\n",
    "    \n",
    "        if decay_factor is None:\n",
    "            decay_factor = 0.995\n",
    "\n",
    "        self._decay_factor = decay_factor\n",
    "\n",
    "    def _execute(self, query: Dict[str, str] | None, context: str | None) -> Tuple[Dict[str, TextLike], Dict[str, str]]:\n",
    "        timestamps = np.array(query[\"timestamps\"], dtype=np.float32)\n",
    "        indexes = np.argsort(timestamps)\n",
    "        indexes = indexes[::-1]\n",
    "\n",
    "        scores = np.power(self._decay_factor, indexes)\n",
    "\n",
    "        max_score = scores.max()\n",
    "        min_score = scores.min()\n",
    "\n",
    "        scores = (scores-min_score)/(max_score-min_score)\n",
    "\n",
    "        result = {\"scores\":scores}\n",
    "\n",
    "        return result, self._return_description"
   ]
  },
  {
   "cell_type": "code",
   "execution_count": 26,
   "metadata": {},
   "outputs": [],
   "source": [
    "recency_scorer = MemoryRelativeRecencyScorer()\n",
    "recency, _ = recency_scorer({\"timestamps\":[m[\"last_acessed\"] for m in memories]})"
   ]
  },
  {
   "cell_type": "code",
   "execution_count": 27,
   "metadata": {},
   "outputs": [
    {
     "data": {
      "text/plain": [
       "[<matplotlib.lines.Line2D at 0x175986e1280>]"
      ]
     },
     "execution_count": 27,
     "metadata": {},
     "output_type": "execute_result"
    },
    {
     "data": {
      "image/png": "[encoded data removed]",
      "text/plain": [
       "<Figure size 432x288 with 1 Axes>"
      ]
     },
     "metadata": {
      "needs_background": "light"
     },
     "output_type": "display_data"
    }
   ],
   "source": [
    "last_acesseds = [m[\"last_acessed\"] for m in memories]\n",
    "\n",
    "plt.plot(last_acesseds, \"o\")"
   ]
  },
  {
   "cell_type": "code",
   "execution_count": 28,
   "metadata": {},
   "outputs": [
    {
     "data": {
      "image/png": "[encoded data removed]",
      "text/plain": [
       "<Figure size 432x288 with 1 Axes>"
      ]
     },
     "metadata": {
      "needs_background": "light"
     },
     "output_type": "display_data"
    }
   ],
   "source": [
    "plt.plot(recency[\"scores\"], \"o\")\n",
    "plt.show()"
   ]
  },
  {
   "cell_type": "markdown",
   "metadata": {},
   "source": [
    "## Codelets"
   ]
  },
  {
   "cell_type": "code",
   "execution_count": 59,
   "metadata": {},
   "outputs": [],
   "source": [
    "from collections import deque\n",
    "\n",
    "class EmbedderCodelet(cst.Codelet):\n",
    "    def __init__(self, embedder_model:str|None=None) -> None:\n",
    "        super().__init__()\n",
    "\n",
    "        self._embedder = Embedder(embedder_model)\n",
    "        self._last_process = 0\n",
    "\n",
    "    def access_memory_objects(self) -> None:\n",
    "        self._to_process_mo : cst.MemoryObject = self.get_input(name=\"MemoriesToEmbed\")\n",
    "        self._to_score_mo : cst.MemoryObject = self.get_output(name=\"MemoriesToScore\")\n",
    "\n",
    "    def calculate_activation(self) -> None:\n",
    "        pass\n",
    "\n",
    "    def proc(self) -> None:\n",
    "        memories_to_embbed : deque = self._to_process_mo.get_info()\n",
    "        n = len(memories_to_embbed)\n",
    "\n",
    "        if n == 0:\n",
    "            return\n",
    "\n",
    "        memories = []\n",
    "        for _ in range(n):\n",
    "            memory = memories_to_embbed.popleft()\n",
    "            memories.append(memory)\n",
    "\n",
    "        descriptions = [m['description'] for m in memories]\n",
    "        query = {\"texts\":descriptions}\n",
    "        result, _ = embedder(query)\n",
    "        embeddings = result[\"embeddings\"]\n",
    "        \n",
    "        to_score_queue : deque = self._to_score_mo.get_info()\n",
    "        for i in range(n):\n",
    "            memories[i][\"embedding\"] = embeddings[i]\n",
    "            to_score_queue.append(memories[i])\n",
    "\n",
    "        #Just to update timestamp\n",
    "        self._to_score_mo.set_info(to_score_queue)\n",
    "        "
   ]
  },
  {
   "cell_type": "code",
   "execution_count": 60,
   "metadata": {},
   "outputs": [],
   "source": [
    "class ImportanceScorerCodelet(cst.Codelet):\n",
    "    def __init__(self, model_name:str|None=None) -> None:\n",
    "        super().__init__()\n",
    "\n",
    "        self._importance_scorer = MemoryImportanceScorer(model_name)\n",
    "    \n",
    "    def access_memory_objects(self) -> None:\n",
    "        self._to_score_mo = self.get_input(name=\"MemoriesToScore\")\n",
    "        self._memory_stream_mo = self.get_output(name=\"MemoryStream\")\n",
    "\n",
    "    def calculate_activation(self) -> None:\n",
    "        pass\n",
    "\n",
    "    def proc(self) -> None:\n",
    "        memories_to_score : deque = self._to_score_mo.get_info()\n",
    "        memory_stream : List = self._memory_stream_mo.get_info()\n",
    "        n = len(memories_to_score)\n",
    "\n",
    "        for _ in range(n):\n",
    "            memory = memories_to_score.popleft()\n",
    "            query = {\"memory\":memory[\"description\"]}\n",
    "            result, _ = self._importance_scorer(query)\n",
    "            memory[\"importance\"] = result[\"score\"]\n",
    "\n",
    "            memory_stream.append(memory)\n",
    "\n",
    "        #Just to update timestamp\n",
    "        self._memory_stream_mo.set_info(memory_stream)\n"
   ]
  },
  {
   "cell_type": "code",
   "execution_count": 137,
   "metadata": {},
   "outputs": [],
   "source": [
    "class RetrievalCodelet(cst.Codelet):\n",
    "    def __init__(self, \n",
    "                 query_memory_mo:cst.MemoryObject, \n",
    "                 retrieved_memories_mo:cst.MemoryObject, \n",
    "                 n_to_retrieve:int=100,\n",
    "                 decay_factor:float|None=None, embedder_model:str|None = None) -> None:\n",
    "        super().__init__()\n",
    "        self.add_input(query_memory_mo)\n",
    "        self.add_output(retrieved_memories_mo)\n",
    "\n",
    "        self._query_memory_name = query_memory_mo.get_name()\n",
    "        self._retrieved_memories_name = retrieved_memories_mo.get_name()\n",
    "\n",
    "        self._n = n_to_retrieve\n",
    "        self._last_process = 0\n",
    "\n",
    "        self._recency_scorer = MemoryRelativeRecencyScorer(decay_factor)\n",
    "        self._relevance_scorer = MemoryRelevanceScorer(embedder_model)\n",
    "\n",
    "    def access_memory_objects(self) -> None:\n",
    "        self._query_memory_mo = self.get_input(name=self._query_memory_name)\n",
    "        self._memory_stream_mo = self.get_input(name=\"MemoryStream\")\n",
    "        self._retrieved_memories_mo = self.get_output(name=self._retrieved_memories_name)\n",
    "\n",
    "    def calculate_activation(self) -> None:\n",
    "        pass\n",
    "\n",
    "    def proc(self) -> None:\n",
    "        query_memory = self._query_memory_mo.get_info()\n",
    "        \n",
    "        if query_memory is None or query_memory == \"\":\n",
    "            return\n",
    "        if self._query_memory_mo.get_timestamp() <= self._last_process:\n",
    "            return\n",
    "\n",
    "        memory_stream : List = self._memory_stream_mo.get_info()\n",
    "        \n",
    "        importances = []\n",
    "        timestamps = []\n",
    "        embeddings = []\n",
    "\n",
    "        for memory in memory_stream:\n",
    "            importances.append(memory[\"importance\"])\n",
    "            timestamps.append(memory[\"last_acessed\"])\n",
    "            embeddings.append(memory[\"embedding\"])\n",
    "\n",
    "        importances = np.array(importances)\n",
    "\n",
    "        query = {\"timestamps\":timestamps}\n",
    "        result, _ = self._recency_scorer(query)\n",
    "        recencies = result[\"scores\"]\n",
    "\n",
    "        query = {\"query_memory\":query_memory[\"description\"], \"embeddings\":embeddings}\n",
    "        result, _ = self._relevance_scorer(query)\n",
    "        relevances = result[\"scores\"]\n",
    "\n",
    "        scores = importances + recencies + relevances\n",
    "        indexes = np.argpartition(scores, -self._n)[-self._n:]\n",
    "        \n",
    "        retrieved_memories = [memory_stream[i] for i in indexes]\n",
    "\n",
    "        self._retrieved_memories_mo.set_info(retrieved_memories)\n"
   ]
  },
  {
   "cell_type": "code",
   "execution_count": 138,
   "metadata": {},
   "outputs": [],
   "source": [
    "mind = cst.Mind()\n",
    "\n",
    "memories_input = mind.create_memory_object(\"MemoriesToEmbed\", deque())\n",
    "memories_to_score = mind.create_memory_object(\"MemoriesToScore\", deque())\n",
    "memory_stream = mind.create_memory_object(\"MemoryStream\", [])\n",
    "query_memory = mind.create_memory_object(\"QueryMemory\")\n",
    "retrieved_memories = mind.create_memory_object(\"RetrievedMemories\")\n",
    "\n",
    "embedder_codelet = EmbedderCodelet()\n",
    "embedder_codelet.add_input(memories_input)\n",
    "embedder_codelet.add_output(memories_to_score)\n",
    "\n",
    "scorer_codelet = ImportanceScorerCodelet()\n",
    "scorer_codelet.add_input(memories_to_score)\n",
    "scorer_codelet.add_output(memory_stream)\n",
    "\n",
    "retrieval_codelet = RetrievalCodelet(query_memory, retrieved_memories, n_to_retrieve=2)\n",
    "#retrieval_codelet.add_input(query_memory)\n",
    "retrieval_codelet.add_input(memory_stream)\n",
    "#retrieval_codelet.add_output(retrieved_memories)\n",
    "\n",
    "mind.insert_codelet(embedder_codelet)\n",
    "mind.insert_codelet(scorer_codelet)\n",
    "mind.insert_codelet(retrieval_codelet)\n",
    "\n",
    "for codelet in mind.code_rack.all_codelets:\n",
    "    codelet.time_step = 100\n",
    "\n",
    "mind.start()"
   ]
  },
  {
   "cell_type": "code",
   "execution_count": 139,
   "metadata": {},
   "outputs": [
    {
     "data": {
      "text/plain": [
       "[]"
      ]
     },
     "execution_count": 139,
     "metadata": {},
     "output_type": "execute_result"
    }
   ],
   "source": [
    "memory_stream.get_info()"
   ]
  },
  {
   "cell_type": "code",
   "execution_count": 140,
   "metadata": {},
   "outputs": [],
   "source": [
    "memories_input_queue : deque = memories_input.get_info()\n",
    "for memory in input_memories:\n",
    "    memories_input_queue.append(memory)"
   ]
  },
  {
   "cell_type": "code",
   "execution_count": 141,
   "metadata": {},
   "outputs": [
    {
     "data": {
      "text/plain": [
       "(5, 0.3888888888888889, True)"
      ]
     },
     "execution_count": 141,
     "metadata": {},
     "output_type": "execute_result"
    }
   ],
   "source": [
    "import time\n",
    "time.sleep(2)\n",
    "\n",
    "len(memory_stream.get_info()), memory_stream.get_info()[0][\"importance\"], \"embedding\" in memory_stream.get_info()[0]"
   ]
  },
  {
   "cell_type": "code",
   "execution_count": 142,
   "metadata": {},
   "outputs": [
    {
     "data": {
      "text/plain": [
       "''"
      ]
     },
     "execution_count": 142,
     "metadata": {},
     "output_type": "execute_result"
    }
   ],
   "source": [
    "retrieved_memories.get_info()"
   ]
  },
  {
   "cell_type": "code",
   "execution_count": 143,
   "metadata": {},
   "outputs": [
    {
     "data": {
      "text/plain": [
       "-1"
      ]
     },
     "execution_count": 143,
     "metadata": {},
     "output_type": "execute_result"
    }
   ],
   "source": [
    "query = {\"description\":\"What did Alex think about after attending the photography workshop?\"}\n",
    "\n",
    "query_memory.set_info(query)"
   ]
  },
  {
   "cell_type": "code",
   "execution_count": 147,
   "metadata": {},
   "outputs": [
    {
     "data": {
      "text/plain": [
       "['After delivering the project, Alex felt a sense of relief and accomplishment, thinking about the challenges overcome.',\n",
       " 'Alex went on a weekend trip to explore a national park, taking photos of the wildlife and landscapes.']"
      ]
     },
     "execution_count": 147,
     "metadata": {},
     "output_type": "execute_result"
    }
   ],
   "source": [
    "time.sleep(200/1000)\n",
    "[m[\"description\"] for m in retrieved_memories.get_info()]"
   ]
  },
  {
   "cell_type": "code",
   "execution_count": 145,
   "metadata": {},
   "outputs": [],
   "source": [
    "mind.shutdown()"
   ]
  }
 ],
 "metadata": {
  "kernelspec": {
   "display_name": "Python 3",
   "language": "python",
   "name": "python3"
  },
  "language_info": {
   "codemirror_mode": {
    "name": "ipython",
    "version": 3
   },
   "file_extension": ".py",
   "mimetype": "text/x-python",
   "name": "python",
   "nbconvert_exporter": "python",
   "pygments_lexer": "ipython3",
   "version": "3.8.5"
  }
 },
 "nbformat": 4,
 "nbformat_minor": 2
}
