{
 "cells": [
  {
   "cell_type": "code",
   "execution_count": 9,
   "metadata": {},
   "outputs": [],
   "source": [
    "from sentence_transformers import SentenceTransformer\n",
    "import datetime\n",
    "import json\n",
    "\n",
    "import associative_memory\n",
    "import perceive"
   ]
  },
  {
   "cell_type": "markdown",
   "metadata": {},
   "source": [
    "### Exemplo"
   ]
  },
  {
   "cell_type": "code",
   "execution_count": 4,
   "metadata": {},
   "outputs": [],
   "source": [
    "# Initialize the embeddings model\n",
    "model = SentenceTransformer('all-MiniLM-L6-v2')"
   ]
  },
  {
   "cell_type": "markdown",
   "metadata": {},
   "source": [
    "#### Sample nodes, kw_strength and embeddings"
   ]
  },
  {
   "cell_type": "code",
   "execution_count": 21,
   "metadata": {},
   "outputs": [],
   "source": [
    "# Sample data for nodes.json\n",
    "nodes_data ={\n",
    "  \"node_1\": {\n",
    "    \"node_count\": 1,\n",
    "    \"type_count\": 1,\n",
    "    \"type\": \"event\",\n",
    "    \"depth\": 0,\n",
    "    \"created\": \"2024-06-01 08:00:00\",\n",
    "    \"expiration\": None,\n",
    "    \"subject\": \"Alex\",\n",
    "    \"predicate\": \"attended\",\n",
    "    \"object\": \"photography workshop\",\n",
    "    \"description\": \"Alex attended a nature photography workshop in the city park.\",\n",
    "    \"embedding_key\": \"embedding_1\",\n",
    "    \"poignancy\": 8,\n",
    "    \"keywords\": [\"photography\", \"workshop\", \"nature\"],\n",
    "    \"filling\": []\n",
    "  },\n",
    "  \"node_2\": {\n",
    "    \"node_count\": 2,\n",
    "    \"type_count\": 1,\n",
    "    \"type\": \"thought\",\n",
    "    \"depth\": 1,\n",
    "    \"created\": \"2024-06-01 19:00:00\",\n",
    "    \"expiration\": None,\n",
    "    \"subject\": \"Alex\",\n",
    "    \"predicate\": \"thought\",\n",
    "    \"object\": \"about new photography techniques\",\n",
    "    \"description\": \"Reflecting on the new techniques learned during the workshop, considering how to apply them in future projects.\",\n",
    "    \"embedding_key\": \"embedding_2\",\n",
    "    \"poignancy\": 7,\n",
    "    \"keywords\": [\"photography\", \"learning\", \"techniques\"],\n",
    "    \"filling\": [\"node_1\"]\n",
    "  },\n",
    "  \"node_3\": {\n",
    "    \"node_count\": 3,\n",
    "    \"type_count\": 2,\n",
    "    \"type\": \"event\",\n",
    "    \"depth\": 0,\n",
    "    \"created\": \"2024-06-05 10:00:00\",\n",
    "    \"expiration\": None,\n",
    "    \"subject\": \"Alex\",\n",
    "    \"predicate\": \"completed\",\n",
    "    \"object\": \"software project\",\n",
    "    \"description\": \"Alex completed a major software development project at work, delivering the final product to the client.\",\n",
    "    \"embedding_key\": \"embedding_3\",\n",
    "    \"poignancy\": 9,\n",
    "    \"keywords\": [\"software\", \"project\", \"completion\"],\n",
    "    \"filling\": []\n",
    "  },\n",
    "  \"node_4\": {\n",
    "    \"node_count\": 4,\n",
    "    \"type_count\": 2,\n",
    "    \"type\": \"thought\",\n",
    "    \"depth\": 1,\n",
    "    \"created\": \"2024-06-05 20:00:00\",\n",
    "    \"expiration\": None,\n",
    "    \"subject\": \"Alex\",\n",
    "    \"predicate\": \"felt\",\n",
    "    \"object\": \"relief and accomplishment\",\n",
    "    \"description\": \"After delivering the project, Alex felt a sense of relief and accomplishment, thinking about the challenges overcome.\",\n",
    "    \"embedding_key\": \"embedding_4\",\n",
    "    \"poignancy\": 6,\n",
    "    \"keywords\": [\"relief\", \"accomplishment\", \"project\"],\n",
    "    \"filling\": [\"node_3\"]\n",
    "  },\n",
    "  \"node_5\": {\n",
    "    \"node_count\": 5,\n",
    "    \"type_count\": 3,\n",
    "    \"type\": \"event\",\n",
    "    \"depth\": 0,\n",
    "    \"created\": \"2024-06-10 16:00:00\",\n",
    "    \"expiration\": None,\n",
    "    \"subject\": \"Alex\",\n",
    "    \"predicate\": \"explored\",\n",
    "    \"object\": \"national park\",\n",
    "    \"description\": \"Alex went on a weekend trip to explore a national park, taking photos of the wildlife and landscapes.\",\n",
    "    \"embedding_key\": \"embedding_5\",\n",
    "    \"poignancy\": 8,\n",
    "    \"keywords\": [\"exploration\", \"photography\", \"nature\", \"trip\"],\n",
    "    \"filling\": []\n",
    "  }\n",
    "}\n",
    "\n",
    "# Generate embeddings for the descriptions\n",
    "embeddings_data = {\n",
    "    \"embedding_1\": model.encode(nodes_data[\"node_1\"][\"description\"]).tolist(),\n",
    "    \"embedding_2\": model.encode(nodes_data[\"node_2\"][\"description\"]).tolist(),\n",
    "    \"embedding_3\": model.encode(nodes_data[\"node_3\"][\"description\"]).tolist(),\n",
    "    \"embedding_4\": model.encode(nodes_data[\"node_4\"][\"description\"]).tolist(),\n",
    "    \"embedding_5\": model.encode(nodes_data[\"node_5\"][\"description\"]).tolist()\n",
    "}\n",
    "\n",
    "kw_strength_data = {\n",
    "    \"kw_strength_event\": {\n",
    "        \"photography\": 2,\n",
    "        \"workshop\": 1,\n",
    "        \"nature\": 2,\n",
    "        \"software\": 1,\n",
    "        \"project\": 1,\n",
    "        \"completion\": 1,\n",
    "        \"exploration\": 1,\n",
    "        \"trip\": 1\n",
    "    },\n",
    "    \"kw_strength_thought\": {\n",
    "        \"photography\": 1,\n",
    "        \"learning\": 1,\n",
    "        \"techniques\": 1,\n",
    "        \"relief\": 1,\n",
    "        \"accomplishment\": 1,\n",
    "        \"project\": 1\n",
    "    }\n",
    "}\n",
    "\n",
    "# Create initial files\n",
    "with open(\"nodes.json\", \"w\") as f:\n",
    "    json.dump(nodes_data, f)\n",
    "with open(\"embeddings.json\", \"w\") as f:\n",
    "    json.dump(embeddings_data, f)\n",
    "with open(\"kw_strength.json\", \"w\") as f:\n",
    "    json.dump(kw_strength_data, f)"
   ]
  },
  {
   "cell_type": "code",
   "execution_count": 15,
   "metadata": {},
   "outputs": [],
   "source": [
    "memory = associative_memory.AssociativeMemory(\".\")"
   ]
  },
  {
   "cell_type": "markdown",
   "metadata": {},
   "source": [
    "#### Persona class (o próximo passa será implementar a versão completa da classe)"
   ]
  },
  {
   "cell_type": "code",
   "execution_count": 16,
   "metadata": {},
   "outputs": [],
   "source": [
    "class Persona:\n",
    "    def __init__(self):\n",
    "        self.a_mem = memory\n",
    "        self.scratch = type('', (), {})()\n",
    "        self.scratch.recency_decay = 0.9\n",
    "        self.scratch.recency_w = 1.0\n",
    "        self.scratch.relevance_w = 1.0\n",
    "        self.scratch.importance_w = 1.0\n",
    "        self.scratch.curr_time = datetime.datetime.now()"
   ]
  },
  {
   "cell_type": "code",
   "execution_count": 17,
   "metadata": {},
   "outputs": [],
   "source": [
    "persona = Persona()"
   ]
  },
  {
   "cell_type": "markdown",
   "metadata": {},
   "source": [
    "#### Query to search for"
   ]
  },
  {
   "cell_type": "code",
   "execution_count": 18,
   "metadata": {},
   "outputs": [],
   "source": [
    "# Define focal points, a question about the memory of Alex\n",
    "focal_points = [\"What did Alex think about after attending the photography workshop?\"]"
   ]
  },
  {
   "cell_type": "markdown",
   "metadata": {},
   "source": [
    "Abaixo, vemos os scores para *recency*, *relevance* e *importance*, todos os scores estão normalizados entre 0 e 1. Memórias acessadas recentemente tem um score de *recency* mais alto. O score de *importance* é obtido a partir do parâmetro *poignancy*. O score de *relevance* é obtido a partir da similaridade de cosseno entre a query e o embedding da descrição dos nodes."
   ]
  },
  {
   "cell_type": "code",
   "execution_count": 19,
   "metadata": {},
   "outputs": [
    {
     "name": "stdout",
     "output_type": "stream",
     "text": [
      "Debug information for focal point: What did Alex think about after attending the photography workshop?\n",
      "\n",
      "Node Creation Datetime and Recency Scores:\n",
      "Node ID: node_1, Last Accessed: 2024-06-01 08:00:00, Recency Score: 0.0000\n",
      "Node ID: node_2, Last Accessed: 2024-06-01 19:00:00, Recency Score: 0.2120\n",
      "Node ID: node_3, Last Accessed: 2024-06-05 10:00:00, Recency Score: 0.4475\n",
      "Node ID: node_4, Last Accessed: 2024-06-05 20:00:00, Recency Score: 0.7092\n",
      "Node ID: node_5, Last Accessed: 2024-06-10 16:00:00, Recency Score: 1.0000\n",
      "\n",
      "Importance Scores:\n",
      "Node ID: node_1, Importance Score: 0.6667\n",
      "Node ID: node_2, Importance Score: 0.3333\n",
      "Node ID: node_3, Importance Score: 1.0000\n",
      "Node ID: node_4, Importance Score: 0.0000\n",
      "Node ID: node_5, Importance Score: 0.6667\n",
      "\n",
      "Relevance Scores:\n",
      "Node ID: node_1, Relevance Score: 1.0000\n",
      "Node ID: node_2, Relevance Score: 0.0000\n",
      "Node ID: node_3, Relevance Score: 0.4230\n",
      "Node ID: node_4, Relevance Score: 0.7005\n",
      "Node ID: node_5, Relevance Score: 0.5484\n",
      "\n",
      "Node Scores Breakdown:\n",
      "\n",
      "Node ID: node_1, Description: Alex attended a nature photography workshop in the city park.\n",
      "Combined Score: 4.3333\n",
      "Recency Score: 0.0000\n",
      "Importance Score: 1.3333\n",
      "Relevance Score: 3.0000\n",
      "\n",
      "Node ID: node_3, Description: Alex completed a major software development project at work, delivering the final product to the client.\n",
      "Combined Score: 3.4928\n",
      "Recency Score: 0.2238\n",
      "Importance Score: 2.0000\n",
      "Relevance Score: 1.2691\n",
      "\n",
      "Node ID: node_5, Description: Alex went on a weekend trip to explore a national park, taking photos of the wildlife and landscapes.\n",
      "Combined Score: 3.4785\n",
      "Recency Score: 0.5000\n",
      "Importance Score: 1.3333\n",
      "Relevance Score: 1.6452\n",
      "\n",
      "Node ID: node_4, Description: After delivering the project, Alex felt a sense of relief and accomplishment, thinking about the challenges overcome.\n",
      "Combined Score: 2.4561\n",
      "Recency Score: 0.3546\n",
      "Importance Score: 0.0000\n",
      "Relevance Score: 2.1015\n",
      "\n",
      "Node ID: node_2, Description: Reflecting on the new techniques learned during the workshop, considering how to apply them in future projects.\n",
      "Combined Score: 0.7727\n",
      "Recency Score: 0.1060\n",
      "Importance Score: 0.6667\n",
      "Relevance Score: 0.0000\n"
     ]
    }
   ],
   "source": [
    "retrieved_nodes = perceive.new_retrieve(persona, focal_points, debug=True)"
   ]
  },
  {
   "cell_type": "code",
   "execution_count": null,
   "metadata": {},
   "outputs": [],
   "source": []
  }
 ],
 "metadata": {
  "kernelspec": {
   "display_name": "venv",
   "language": "python",
   "name": "python3"
  },
  "language_info": {
   "codemirror_mode": {
    "name": "ipython",
    "version": 3
   },
   "file_extension": ".py",
   "mimetype": "text/x-python",
   "name": "python",
   "nbconvert_exporter": "python",
   "pygments_lexer": "ipython3",
   "version": "3.11.5"
  }
 },
 "nbformat": 4,
 "nbformat_minor": 2
}
