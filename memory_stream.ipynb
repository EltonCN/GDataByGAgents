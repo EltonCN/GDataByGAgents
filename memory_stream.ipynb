{
 "cells": [
  {
   "cell_type": "code",
   "execution_count": 1,
   "metadata": {},
   "outputs": [
    {
     "name": "stderr",
     "output_type": "stream",
     "text": [
      "c:\\Users\\weslley.santos\\Documents\\GDataByGAgents\\venv\\Lib\\site-packages\\sentence_transformers\\cross_encoder\\CrossEncoder.py:11: TqdmExperimentalWarning: Using `tqdm.autonotebook.tqdm` in notebook mode. Use `tqdm.tqdm` instead to force console mode (e.g. in jupyter console)\n",
      "  from tqdm.autonotebook import tqdm, trange\n"
     ]
    }
   ],
   "source": [
    "# from sentence_transformers import SentenceTransformer\n",
    "import datetime\n",
    "import json\n",
    "\n",
    "import associative_memory\n",
    "import perceive"
   ]
  },
  {
   "cell_type": "markdown",
   "metadata": {},
   "source": [
    "### Exemplo"
   ]
  },
  {
   "cell_type": "markdown",
   "metadata": {},
   "source": [
    "#### Sample nodes, kw_strength and embeddings"
   ]
  },
  {
   "cell_type": "code",
   "execution_count": 2,
   "metadata": {},
   "outputs": [
    {
     "name": "stderr",
     "output_type": "stream",
     "text": [
      "c:\\Users\\weslley.santos\\Documents\\GDataByGAgents\\venv\\Lib\\site-packages\\huggingface_hub\\file_download.py:1132: FutureWarning: `resume_download` is deprecated and will be removed in version 1.0.0. Downloads always resume when possible. If you want to force a new download, use `force_download=True`.\n",
      "  warnings.warn(\n"
     ]
    }
   ],
   "source": [
    "# Sample data for nodes.json\n",
    "nodes_data ={\n",
    "  \"node_1\": {\n",
    "    \"node_count\": 1,\n",
    "    \"type_count\": 1,\n",
    "    \"type\": \"event\",\n",
    "    \"depth\": 0,\n",
    "    \"created\": \"2024-06-01 08:00:00\",\n",
    "    \"expiration\": None,\n",
    "    \"subject\": \"Alex\",\n",
    "    \"predicate\": \"attended\",\n",
    "    \"object\": \"photography workshop\",\n",
    "    \"description\": \"Alex attended a nature photography workshop in the city park.\",\n",
    "    \"embedding_key\": \"embedding_1\",\n",
    "    \"importance\": 8,\n",
    "    \"keywords\": [\"photography\", \"workshop\", \"nature\"],\n",
    "    \"filling\": []\n",
    "  },\n",
    "  \"node_2\": {\n",
    "    \"node_count\": 2,\n",
    "    \"type_count\": 1,\n",
    "    \"type\": \"thought\",\n",
    "    \"depth\": 1,\n",
    "    \"created\": \"2024-06-01 19:00:00\",\n",
    "    \"expiration\": None,\n",
    "    \"subject\": \"Alex\",\n",
    "    \"predicate\": \"thought\",\n",
    "    \"object\": \"about new photography techniques\",\n",
    "    \"description\": \"Reflecting on the new techniques learned during the workshop, considering how to apply them in future projects.\",\n",
    "    \"embedding_key\": \"embedding_2\",\n",
    "    \"importance\": 7,\n",
    "    \"keywords\": [\"photography\", \"learning\", \"techniques\"],\n",
    "    \"filling\": [\"node_1\"]\n",
    "  },\n",
    "  \"node_3\": {\n",
    "    \"node_count\": 3,\n",
    "    \"type_count\": 2,\n",
    "    \"type\": \"event\",\n",
    "    \"depth\": 0,\n",
    "    \"created\": \"2024-06-05 10:00:00\",\n",
    "    \"expiration\": None,\n",
    "    \"subject\": \"Alex\",\n",
    "    \"predicate\": \"completed\",\n",
    "    \"object\": \"software project\",\n",
    "    \"description\": \"Alex completed a major software development project at work, delivering the final product to the client.\",\n",
    "    \"embedding_key\": \"embedding_3\",\n",
    "    \"importance\": 9,\n",
    "    \"keywords\": [\"software\", \"project\", \"completion\"],\n",
    "    \"filling\": []\n",
    "  },\n",
    "  \"node_4\": {\n",
    "    \"node_count\": 4,\n",
    "    \"type_count\": 2,\n",
    "    \"type\": \"thought\",\n",
    "    \"depth\": 1,\n",
    "    \"created\": \"2024-06-05 20:00:00\",\n",
    "    \"expiration\": None,\n",
    "    \"subject\": \"Alex\",\n",
    "    \"predicate\": \"felt\",\n",
    "    \"object\": \"relief and accomplishment\",\n",
    "    \"description\": \"After delivering the project, Alex felt a sense of relief and accomplishment, thinking about the challenges overcome.\",\n",
    "    \"embedding_key\": \"embedding_4\",\n",
    "    \"importance\": 6,\n",
    "    \"keywords\": [\"relief\", \"accomplishment\", \"project\"],\n",
    "    \"filling\": [\"node_3\"]\n",
    "  },\n",
    "  \"node_5\": {\n",
    "    \"node_count\": 5,\n",
    "    \"type_count\": 3,\n",
    "    \"type\": \"event\",\n",
    "    \"depth\": 0,\n",
    "    \"created\": \"2024-06-10 16:00:00\",\n",
    "    \"expiration\": None,\n",
    "    \"subject\": \"Alex\",\n",
    "    \"predicate\": \"explored\",\n",
    "    \"object\": \"national park\",\n",
    "    \"description\": \"Alex went on a weekend trip to explore a national park, taking photos of the wildlife and landscapes.\",\n",
    "    \"embedding_key\": \"embedding_5\",\n",
    "    \"importance\": 8,\n",
    "    \"keywords\": [\"exploration\", \"photography\", \"nature\", \"trip\"],\n",
    "    \"filling\": []\n",
    "  }\n",
    "}\n",
    "\n",
    "# Generate embeddings for the descriptions\n",
    "embeddings_data = {\n",
    "    \"embedding_1\": perceive.get_embedding(nodes_data[\"node_1\"][\"description\"]).tolist(),\n",
    "    \"embedding_2\": perceive.get_embedding(nodes_data[\"node_2\"][\"description\"]).tolist(),\n",
    "    \"embedding_3\": perceive.get_embedding(nodes_data[\"node_3\"][\"description\"]).tolist(),\n",
    "    \"embedding_4\": perceive.get_embedding(nodes_data[\"node_4\"][\"description\"]).tolist(),\n",
    "    \"embedding_5\": perceive.get_embedding(nodes_data[\"node_5\"][\"description\"]).tolist()\n",
    "}\n",
    "\n",
    "kw_strength_data = {\n",
    "    \"kw_strength_event\": {\n",
    "        \"photography\": 2,\n",
    "        \"workshop\": 1,\n",
    "        \"nature\": 2,\n",
    "        \"software\": 1,\n",
    "        \"project\": 1,\n",
    "        \"completion\": 1,\n",
    "        \"exploration\": 1,\n",
    "        \"trip\": 1\n",
    "    },\n",
    "    \"kw_strength_thought\": {\n",
    "        \"photography\": 1,\n",
    "        \"learning\": 1,\n",
    "        \"techniques\": 1,\n",
    "        \"relief\": 1,\n",
    "        \"accomplishment\": 1,\n",
    "        \"project\": 1\n",
    "    }\n",
    "}\n",
    "\n",
    "# Create initial files\n",
    "with open(\"nodes.json\", \"w\") as f:\n",
    "    json.dump(nodes_data, f)\n",
    "with open(\"embeddings.json\", \"w\") as f:\n",
    "    json.dump(embeddings_data, f)\n",
    "with open(\"kw_strength.json\", \"w\") as f:\n",
    "    json.dump(kw_strength_data, f)"
   ]
  },
  {
   "cell_type": "code",
   "execution_count": 3,
   "metadata": {},
   "outputs": [],
   "source": [
    "memory = associative_memory.AssociativeMemory(\".\")"
   ]
  },
  {
   "cell_type": "code",
   "execution_count": 4,
   "metadata": {},
   "outputs": [
    {
     "data": {
      "text/plain": [
       "{'techniques': [<associative_memory.ConceptNode at 0x1db0fe59910>],\n",
       " 'photography': [<associative_memory.ConceptNode at 0x1db0fe59910>],\n",
       " 'learning': [<associative_memory.ConceptNode at 0x1db0fe59910>],\n",
       " 'accomplishment': [<associative_memory.ConceptNode at 0x1db0dbaa950>],\n",
       " 'relief': [<associative_memory.ConceptNode at 0x1db0dbaa950>],\n",
       " 'project': [<associative_memory.ConceptNode at 0x1db0dbaa950>]}"
      ]
     },
     "execution_count": 4,
     "metadata": {},
     "output_type": "execute_result"
    }
   ],
   "source": [
    "memory.kw_to_thought"
   ]
  },
  {
   "cell_type": "code",
   "execution_count": 5,
   "metadata": {},
   "outputs": [
    {
     "data": {
      "text/plain": [
       "{<associative_memory.ConceptNode at 0x1db0dbaa950>,\n",
       " <associative_memory.ConceptNode at 0x1db0fe59910>}"
      ]
     },
     "execution_count": 5,
     "metadata": {},
     "output_type": "execute_result"
    }
   ],
   "source": [
    "memory.retrieve_relevant_thoughts(\"photography\", \"nature\", \"project\")"
   ]
  },
  {
   "cell_type": "code",
   "execution_count": 6,
   "metadata": {},
   "outputs": [
    {
     "data": {
      "text/plain": [
       "{'nature': [<associative_memory.ConceptNode at 0x1db0dbb4ed0>,\n",
       "  <associative_memory.ConceptNode at 0x1db0db942d0>],\n",
       " 'workshop': [<associative_memory.ConceptNode at 0x1db0db942d0>],\n",
       " 'photography': [<associative_memory.ConceptNode at 0x1db0dbb4ed0>,\n",
       "  <associative_memory.ConceptNode at 0x1db0db942d0>],\n",
       " 'software': [<associative_memory.ConceptNode at 0x1db0dbaa590>],\n",
       " 'completion': [<associative_memory.ConceptNode at 0x1db0dbaa590>],\n",
       " 'project': [<associative_memory.ConceptNode at 0x1db0dbaa590>],\n",
       " 'exploration': [<associative_memory.ConceptNode at 0x1db0dbb4ed0>],\n",
       " 'trip': [<associative_memory.ConceptNode at 0x1db0dbb4ed0>]}"
      ]
     },
     "execution_count": 6,
     "metadata": {},
     "output_type": "execute_result"
    }
   ],
   "source": [
    "memory.kw_to_event"
   ]
  },
  {
   "cell_type": "code",
   "execution_count": 7,
   "metadata": {},
   "outputs": [
    {
     "data": {
      "text/plain": [
       "{<associative_memory.ConceptNode at 0x1db0db942d0>,\n",
       " <associative_memory.ConceptNode at 0x1db0dbaa590>,\n",
       " <associative_memory.ConceptNode at 0x1db0dbb4ed0>}"
      ]
     },
     "execution_count": 7,
     "metadata": {},
     "output_type": "execute_result"
    }
   ],
   "source": [
    "memory.retrieve_relevant_events(\"photography\", \"nature\", \"project\")"
   ]
  },
  {
   "cell_type": "markdown",
   "metadata": {},
   "source": [
    "#### Persona class (o próximo passa será implementar a versão completa da classe)"
   ]
  },
  {
   "cell_type": "code",
   "execution_count": 8,
   "metadata": {},
   "outputs": [],
   "source": [
    "class Persona:\n",
    "    def __init__(self):\n",
    "        self.a_mem = memory\n",
    "        self.scratch = type('', (), {})()\n",
    "        self.scratch.recency_decay = 0.9\n",
    "        self.scratch.recency_w = 1.0\n",
    "        self.scratch.relevance_w = 1.0\n",
    "        self.scratch.importance_w = 1.0\n",
    "        self.scratch.curr_time = datetime.datetime.now()"
   ]
  },
  {
   "cell_type": "code",
   "execution_count": 9,
   "metadata": {},
   "outputs": [],
   "source": [
    "persona = Persona()"
   ]
  },
  {
   "cell_type": "markdown",
   "metadata": {},
   "source": [
    "#### Query to search for"
   ]
  },
  {
   "cell_type": "code",
   "execution_count": 10,
   "metadata": {},
   "outputs": [],
   "source": [
    "# Define focal points, a question about the memory of Alex\n",
    "focal_points = [\"What did Alex think about after attending the photography workshop?\"]"
   ]
  },
  {
   "cell_type": "markdown",
   "metadata": {},
   "source": [
    "Abaixo, vemos os scores para *recency*, *relevance* e *importance*, todos os scores estão normalizados entre 0 e 1. Memórias acessadas recentemente tem um score de *recency* mais alto. O score de *importance* é obtido a partir do parâmetro *poignancy*. O score de *relevance* é obtido a partir da similaridade de cosseno entre a query e o embedding da descrição dos nodes."
   ]
  },
  {
   "cell_type": "code",
   "execution_count": 11,
   "metadata": {},
   "outputs": [
    {
     "name": "stdout",
     "output_type": "stream",
     "text": [
      "Debug information for focal point: What did Alex think about after attending the photography workshop?\n",
      "\n",
      "Node Creation Datetime and Recency Scores:\n",
      "Node ID: node_1, Last Accessed: 2024-06-01 08:00:00, Recency Score: 0.0000\n",
      "Node ID: node_2, Last Accessed: 2024-06-01 19:00:00, Recency Score: 0.2120\n",
      "Node ID: node_3, Last Accessed: 2024-06-05 10:00:00, Recency Score: 0.4475\n",
      "Node ID: node_4, Last Accessed: 2024-06-05 20:00:00, Recency Score: 0.7092\n",
      "Node ID: node_5, Last Accessed: 2024-06-10 16:00:00, Recency Score: 1.0000\n",
      "\n",
      "Importance Scores:\n",
      "Node ID: node_1, Importance Score: 0.6667\n",
      "Node ID: node_2, Importance Score: 0.3333\n",
      "Node ID: node_3, Importance Score: 1.0000\n",
      "Node ID: node_4, Importance Score: 0.0000\n",
      "Node ID: node_5, Importance Score: 0.6667\n",
      "\n",
      "Relevance Scores:\n",
      "Node ID: node_1, Relevance Score: 1.0000\n",
      "Node ID: node_2, Relevance Score: 0.0000\n",
      "Node ID: node_3, Relevance Score: 0.4230\n",
      "Node ID: node_4, Relevance Score: 0.7005\n",
      "Node ID: node_5, Relevance Score: 0.5484\n",
      "\n",
      "Node Scores Breakdown:\n",
      "\n",
      "Node ID: node_5, Description: Alex went on a weekend trip to explore a national park, taking photos of the wildlife and landscapes.\n",
      "Combined Score: 2.2151\n",
      "Recency Score: 1.0000\n",
      "Importance Score: 0.6667\n",
      "Relevance Score: 0.5484\n",
      "\n",
      "Node ID: node_3, Description: Alex completed a major software development project at work, delivering the final product to the client.\n",
      "Combined Score: 1.8705\n",
      "Recency Score: 0.4475\n",
      "Importance Score: 1.0000\n",
      "Relevance Score: 0.4230\n",
      "\n",
      "Node ID: node_1, Description: Alex attended a nature photography workshop in the city park.\n",
      "Combined Score: 1.6667\n",
      "Recency Score: 0.0000\n",
      "Importance Score: 0.6667\n",
      "Relevance Score: 1.0000\n",
      "\n",
      "Node ID: node_4, Description: After delivering the project, Alex felt a sense of relief and accomplishment, thinking about the challenges overcome.\n",
      "Combined Score: 1.4097\n",
      "Recency Score: 0.7092\n",
      "Importance Score: 0.0000\n",
      "Relevance Score: 0.7005\n",
      "\n",
      "Node ID: node_2, Description: Reflecting on the new techniques learned during the workshop, considering how to apply them in future projects.\n",
      "Combined Score: 0.5453\n",
      "Recency Score: 0.2120\n",
      "Importance Score: 0.3333\n",
      "Relevance Score: 0.0000\n"
     ]
    }
   ],
   "source": [
    "retrieved_nodes = perceive.new_retrieve(persona, focal_points, debug=True)"
   ]
  },
  {
   "cell_type": "code",
   "execution_count": null,
   "metadata": {},
   "outputs": [],
   "source": []
  }
 ],
 "metadata": {
  "kernelspec": {
   "display_name": "venv",
   "language": "python",
   "name": "python3"
  },
  "language_info": {
   "codemirror_mode": {
    "name": "ipython",
    "version": 3
   },
   "file_extension": ".py",
   "mimetype": "text/x-python",
   "name": "python",
   "nbconvert_exporter": "python",
   "pygments_lexer": "ipython3",
   "version": "3.11.5"
  }
 },
 "nbformat": 4,
 "nbformat_minor": 2
}
