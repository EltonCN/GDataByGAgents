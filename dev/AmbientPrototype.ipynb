{
 "cells": [
  {
   "cell_type": "code",
   "execution_count": 1,
   "metadata": {},
   "outputs": [],
   "source": [
    "alex_house = {\n",
    "    \"Alex's House\": {\n",
    "        \"Living Room\": [\n",
    "            {\"name\": \"sofa\", \"description\": \"A comfortable, modern sofa perfect for relaxing or hosting friends.\"},\n",
    "            {\"name\": \"coffee table\", \"description\": \"A sleek coffee table with a few programming books and the latest tech magazines.\"},\n",
    "            {\"name\": \"television\", \"description\": \"A large smart TV, often used to watch tech talks or unwind with a show.\"},\n",
    "            {\"name\": \"bookshelf\", \"description\": \"A bookshelf filled with a mix of classic literature and technical manuals.\"},\n",
    "            {\"name\": \"rug\", \"description\": \"A soft rug that adds a touch of warmth to the living room.\"}\n",
    "        ],\n",
    "        \"Kitchen\": [\n",
    "            {\"name\": \"refrigerator\", \"description\": \"A high-tech refrigerator that keeps Alex's meals and snacks fresh.\"},\n",
    "            {\"name\": \"stove\", \"description\": \"A modern stove where Alex occasionally experiments with new recipes.\"},\n",
    "            {\"name\": \"microwave\", \"description\": \"A quick and efficient microwave for heating up meals.\"},\n",
    "            {\"name\": \"kitchen sink\", \"description\": \"A stainless steel sink, often filled with coffee mugs.\"},\n",
    "            {\"name\": \"dishwasher\", \"description\": \"A quiet dishwasher that handles the post-dinner cleanup.\"},\n",
    "            {\"name\": \"dining table\", \"description\": \"A minimalist dining table where Alex enjoys breakfast and dinner.\"},\n",
    "            {\"name\": \"chairs\", \"description\": \"Comfortable chairs around the dining table, perfect for meals or working on a laptop.\"}\n",
    "        ],\n",
    "        \"Bedroom\": [\n",
    "            {\"name\": \"bed\", \"description\": \"A cozy bed where Alex gets his much-needed rest.\"},\n",
    "            {\"name\": \"dresser\", \"description\": \"A dresser with neatly organized clothes, reflecting Alex's organized nature.\"},\n",
    "            {\"name\": \"nightstand\", \"description\": \"A nightstand with a lamp and a few personal items.\"},\n",
    "            {\"name\": \"closet\", \"description\": \"A spacious closet with casual and work clothes.\"},\n",
    "            {\"name\": \"desk\", \"description\": \"A small desk with a notebook and pens, used for jotting down late-night ideas.\"},\n",
    "            {\"name\": \"lamp\", \"description\": \"A bedside lamp for reading before bed.\"}\n",
    "        ],\n",
    "        \"Bathroom\": [\n",
    "            {\"name\": \"shower\", \"description\": \"A modern shower with various settings for a refreshing start to the day.\"},\n",
    "            {\"name\": \"bathroom sink\", \"description\": \"A clean sink with essential toiletries.\"},\n",
    "            {\"name\": \"toilet\", \"description\": \"A simple, modern toilet.\"},\n",
    "            {\"name\": \"mirror\", \"description\": \"A mirror above the sink, used for daily grooming.\"},\n",
    "            {\"name\": \"cabinet\", \"description\": \"A cabinet filled with towels and personal care items.\"}\n",
    "        ],\n",
    "        \"Home Office\": [\n",
    "            {\"name\": \"desk\", \"description\": \"A large desk with multiple monitors and a laptop, where Alex spends most of his working hours.\"},\n",
    "            {\"name\": \"computer\", \"description\": \"A powerful computer equipped with the latest software development tools.\"},\n",
    "            {\"name\": \"office chair\", \"description\": \"An ergonomic office chair to support long coding sessions.\"},\n",
    "            {\"name\": \"bookshelf\", \"description\": \"A bookshelf filled with programming books and reference materials.\"},\n",
    "            {\"name\": \"printer\", \"description\": \"A reliable printer for printing documents and designs.\"}\n",
    "        ]\n",
    "    }\n",
    "}"
   ]
  },
  {
   "cell_type": "code",
   "execution_count": 2,
   "metadata": {},
   "outputs": [],
   "source": [
    "class House:\n",
    "    def __init__(self, house_data):\n",
    "        self.house_data = house_data\n",
    "        self.rooms = house_data[\"Alex's House\"]\n",
    "        self.current_room = \"Living Room\"\n",
    "        self.locations = self._initialize_locations()\n",
    "\n",
    "    def _initialize_locations(self):\n",
    "        \"\"\"\n",
    "        Initializes a dictionary of locations representing the layout of the house.\n",
    "        Each location corresponds to a position in a room and contains details about the objects and events in that location.\n",
    "        \"\"\"\n",
    "        locations = {}\n",
    "        for room, objects in self.rooms.items():\n",
    "            room_locations = []\n",
    "            for obj in objects:\n",
    "                room_locations.append({\n",
    "                    'object': obj['object'],\n",
    "                    'description': obj['description'],\n",
    "                    'events': set()\n",
    "                })\n",
    "            locations[room] = room_locations\n",
    "        return locations\n",
    "    \n",
    "    def list_rooms(self):\n",
    "        \"\"\"\n",
    "        Lists all the rooms in the house.\n",
    "        \n",
    "        Returns:\n",
    "            list: List of room names.\n",
    "        \"\"\"\n",
    "        return list(self.rooms.keys())\n",
    "    \n",
    "    def list_objects_in_room(self, room_name=None):\n",
    "        \"\"\"\n",
    "        Lists all objects in a specified room or in the current room if no room_name is provided.\n",
    "        \n",
    "        Args:\n",
    "            room_name (str): The name of the room. Defaults to None.\n",
    "        \n",
    "        Returns:\n",
    "            list: List of objects in the specified room. Returns an empty list if the room does not exist.\n",
    "        \"\"\"\n",
    "        if room_name is None:\n",
    "            room_name = self.current_room\n",
    "        \n",
    "        if room_name in self.rooms:\n",
    "            return [item['object'] for item in self.rooms[room_name]]\n",
    "        else:\n",
    "            return []\n",
    "\n",
    "    def move_to_room(self, room_name):\n",
    "        \"\"\"\n",
    "        Moves the agent to the specified room.\n",
    "        \n",
    "        Args:\n",
    "            room_name (str): The name of the room.\n",
    "        \"\"\"\n",
    "        if room_name in self.rooms:\n",
    "            self.current_room = room_name\n",
    "        else:\n",
    "            print(f\"{room_name} does not exist in the house.\")\n",
    "\n",
    "    def add_event_to_object(self, obj, event):\n",
    "        \"\"\"\n",
    "        Adds an event to a specific object in the current room.\n",
    "        \n",
    "        Args:\n",
    "            obj (str): The name of the object.\n",
    "            event (str): The event to add.\n",
    "        \"\"\"\n",
    "        if obj in [item['object'] for item in self.rooms[self.current_room]]:\n",
    "            location = next(location for location in self.locations[self.current_room] if location['object'] == obj)\n",
    "            location['events'].add(event)\n",
    "            # Aqui, adicionaríamos a reação/ação do agente sobre o objeto\n",
    "            print(f\"Event '{event}' added to {obj} in the {self.current_room}.\")\n",
    "        else:\n",
    "            print(f\"The {obj} is not in the {self.current_room}.\")\n",
    "\n",
    "    def remove_event_from_object(self, obj, event):\n",
    "        \"\"\"\n",
    "        Removes an event from a specific object in the current room.\n",
    "        \n",
    "        Args:\n",
    "            obj (str): The name of the object.\n",
    "            event (str): The event to remove.\n",
    "        \"\"\"\n",
    "        if obj in [item['object'] for item in self.rooms[self.current_room]]:\n",
    "            location = next(location for location in self.locations[self.current_room] if location['object'] == obj)\n",
    "            if event in location['events']:\n",
    "                location['events'].remove(event)\n",
    "                print(f\"Event '{event}' removed from {obj} in the {self.current_room}.\")\n",
    "            else:\n",
    "                print(f\"The event '{event}' is not associated with the {obj}.\")\n",
    "        else:\n",
    "            print(f\"The {obj} is not in the {self.current_room}.\")"
   ]
  },
  {
   "cell_type": "code",
   "execution_count": 3,
   "metadata": {},
   "outputs": [],
   "source": [
    "house = House(alex_house)"
   ]
  },
  {
   "cell_type": "code",
   "execution_count": 4,
   "metadata": {},
   "outputs": [
    {
     "data": {
      "text/plain": [
       "{'Living Room': [{'object': 'sofa',\n",
       "   'description': 'A comfortable, modern sofa perfect for relaxing or hosting friends.',\n",
       "   'events': set()},\n",
       "  {'object': 'coffee table',\n",
       "   'description': 'A sleek coffee table with a few programming books and the latest tech magazines.',\n",
       "   'events': set()},\n",
       "  {'object': 'television',\n",
       "   'description': 'A large smart TV, often used to watch tech talks or unwind with a show.',\n",
       "   'events': set()},\n",
       "  {'object': 'bookshelf',\n",
       "   'description': 'A bookshelf filled with a mix of classic literature and technical manuals.',\n",
       "   'events': set()},\n",
       "  {'object': 'rug',\n",
       "   'description': 'A soft rug that adds a touch of warmth to the living room.',\n",
       "   'events': set()}],\n",
       " 'Kitchen': [{'object': 'refrigerator',\n",
       "   'description': \"A high-tech refrigerator that keeps Alex's meals and snacks fresh.\",\n",
       "   'events': set()},\n",
       "  {'object': 'stove',\n",
       "   'description': 'A modern stove where Alex occasionally experiments with new recipes.',\n",
       "   'events': set()},\n",
       "  {'object': 'microwave',\n",
       "   'description': 'A quick and efficient microwave for heating up meals.',\n",
       "   'events': set()},\n",
       "  {'object': 'kitchen sink',\n",
       "   'description': 'A stainless steel sink, often filled with coffee mugs.',\n",
       "   'events': set()},\n",
       "  {'object': 'dishwasher',\n",
       "   'description': 'A quiet dishwasher that handles the post-dinner cleanup.',\n",
       "   'events': set()},\n",
       "  {'object': 'dining table',\n",
       "   'description': 'A minimalist dining table where Alex enjoys breakfast and dinner.',\n",
       "   'events': set()},\n",
       "  {'object': 'chairs',\n",
       "   'description': 'Comfortable chairs around the dining table, perfect for meals or working on a laptop.',\n",
       "   'events': set()}],\n",
       " 'Bedroom': [{'object': 'bed',\n",
       "   'description': 'A cozy bed where Alex gets his much-needed rest.',\n",
       "   'events': set()},\n",
       "  {'object': 'dresser',\n",
       "   'description': \"A dresser with neatly organized clothes, reflecting Alex's organized nature.\",\n",
       "   'events': set()},\n",
       "  {'object': 'nightstand',\n",
       "   'description': 'A nightstand with a lamp and a few personal items.',\n",
       "   'events': set()},\n",
       "  {'object': 'closet',\n",
       "   'description': 'A spacious closet with casual and work clothes.',\n",
       "   'events': set()},\n",
       "  {'object': 'desk',\n",
       "   'description': 'A small desk with a notebook and pens, used for jotting down late-night ideas.',\n",
       "   'events': set()},\n",
       "  {'object': 'lamp',\n",
       "   'description': 'A bedside lamp for reading before bed.',\n",
       "   'events': set()}],\n",
       " 'Bathroom': [{'object': 'shower',\n",
       "   'description': 'A modern shower with various settings for a refreshing start to the day.',\n",
       "   'events': set()},\n",
       "  {'object': 'bathroom sink',\n",
       "   'description': 'A clean sink with essential toiletries.',\n",
       "   'events': set()},\n",
       "  {'object': 'toilet',\n",
       "   'description': 'A simple, modern toilet.',\n",
       "   'events': set()},\n",
       "  {'object': 'mirror',\n",
       "   'description': 'A mirror above the sink, used for daily grooming.',\n",
       "   'events': set()},\n",
       "  {'object': 'cabinet',\n",
       "   'description': 'A cabinet filled with towels and personal care items.',\n",
       "   'events': set()}],\n",
       " 'Home Office': [{'object': 'desk',\n",
       "   'description': 'A large desk with multiple monitors and a laptop, where Alex spends most of his working hours.',\n",
       "   'events': set()},\n",
       "  {'object': 'computer',\n",
       "   'description': 'A powerful computer equipped with the latest software development tools.',\n",
       "   'events': set()},\n",
       "  {'object': 'office chair',\n",
       "   'description': 'An ergonomic office chair to support long coding sessions.',\n",
       "   'events': set()},\n",
       "  {'object': 'bookshelf',\n",
       "   'description': 'A bookshelf filled with programming books and reference materials.',\n",
       "   'events': set()},\n",
       "  {'object': 'printer',\n",
       "   'description': 'A reliable printer for printing documents and designs.',\n",
       "   'events': set()}]}"
      ]
     },
     "execution_count": 4,
     "metadata": {},
     "output_type": "execute_result"
    }
   ],
   "source": [
    "house.locations"
   ]
  },
  {
   "cell_type": "code",
   "execution_count": 5,
   "metadata": {},
   "outputs": [
    {
     "data": {
      "text/plain": [
       "['Living Room', 'Kitchen', 'Bedroom', 'Bathroom', 'Home Office']"
      ]
     },
     "execution_count": 5,
     "metadata": {},
     "output_type": "execute_result"
    }
   ],
   "source": [
    "house.list_rooms()"
   ]
  },
  {
   "cell_type": "code",
   "execution_count": 6,
   "metadata": {},
   "outputs": [
    {
     "data": {
      "text/plain": [
       "['sofa', 'coffee table', 'television', 'bookshelf', 'rug']"
      ]
     },
     "execution_count": 6,
     "metadata": {},
     "output_type": "execute_result"
    }
   ],
   "source": [
    "house.list_objects_in_room()"
   ]
  },
  {
   "cell_type": "code",
   "execution_count": 7,
   "metadata": {},
   "outputs": [],
   "source": [
    "house.move_to_room(\"Kitchen\")"
   ]
  },
  {
   "cell_type": "code",
   "execution_count": 8,
   "metadata": {},
   "outputs": [
    {
     "data": {
      "text/plain": [
       "['refrigerator',\n",
       " 'stove',\n",
       " 'microwave',\n",
       " 'kitchen sink',\n",
       " 'dishwasher',\n",
       " 'dining table',\n",
       " 'chairs']"
      ]
     },
     "execution_count": 8,
     "metadata": {},
     "output_type": "execute_result"
    }
   ],
   "source": [
    "house.list_objects_in_room()"
   ]
  },
  {
   "cell_type": "code",
   "execution_count": 9,
   "metadata": {},
   "outputs": [
    {
     "name": "stdout",
     "output_type": "stream",
     "text": [
      "Event 'Stock up on groceries' added to refrigerator in the Kitchen.\n"
     ]
    }
   ],
   "source": [
    "house.add_event_to_object(\"refrigerator\", \"Stock up on groceries\")"
   ]
  },
  {
   "cell_type": "code",
   "execution_count": 10,
   "metadata": {},
   "outputs": [
    {
     "data": {
      "text/plain": [
       "[{'object': 'refrigerator',\n",
       "  'description': \"A high-tech refrigerator that keeps Alex's meals and snacks fresh.\",\n",
       "  'events': {'Stock up on groceries'}},\n",
       " {'object': 'stove',\n",
       "  'description': 'A modern stove where Alex occasionally experiments with new recipes.',\n",
       "  'events': set()},\n",
       " {'object': 'microwave',\n",
       "  'description': 'A quick and efficient microwave for heating up meals.',\n",
       "  'events': set()},\n",
       " {'object': 'kitchen sink',\n",
       "  'description': 'A stainless steel sink, often filled with coffee mugs.',\n",
       "  'events': set()},\n",
       " {'object': 'dishwasher',\n",
       "  'description': 'A quiet dishwasher that handles the post-dinner cleanup.',\n",
       "  'events': set()},\n",
       " {'object': 'dining table',\n",
       "  'description': 'A minimalist dining table where Alex enjoys breakfast and dinner.',\n",
       "  'events': set()},\n",
       " {'object': 'chairs',\n",
       "  'description': 'Comfortable chairs around the dining table, perfect for meals or working on a laptop.',\n",
       "  'events': set()}]"
      ]
     },
     "execution_count": 10,
     "metadata": {},
     "output_type": "execute_result"
    }
   ],
   "source": [
    "house.locations.get(\"Kitchen\")"
   ]
  },
  {
   "cell_type": "markdown",
   "metadata": {},
   "source": [
    "Construi um perfil pro Alex utizando os mesmos parâmetros do artigo, foi só pra ter uma ideia mesmo de como iria ficar."
   ]
  },
  {
   "cell_type": "code",
   "execution_count": 11,
   "metadata": {},
   "outputs": [],
   "source": [
    "alex_profile = {\n",
    "    \"vision_r\": 8,\n",
    "    \"att_bandwidth\": 8,\n",
    "    \"retention\": 8,\n",
    "    \"curr_time\": None,\n",
    "    \"curr_tile\": None,\n",
    "    \"daily_plan_req\": \"Alex goes to work at 9:00 AM, spends his day coding and attending meetings, and eats lunch at the office cafeteria.\",\n",
    "    \"name\": \"Alex\",\n",
    "    \"first_name\": \"Alex\",\n",
    "    \"last_name\": \"Smith\",\n",
    "    \"age\": 25,\n",
    "    \"innate\": \"creative, analytical, adaptable\",\n",
    "    \"learned\": \"Alex is a software engineer at a tech startup. He enjoys exploring new programming languages and frameworks.\",\n",
    "    \"currently\": \"Alex is working on implementing new features for the company's flagship product.\",\n",
    "    \"lifestyle\": \"Alex usually goes to bed around midnight, wakes up around 8:00 AM, and prefers to have dinner with friends or family around 7:00 PM.\",\n",
    "    \"living_area\": \"the Ville:Alex's Apartment\",\n",
    "    \"concept_forget\": 90,\n",
    "    \"daily_reflection_time\": 120,\n",
    "    \"daily_reflection_size\": 4,\n",
    "    \"overlap_reflect_th\": 3,\n",
    "    \"kw_strg_event_reflect_th\": 8,\n",
    "    \"kw_strg_thought_reflect_th\": 7,\n",
    "    \"recency_w\": 1,\n",
    "    \"relevance_w\": 1,\n",
    "    \"importance_w\": 1,\n",
    "    \"recency_decay\": 0.95,\n",
    "    \"importance_trigger_max\": 120,\n",
    "    \"importance_trigger_curr\": 120,\n",
    "    \"importance_ele_n\": 0,\n",
    "    \"thought_count\": 3,\n",
    "    \"daily_req\": [],\n",
    "    \"f_daily_schedule\": [],\n",
    "    \"f_daily_schedule_hourly_org\": [],\n",
    "    \"act_address\": None,\n",
    "    \"act_start_time\": None,\n",
    "    \"act_duration\": None,\n",
    "    \"act_description\": None,\n",
    "    \"act_pronunciation\": None,\n",
    "    \"act_event\": [None, None, None],\n",
    "    \"act_obj_description\": None,\n",
    "    \"act_obj_pronunciatio\": None,\n",
    "    \"act_obj_event\": [None, None, None],\n",
    "    \"act_path_set\": False,\n",
    "    \"planned_path\": []\n",
    "}"
   ]
  },
  {
   "cell_type": "markdown",
   "metadata": {},
   "source": [
    "Observation Retrieval Queries Generator"
   ]
  },
  {
   "cell_type": "code",
   "execution_count": 12,
   "metadata": {},
   "outputs": [
    {
     "name": "stderr",
     "output_type": "stream",
     "text": [
      "c:\\Users\\weslley.santos\\Documents\\GDataByGAgents\\venv\\Lib\\site-packages\\sentence_transformers\\cross_encoder\\CrossEncoder.py:11: TqdmExperimentalWarning: Using `tqdm.autonotebook.tqdm` in notebook mode. Use `tqdm.tqdm` instead to force console mode (e.g. in jupyter console)\n",
      "  from tqdm.autonotebook import tqdm, trange\n"
     ]
    }
   ],
   "source": [
    "import time\n",
    "import datetime\n",
    "\n",
    "import cst_python as cst\n",
    "import toolpy as tp\n",
    "from toolpy.integrations import groq\n",
    "\n",
    "import sys \n",
    "sys.path.append('../src')\n",
    "\n",
    "import gbyg as gg"
   ]
  },
  {
   "cell_type": "code",
   "execution_count": 13,
   "metadata": {},
   "outputs": [],
   "source": [
    "import os\n",
    "\n",
    "os.environ[\"GROQ_API_KEY\"] = \"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\""
   ]
  },
  {
   "cell_type": "code",
   "execution_count": 14,
   "metadata": {},
   "outputs": [],
   "source": [
    "groq_interface = groq.GroqInterface(model=groq.GroqModel.LLAMA3_70B, n_retry=5)\n",
    "\n",
    "registry = tp.llm.LLMRegistry()\n",
    "registry.registry(model_name=\"llama3-70b\", interface=groq_interface, default=True)"
   ]
  },
  {
   "cell_type": "code",
   "execution_count": 15,
   "metadata": {},
   "outputs": [
    {
     "name": "stderr",
     "output_type": "stream",
     "text": [
      "c:\\Users\\weslley.santos\\Documents\\GDataByGAgents\\venv\\Lib\\site-packages\\huggingface_hub\\file_download.py:1132: FutureWarning: `resume_download` is deprecated and will be removed in version 1.0.0. Downloads always resume when possible. If you want to force a new download, use `force_download=True`.\n",
      "  warnings.warn(\n"
     ]
    }
   ],
   "source": [
    "mind = cst.Mind()\n",
    "\n",
    "gg.agent.agent_constructor(mind)\n",
    "\n",
    "for codelet in mind.code_rack.all_codelets:\n",
    "    codelet.time_step = 100\n",
    "\n",
    "memories_input = mind.raw_memory.get_all_of_type(\"MemoriesInput\")[0]\n",
    "memory_stream = mind.raw_memory.get_all_of_type(\"MemoryStream\")[0]\n",
    "\n",
    "######################################################################\n",
    "infered_entities = mind.raw_memory.get_all_of_type(\"InferedEntities\")[0]"
   ]
  },
  {
   "cell_type": "code",
   "execution_count": 16,
   "metadata": {},
   "outputs": [],
   "source": [
    "input_memories  = [\n",
    "  {\n",
    "    \"index\": \"0\",\n",
    "    \"type\": \"event\",\n",
    "    \"created\": \"2024-06-01 08:00:00\",\n",
    "    \"description\": \"Alex attended a nature photography workshop in the city park.\",\n",
    "  },\n",
    "  {\n",
    "    \"index\": \"1\",\n",
    "    \"type\": \"thought\",\n",
    "    \"created\": \"2024-06-01 19:00:00\",\n",
    "    \"description\": \"Reflecting on the new techniques learned during the workshop, considering how to apply them in future projects.\",\n",
    "  },\n",
    "  {\n",
    "    \"index\": \"2\",\n",
    "    \"type\": \"event\",\n",
    "    \"created\": \"2024-06-05 10:00:00\",\n",
    "    \"description\": \"Alex completed a major software development project at work, delivering the final product to the client.\",\n",
    "  },\n",
    "  {\n",
    "    \"index\": \"3\",\n",
    "    \"type\": \"thought\",\n",
    "    \"created\": \"2024-06-05 20:00:00\",\n",
    "    \"description\": \"After delivering the project, Alex felt a sense of relief and accomplishment, thinking about the challenges overcome.\",\n",
    "  },\n",
    "  {\n",
    "    \"index\": \"4\",\n",
    "    \"type\": \"event\",\n",
    "    \"created\": \"2024-06-10 16:00:00\",\n",
    "    \"description\": \"Alex went on a weekend trip to explore a national park, taking photos of the wildlife and landscapes.\",\n",
    "  },\n",
    "  {\n",
    "    \"index\": \"5\",\n",
    "    \"type\": \"observation\",\n",
    "    \"created\": \"2024-06-11 09:00:00\",\n",
    "    \"description\": \"While sitting on the sofa in the living room, Alex noticed how the soft rug underfoot added a cozy touch to the modern decor.\"\n",
    "  },\n",
    "  {\n",
    "    \"index\": \"6\",\n",
    "    \"type\": \"observation\",\n",
    "    \"created\": \"2024-06-12 08:00:00\",\n",
    "    \"description\": \"Alex observed that the high-tech refrigerator not only kept food fresh but also made it easy to track groceries with its smart features.\"\n",
    "  },\n",
    "  {\n",
    "    \"index\": \"7\",\n",
    "    \"type\": \"observation\",\n",
    "    \"created\": \"2024-06-13 07:00:00\",\n",
    "    \"description\": \"As he sat at the dining table for breakfast, Alex realized the comfortable chairs made it a pleasant spot to work on his laptop.\"\n",
    "  },\n",
    "  {\n",
    "    \"index\": \"8\",\n",
    "    \"type\": \"observation\",\n",
    "    \"created\": \"2024-06-14 22:00:00\",\n",
    "    \"description\": \"Before bed, Alex noticed how the bedside lamp provided just the right amount of light for reading without disturbing his sleep.\"\n",
    "  },\n",
    "  {\n",
    "    \"index\": \"9\",\n",
    "    \"type\": \"observation\",\n",
    "    \"created\": \"2024-06-15 14:00:00\",\n",
    "    \"description\": \"While working in his home office, Alex appreciated the ergonomic office chair, which helped him stay comfortable during long coding sessions.\"\n",
    "  }\n",
    "]\n",
    "\n",
    "for m in input_memories:\n",
    "    m[\"last_acessed\"] = datetime.datetime.fromisoformat(m[\"created\"]).timestamp()"
   ]
  },
  {
   "cell_type": "code",
   "execution_count": 17,
   "metadata": {},
   "outputs": [],
   "source": [
    "mind.start()"
   ]
  },
  {
   "cell_type": "code",
   "execution_count": 18,
   "metadata": {},
   "outputs": [],
   "source": [
    "memories_input_queue = memories_input.get_info()\n",
    "for memory in input_memories:\n",
    "    memories_input_queue.append(memory)"
   ]
  },
  {
   "cell_type": "code",
   "execution_count": 19,
   "metadata": {},
   "outputs": [],
   "source": [
    "time.sleep(15)\n",
    "memories = memory_stream.get_info()"
   ]
  },
  {
   "cell_type": "code",
   "execution_count": 20,
   "metadata": {},
   "outputs": [
    {
     "data": {
      "text/plain": [
       "10"
      ]
     },
     "execution_count": 20,
     "metadata": {},
     "output_type": "execute_result"
    }
   ],
   "source": [
    "len(memories)"
   ]
  },
  {
   "cell_type": "code",
   "execution_count": 21,
   "metadata": {},
   "outputs": [
    {
     "data": {
      "text/plain": [
       "[[{'query_1': \"What is Alex's relationship with the rug?\",\n",
       "   'query_2': 'The rug is adding a cozy touch to the modern decor.'}],\n",
       " [{'query_1': \"What is Alex's relationship with the refrigerator?\",\n",
       "   'query_2': 'The refrigerator is keeping food fresh and tracking groceries with its smart features.'}],\n",
       " [{'query_1': \"What is Alex's relationship with the chairs?\",\n",
       "   'query_2': 'The chairs is being sat on.'}],\n",
       " [{'query_1': \"What is Alex's relationship with the bedside lamp?\",\n",
       "   'query_2': 'The bedside lamp is providing light.'}],\n",
       " [{'query_1': \"What is Alex's relationship with the ergonomic office chair?\",\n",
       "   'query_2': 'The ergonomic office chair is helped him stay comfortable during long coding sessions.'}]]"
      ]
     },
     "execution_count": 21,
     "metadata": {},
     "output_type": "execute_result"
    }
   ],
   "source": [
    "infered_entities.get_info()"
   ]
  },
  {
   "cell_type": "code",
   "execution_count": null,
   "metadata": {},
   "outputs": [],
   "source": []
  }
 ],
 "metadata": {
  "kernelspec": {
   "display_name": "venv",
   "language": "python",
   "name": "python3"
  },
  "language_info": {
   "codemirror_mode": {
    "name": "ipython",
    "version": 3
   },
   "file_extension": ".py",
   "mimetype": "text/x-python",
   "name": "python",
   "nbconvert_exporter": "python",
   "pygments_lexer": "ipython3",
   "version": "3.11.5"
  }
 },
 "nbformat": 4,
 "nbformat_minor": 2
}
