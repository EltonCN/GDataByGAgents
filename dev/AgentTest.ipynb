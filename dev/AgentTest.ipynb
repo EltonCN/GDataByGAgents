{
 "cells": [
  {
   "cell_type": "code",
   "execution_count": 1,
   "metadata": {},
   "outputs": [],
   "source": [
    "import time\n",
    "import datetime\n",
    "\n",
    "import cst_python as cst\n",
    "import toolpy as tp\n",
    "from toolpy.integrations import groq\n",
    "\n",
    "import gbyg as gg"
   ]
  },
  {
   "cell_type": "code",
   "execution_count": 2,
   "metadata": {},
   "outputs": [],
   "source": [
    "import os\n",
    "\n",
    "os.environ[\"GROQ_API_KEY\"] = \"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\""
   ]
  },
  {
   "cell_type": "code",
   "execution_count": 3,
   "metadata": {},
   "outputs": [],
   "source": [
    "groq_interface = groq.GroqInterface(model=groq.GroqModel.LLAMA3_70B, n_retry=5)\n",
    "\n",
    "registry = tp.llm.LLMRegistry()\n",
    "registry.registry(model_name=\"llama3-70b\", interface=groq_interface, default=True)"
   ]
  },
  {
   "cell_type": "code",
   "execution_count": 4,
   "metadata": {},
   "outputs": [],
   "source": [
    "importance_threshould = 1"
   ]
  },
  {
   "cell_type": "code",
   "execution_count": 5,
   "metadata": {},
   "outputs": [],
   "source": [
    "mind = cst.Mind()\n",
    "\n",
    "gg.agent.agent_constructor(mind, importance_threshould)\n",
    "\n",
    "for codelet in mind.code_rack.all_codelets:\n",
    "    codelet.time_step = 100\n",
    "\n",
    "memories_input = mind.raw_memory.get_all_of_type(\"MemoriesInput\")[0]\n",
    "memory_stream = mind.raw_memory.get_all_of_type(\"MemoryStream\")[0]\n",
    "agent_time = mind.raw_memory.get_all_of_type(\"AgentTime\")[0]\n",
    "agent_info = mind.raw_memory.get_all_of_type(\"AgentInfo\")[0]\n",
    "agent_summary_description = mind.raw_memory.get_all_of_type(\"AgentSummaryDescription\")[0]\n",
    "\n",
    "generated_questions = mind.raw_memory.get_all_of_type(\"GeneratedQuestions\")[0]\n",
    "statements = mind.raw_memory.get_all_of_type(\"Statements\")[0]"
   ]
  },
  {
   "cell_type": "code",
   "execution_count": 6,
   "metadata": {},
   "outputs": [
    {
     "data": {
      "text/plain": [
       "-1"
      ]
     },
     "execution_count": 6,
     "metadata": {},
     "output_type": "execute_result"
    }
   ],
   "source": [
    "agent_info.set_info({\"name\":\"Alex\", \"Age\":25, \"Traits\":\"friendly, outgoing, hospitable\"})\n",
    "agent_time.set_info(datetime.datetime.fromisoformat(\"2024-06-26T00:00:00\").timestamp())"
   ]
  },
  {
   "cell_type": "code",
   "execution_count": 7,
   "metadata": {},
   "outputs": [],
   "source": [
    "mind.start()"
   ]
  },
  {
   "cell_type": "code",
   "execution_count": 8,
   "metadata": {},
   "outputs": [
    {
     "name": "stdout",
     "output_type": "stream",
     "text": [
      "Traceback (most recent call last):\n",
      "  File \"D:\\Github\\CST-Python\\src\\cst_python\\core\\entities\\codelet.py\", line 450, in _scheduled_run\n",
      "    self.proc()\n",
      "  File \"D:\\Github\\GDataByGAgents\\src\\gbyg\\agent\\retrieval\\retrieval_codelet.py\", line 89, in proc\n",
      "    result, _ = self._recency_scorer(query)\n",
      "  File \"D:\\Github\\toolpy\\src\\toolpy\\tool\\tool.py\", line 51, in __call__\n",
      "    return self._execute(query, context)\n",
      "  File \"D:\\Github\\GDataByGAgents\\src\\gbyg\\agent\\retrieval\\recency_scorer_tool.py\", line 29, in _execute\n",
      "    max_score = scores.max()\n",
      "  File \"c:\\Python38\\lib\\site-packages\\numpy\\core\\_methods.py\", line 40, in _amax\n",
      "    return umr_maximum(a, axis, None, out, keepdims, initial, where)\n",
      "ValueError: zero-size array to reduction operation maximum which has no identity\n",
      "\n",
      "Traceback (most recent call last):\n",
      "  File \"D:\\Github\\CST-Python\\src\\cst_python\\core\\entities\\codelet.py\", line 450, in _scheduled_run\n",
      "    self.proc()\n",
      "  File \"D:\\Github\\GDataByGAgents\\src\\gbyg\\agent\\retrieval\\retrieval_codelet.py\", line 89, in proc\n",
      "    result, _ = self._recency_scorer(query)\n",
      "  File \"D:\\Github\\toolpy\\src\\toolpy\\tool\\tool.py\", line 51, in __call__\n",
      "    return self._execute(query, context)\n",
      "  File \"D:\\Github\\GDataByGAgents\\src\\gbyg\\agent\\retrieval\\recency_scorer_tool.py\", line 29, in _execute\n",
      "    max_score = scores.max()\n",
      "  File \"c:\\Python38\\lib\\site-packages\\numpy\\core\\_methods.py\", line 40, in _amax\n",
      "    return umr_maximum(a, axis, None, out, keepdims, initial, where)\n",
      "ValueError: zero-size array to reduction operation maximum which has no identity\n",
      "\n",
      "Traceback (most recent call last):\n",
      "  File \"D:\\Github\\CST-Python\\src\\cst_python\\core\\entities\\codelet.py\", line 450, in _scheduled_run\n",
      "    self.proc()\n",
      "  File \"D:\\Github\\GDataByGAgents\\src\\gbyg\\agent\\retrieval\\retrieval_codelet.py\", line 89, in proc\n",
      "    result, _ = self._recency_scorer(query)\n",
      "  File \"D:\\Github\\toolpy\\src\\toolpy\\tool\\tool.py\", line 51, in __call__\n",
      "    return self._execute(query, context)\n",
      "  File \"D:\\Github\\GDataByGAgents\\src\\gbyg\\agent\\retrieval\\recency_scorer_tool.py\", line 29, in _execute\n",
      "    max_score = scores.max()\n",
      "  File \"c:\\Python38\\lib\\site-packages\\numpy\\core\\_methods.py\", line 40, in _amax\n",
      "    return umr_maximum(a, axis, None, out, keepdims, initial, where)\n",
      "ValueError: zero-size array to reduction operation maximum which has no identity\n",
      "\n"
     ]
    }
   ],
   "source": [
    "input_memories  = [\n",
    "  {\n",
    "    \"index\": 0,\n",
    "    \"type\": \"event\",\n",
    "    \"created\": \"2024-06-01 08:00:00\",\n",
    "    \"description\": \"Alex attended a nature photography workshop in the city park.\",\n",
    "  },\n",
    "  {\n",
    "    \"index\": 1,\n",
    "    \"type\": \"thought\",\n",
    "    \"created\": \"2024-06-01 19:00:00\",\n",
    "    \"description\": \"Reflecting on the new techniques learned during the workshop, considering how to apply them in future projects.\",\n",
    "  },\n",
    "  {\n",
    "    \"index\": 2,\n",
    "    \"type\": \"event\",\n",
    "    \"created\": \"2024-06-05 10:00:00\",\n",
    "    \"description\": \"Alex completed a major software development project at work, delivering the final product to the client.\",\n",
    "  },\n",
    "  {\n",
    "    \"index\": 3,\n",
    "    \"type\": \"thought\",\n",
    "    \"created\": \"2024-06-05 20:00:00\",\n",
    "    \"description\": \"After delivering the project, Alex felt a sense of relief and accomplishment, thinking about the challenges overcome.\",\n",
    "  },\n",
    "  {\n",
    "    \"index\": 4,\n",
    "    \"type\": \"event\",\n",
    "    \"created\": \"2024-06-10 16:00:00\",\n",
    "    \"description\": \"Alex went on a weekend trip to explore a national park, taking photos of the wildlife and landscapes.\",\n",
    "  }\n",
    "]\n",
    "\n",
    "for m in input_memories:\n",
    "    m[\"created\"] = datetime.datetime.fromisoformat(m[\"created\"]).timestamp()\n",
    "    m[\"last_acessed\"] = m[\"created\"]"
   ]
  },
  {
   "cell_type": "code",
   "execution_count": 9,
   "metadata": {},
   "outputs": [
    {
     "data": {
      "text/plain": [
       "[{'index': 0,\n",
       "  'type': 'event',\n",
       "  'created': 1717239600.0,\n",
       "  'description': 'Alex attended a nature photography workshop in the city park.',\n",
       "  'last_acessed': 1717239600.0},\n",
       " {'index': 1,\n",
       "  'type': 'thought',\n",
       "  'created': 1717279200.0,\n",
       "  'description': 'Reflecting on the new techniques learned during the workshop, considering how to apply them in future projects.',\n",
       "  'last_acessed': 1717279200.0},\n",
       " {'index': 2,\n",
       "  'type': 'event',\n",
       "  'created': 1717592400.0,\n",
       "  'description': 'Alex completed a major software development project at work, delivering the final product to the client.',\n",
       "  'last_acessed': 1717592400.0},\n",
       " {'index': 3,\n",
       "  'type': 'thought',\n",
       "  'created': 1717628400.0,\n",
       "  'description': 'After delivering the project, Alex felt a sense of relief and accomplishment, thinking about the challenges overcome.',\n",
       "  'last_acessed': 1717628400.0},\n",
       " {'index': 4,\n",
       "  'type': 'event',\n",
       "  'created': 1718046000.0,\n",
       "  'description': 'Alex went on a weekend trip to explore a national park, taking photos of the wildlife and landscapes.',\n",
       "  'last_acessed': 1718046000.0}]"
      ]
     },
     "execution_count": 9,
     "metadata": {},
     "output_type": "execute_result"
    }
   ],
   "source": [
    "input_memories"
   ]
  },
  {
   "cell_type": "code",
   "execution_count": 10,
   "metadata": {},
   "outputs": [
    {
     "ename": "ValueError",
     "evalue": "",
     "output_type": "error",
     "traceback": [
      "\u001b[1;31m---------------------------------------------------------------------------\u001b[0m",
      "\u001b[1;31mValueError\u001b[0m                                Traceback (most recent call last)",
      "\u001b[1;32m<ipython-input-10-4954757c312d>\u001b[0m in \u001b[0;36m<module>\u001b[1;34m\u001b[0m\n\u001b[1;32m----> 1\u001b[1;33m \u001b[1;32mraise\u001b[0m \u001b[0mValueError\u001b[0m\u001b[1;33m(\u001b[0m\u001b[1;33m)\u001b[0m\u001b[1;33m\u001b[0m\u001b[1;33m\u001b[0m\u001b[0m\n\u001b[0m",
      "\u001b[1;31mValueError\u001b[0m: "
     ]
    }
   ],
   "source": [
    "raise ValueError()"
   ]
  },
  {
   "cell_type": "code",
   "execution_count": 11,
   "metadata": {},
   "outputs": [],
   "source": [
    "memories_input_queue = memories_input.get_info()\n",
    "for memory in input_memories:\n",
    "    memories_input_queue.append(memory)"
   ]
  },
  {
   "cell_type": "code",
   "execution_count": 13,
   "metadata": {},
   "outputs": [
    {
     "name": "stdout",
     "output_type": "stream",
     "text": [
      "10\n",
      "10\n",
      "10\n"
     ]
    }
   ],
   "source": [
    "for i in range(3):\n",
    "    time.sleep(10)\n",
    "\n",
    "    print(len(memory_stream.get_info()))"
   ]
  },
  {
   "cell_type": "code",
   "execution_count": 15,
   "metadata": {},
   "outputs": [
    {
     "name": "stdout",
     "output_type": "stream",
     "text": [
      "What are Alex's hobbies or interests?\n",
      "What are Alex's professional accomplishments?\n",
      "What does Alex enjoy doing in their free time?\n"
     ]
    }
   ],
   "source": [
    "questions = generated_questions.get_info()\n",
    "for q in questions:\n",
    "    print(q)"
   ]
  },
  {
   "cell_type": "code",
   "execution_count": 17,
   "metadata": {},
   "outputs": [
    {
     "name": "stdout",
     "output_type": "stream",
     "text": [
      "0: Alex attended a nature photography workshop in the city park. | because of: \n",
      "1: Reflecting on the new techniques learned during the workshop, considering how to apply them in future projects. | because of: \n",
      "2: Alex completed a major software development project at work, delivering the final product to the client. | because of: \n",
      "3: After delivering the project, Alex felt a sense of relief and accomplishment, thinking about the challenges overcome. | because of: \n",
      "4: Alex went on a weekend trip to explore a national park, taking photos of the wildlife and landscapes. | because of: \n",
      "5: Alex is interested in photography | because of: [0, 4]\n",
      "6: Alex is a software developer | because of: [2]\n",
      "7: Alex values learning new skills | because of: [0, 1]\n",
      "8: Alex appreciates nature and the outdoors | because of: [0, 4]\n",
      "9: Alex feels a sense of accomplishment after completing a challenging project | because of: [2, 3]\n"
     ]
    }
   ],
   "source": [
    "for memory in memory_stream.get_info():\n",
    "    because_of = \"\"\n",
    "    if 'because_of' in memory: \n",
    "        because_of = memory['because_of']\n",
    "\n",
    "    memory_str = f\"{memory['index']}: {memory['description']} | because of: {because_of}\"\n",
    "    print(memory_str)"
   ]
  },
  {
   "cell_type": "code",
   "execution_count": 21,
   "metadata": {},
   "outputs": [
    {
     "name": "stdout",
     "output_type": "stream",
     "text": [
      "{'name': 'Alex', 'Age': 25, 'Traits': 'friendly, outgoing, hospitable'}\n",
      "Alex is an outdoorsy and achievement-driven individual who finds fulfillment in overcoming challenges and connecting with nature.\n",
      "Alex is likely a park ranger, outdoor guide, or environmental project manager, as they appreciate nature and feel accomplished after completing challenging projects.\n",
      "Alex is content and fulfilled, reflecting a sense of pride and satisfaction with their recent accomplishments.\n"
     ]
    }
   ],
   "source": [
    "agent_time.set_info(agent_time.get_info()+gg.time_utils.TimeInterval.ONE_DAY)\n",
    "time.sleep(5)\n",
    "print(agent_summary_description.get_info())"
   ]
  },
  {
   "cell_type": "code",
   "execution_count": null,
   "metadata": {},
   "outputs": [],
   "source": []
  }
 ],
 "metadata": {
  "kernelspec": {
   "display_name": "Python 3",
   "language": "python",
   "name": "python3"
  },
  "language_info": {
   "codemirror_mode": {
    "name": "ipython",
    "version": 3
   },
   "file_extension": ".py",
   "mimetype": "text/x-python",
   "name": "python",
   "nbconvert_exporter": "python",
   "pygments_lexer": "ipython3",
   "version": "3.8.5"
  }
 },
 "nbformat": 4,
 "nbformat_minor": 2
}
