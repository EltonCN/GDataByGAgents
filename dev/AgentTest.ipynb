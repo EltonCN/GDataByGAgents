{
 "cells": [
  {
   "cell_type": "code",
   "execution_count": 1,
   "metadata": {},
   "outputs": [],
   "source": [
    "from __future__ import annotations\n",
    "\n",
    "import time\n",
    "import datetime\n",
    "import os\n",
    "import json\n",
    "\n",
    "import cst_python as cst\n",
    "import toolpy as tp\n",
    "from toolpy.integrations import groq\n",
    "\n",
    "import gbyg as gg"
   ]
  },
  {
   "cell_type": "code",
   "execution_count": 2,
   "metadata": {},
   "outputs": [],
   "source": [
    "groq_interface = groq.GroqInterface(model=groq.GroqModel.LLAMA3_70B, n_retry=5)\n",
    "\n",
    "registry = tp.llm.LLMRegistry()\n",
    "registry.registry(model_name=\"llama3-70b\", interface=groq_interface, default=True)"
   ]
  },
  {
   "cell_type": "code",
   "execution_count": 3,
   "metadata": {},
   "outputs": [],
   "source": [
    "importance_threshould = 1"
   ]
  },
  {
   "cell_type": "code",
   "execution_count": 4,
   "metadata": {},
   "outputs": [],
   "source": [
    "mind = cst.Mind()\n",
    "\n",
    "gg.agent.agent_constructor(mind, importance_threshould)\n",
    "\n",
    "for codelet in mind.code_rack.all_codelets:\n",
    "    codelet.time_step = 100\n",
    "\n",
    "memories_input = mind.raw_memory.get_all_of_type(\"MemoriesInput\")[0]\n",
    "memory_stream = mind.raw_memory.get_all_of_type(\"MemoryStream\")[0]\n",
    "agent_time_memory = mind.raw_memory.get_all_of_type(\"AgentTime\")[0]\n",
    "agent_info_memory = mind.raw_memory.get_all_of_type(\"AgentInfo\")[0]\n",
    "agent_summary_description = mind.raw_memory.get_all_of_type(\"AgentSummaryDescription\")[0]\n",
    "actual_place_memory = mind.raw_memory.get_all_of_type(\"ActualPlace\")[0]\n",
    "known_world = mind.raw_memory.get_all_of_type(\"KnownWorld\")[0]\n",
    "action_memory = mind.raw_memory.get_all_of_type(\"Action\")[0]\n",
    "current_observation_memory = mind.raw_memory.get_all_of_type(\"CurrentObservation\")[0]\n",
    "current_state_memory = mind.raw_memory.get_all_of_type(\"CurrentState\")[0]\n",
    "\n",
    "previous_day_summary = mind.raw_memory.get_all_of_type(\"PreviousDaySummary\")[0]\n",
    "plan = mind.raw_memory.get_all_of_type(\"Plan\")[0]"
   ]
  },
  {
   "cell_type": "code",
   "execution_count": 5,
   "metadata": {},
   "outputs": [
    {
     "data": {
      "text/plain": [
       "-1"
      ]
     },
     "execution_count": 5,
     "metadata": {},
     "output_type": "execute_result"
    }
   ],
   "source": [
    "agent_info_memory.set_info({\"name\":\"Alex\", \"age\":25, \"traits\":\"friendly, outgoing, hospitable\"})\n",
    "agent_time_memory.set_info(datetime.datetime.fromisoformat(\"2024-06-26T00:00:00\").timestamp())\n",
    "actual_place_memory.set_info(\"Bedroom\")"
   ]
  },
  {
   "cell_type": "code",
   "execution_count": 6,
   "metadata": {},
   "outputs": [],
   "source": [
    "mind.start()"
   ]
  },
  {
   "cell_type": "code",
   "execution_count": 7,
   "metadata": {},
   "outputs": [],
   "source": [
    "input_memories  = [\n",
    "  {\n",
    "    \"index\": 0,\n",
    "    \"type\": \"event\",\n",
    "    \"created\": \"2024-06-01 08:00:00\",\n",
    "    \"description\": \"Alex attended a nature photography workshop in the city park.\",\n",
    "  },\n",
    "  {\n",
    "    \"index\": 1,\n",
    "    \"type\": \"reflection\",\n",
    "    \"created\": \"2024-06-01 19:00:00\",\n",
    "    \"description\": \"Reflecting on the new techniques learned during the workshop, considering how to apply them in future projects.\",\n",
    "  },\n",
    "  {\n",
    "    \"index\": 2,\n",
    "    \"type\": \"event\",\n",
    "    \"created\": \"2024-06-05 10:00:00\",\n",
    "    \"description\": \"Alex completed a major software development project at work, delivering the final product to the client.\",\n",
    "  },\n",
    "  {\n",
    "    \"index\": 3,\n",
    "    \"type\": \"reflection\",\n",
    "    \"created\": \"2024-06-05 20:00:00\",\n",
    "    \"description\": \"After delivering the project, Alex felt a sense of relief and accomplishment, thinking about the challenges overcome.\",\n",
    "  },\n",
    "  {\n",
    "    \"index\": 4,\n",
    "    \"type\": \"event\",\n",
    "    \"created\": \"2024-06-10 16:00:00\",\n",
    "    \"description\": \"Alex went on a weekend trip to explore a national park, taking photos of the wildlife and landscapes.\",\n",
    "  }\n",
    "]\n",
    "\n",
    "for m in input_memories:\n",
    "    m[\"created\"] = datetime.datetime.fromisoformat(m[\"created\"]).timestamp()\n",
    "    m[\"last_acessed\"] = m[\"created\"]"
   ]
  },
  {
   "cell_type": "code",
   "execution_count": 8,
   "metadata": {},
   "outputs": [
    {
     "name": "stderr",
     "output_type": "stream",
     "text": [
      "D:\\Github\\GDataByGAgents\\src\\gbyg\\agent\\retrieval\\recency_scorer_tool.py:32: RuntimeWarning: invalid value encountered in divide\n",
      "  scores = (scores-min_score)/(max_score-min_score)\n",
      "c:\\Python38\\lib\\site-packages\\sentence_transformers\\util.py:41: UserWarning: Creating a tensor from a list of numpy.ndarrays is extremely slow. Please consider converting the list to a single numpy.ndarray with numpy.array() before converting to a tensor. (Triggered internally at C:\\actions-runner\\_work\\pytorch\\pytorch\\builder\\windows\\pytorch\\torch\\csrc\\utils\\tensor_new.cpp:278.)\n",
      "  b = torch.tensor(b)\n"
     ]
    }
   ],
   "source": [
    "memories_input_queue = memories_input.get_info()\n",
    "for memory in input_memories:\n",
    "    memories_input_queue.append(memory)\n",
    "\n",
    "while len(memory_stream.get_info()) != len(input_memories):\n",
    "    time.sleep(0.1)"
   ]
  },
  {
   "cell_type": "code",
   "execution_count": 9,
   "metadata": {},
   "outputs": [
    {
     "name": "stdout",
     "output_type": "stream",
     "text": [
      "0 (event): Alex attended a nature photography workshop in the city park. | because of: \n",
      "1 (reflection): Reflecting on the new techniques learned during the workshop, considering how to apply them in future projects. | because of: \n",
      "2 (event): Alex completed a major software development project at work, delivering the final product to the client. | because of: \n",
      "3 (reflection): After delivering the project, Alex felt a sense of relief and accomplishment, thinking about the challenges overcome. | because of: \n",
      "4 (event): Alex went on a weekend trip to explore a national park, taking photos of the wildlife and landscapes. | because of: \n"
     ]
    }
   ],
   "source": [
    "for memory in memory_stream.get_info():\n",
    "    because_of = \"\"\n",
    "    if 'because_of' in memory: \n",
    "        because_of = memory['because_of']\n",
    "\n",
    "    memory_str = f\"{memory['index']} ({memory['type']}): {memory['description']} | because of: {because_of}\"\n",
    "    print(memory_str)"
   ]
  },
  {
   "cell_type": "code",
   "execution_count": 10,
   "metadata": {},
   "outputs": [
    {
     "name": "stdout",
     "output_type": "stream",
     "text": [
      "Name: Alex (age: 25)\n",
      "Innate traits: friendly, outgoing, hospitable\n",
      "Alex is an outdoorsy and creative person with an interest in nature and photography.\n",
      "Alex is likely a photographer, possibly a nature photographer.\n",
      "Alex seems enthusiastic and possibly revitalized.\n"
     ]
    }
   ],
   "source": [
    "last_summary_time = agent_summary_description.get_timestamp()\n",
    "\n",
    "agent_time_memory.set_info(agent_time_memory.get_info()+gg.time_utils.TimeInterval.ONE_DAY)\n",
    "\n",
    "previous_day_summary_content = {\"summary\":'''Yesteday, 26 June, Alex went to the park, where he participated in a photography workshop. \n",
    "Alex took several photos, preparing to later edit them and post them on social media.\n",
    "Alex now plans to stay home the entire day.''',\n",
    "                        \"generated_time\":agent_time_memory.get_info()}\n",
    "\n",
    "previous_day_summary.set_info(previous_day_summary_content)\n",
    "\n",
    "while agent_summary_description.get_timestamp() == last_summary_time:\n",
    "    time.sleep(0.1)\n",
    "\n",
    "print(agent_summary_description.get_info()[\"summary\"])"
   ]
  },
  {
   "cell_type": "code",
   "execution_count": 11,
   "metadata": {},
   "outputs": [],
   "source": [
    "while plan.get_info() == \"\":\n",
    "    time.sleep(0.1) "
   ]
  },
  {
   "cell_type": "code",
   "execution_count": 12,
   "metadata": {},
   "outputs": [],
   "source": [
    "#Remove fisrt hour actions to avoid infinity loop bellow\n",
    "while plan.get_info()[0][\"hour\"] == 0:\n",
    "    del plan.get_info()[0]"
   ]
  },
  {
   "cell_type": "code",
   "execution_count": 13,
   "metadata": {},
   "outputs": [
    {
     "name": "stdout",
     "output_type": "stream",
     "text": [
      "8:0: Wakes up\n",
      "8:10: Has breakfast\n",
      "9:0: Edits photos taken at the park\n",
      "12:0: Start lunch break\n",
      "12:30: Continue lunch break\n",
      "13:0: Posts edited photos on social media for 60 minutes\n",
      "14:0: Takes a short nap\n",
      "15:0: Gathers photography equipment\n",
      "15:10: Inspects photography equipment\n",
      "15:20: Packs photography equipment\n",
      "15:30: Double-checks photography equipment\n",
      "15:40: Finishes organizing photography equipment\n",
      "18:0: Getting ready for dinner\n",
      "18:10: Eating dinner\n",
      "18:30: Finishing up dinner and cleaning up\n",
      "19:0: Watches a nature documentary\n",
      "19:10: Watches a nature documentary\n",
      "19:20: Watches a nature documentary\n",
      "19:30: Watches a nature documentary\n",
      "19:40: Watches a nature documentary\n",
      "19:50: Watches a nature documentary\n",
      "22:0: Retires to bed\n"
     ]
    }
   ],
   "source": [
    "for action in plan.get_info():\n",
    "    hour = action[\"hour\"]\n",
    "    minute = action[\"minute\"]\n",
    "    action_action = action[\"action\"]\n",
    "\n",
    "    print(f\"{hour}:{minute}: {action_action}\")"
   ]
  },
  {
   "cell_type": "code",
   "execution_count": 14,
   "metadata": {},
   "outputs": [],
   "source": [
    "alex_house = {\n",
    "    \"Alex's House\": {\n",
    "        \"Living Room\": [\n",
    "            {\"name\": \"sofa\", 'type':'inanimate_object', \n",
    "             \"description\": \"A comfortable, modern sofa perfect for relaxing or hosting friends.\",\n",
    "             \"state\":\"idle and clean\"},\n",
    "            {\"name\": \"coffee table\", 'type':'inanimate_object', \n",
    "             \"description\": \"A sleek coffee table with a few programming books and the latest tech magazines.\",\n",
    "             \"state\":\"idle and clean\"},\n",
    "            {\"name\": \"television\", 'type':'inanimate_object', \n",
    "             \"description\": \"A large smart TV, often used to watch tech talks or unwind with a show.\",\n",
    "             \"state\":\"off and clean\"},\n",
    "            {\"name\": \"bookshelf\", 'type':'inanimate_object', \n",
    "             \"description\": \"A bookshelf filled with a mix of classic literature and technical manuals.\",\n",
    "             \"state\":\"idle and clean\"},\n",
    "            {\"name\": \"rug\", 'type':'inanimate_object', \n",
    "             \"description\": \"A soft rug that adds a touch of warmth to the living room.\",\n",
    "             \"state\":\"idle and clean\"}\n",
    "        ],\n",
    "        \"Kitchen\": [\n",
    "            {\"name\": \"refrigerator\", 'type':'inanimate_object', \n",
    "             \"description\": \"A high-tech refrigerator that keeps Alex's meals and snacks fresh.\",\n",
    "             \"state\":\"on and clean\"},\n",
    "            {\"name\": \"stove\", 'type':'inanimate_object', \n",
    "             \"description\": \"A modern stove where Alex occasionally experiments with new recipes.\",\n",
    "             \"state\":\"off and clean\"},\n",
    "            {\"name\": \"microwave\", 'type':'inanimate_object', \n",
    "             \"description\": \"A quick and efficient microwave for heating up meals.\",\n",
    "             \"state\":\"off and clean\"},\n",
    "            {\"name\": \"kitchen sink\", 'type':'inanimate_object', \n",
    "             \"description\": \"A stainless steel sink\",\n",
    "             \"state\":\"idle and clean\"},\n",
    "            {\"name\": \"dishwasher\", 'type':'inanimate_object', \n",
    "             \"description\": \"A quiet dishwasher that handles the post-dinner cleanup.\",\n",
    "             \"state\":\"off and clean\"},\n",
    "            {\"name\": \"dining table\", 'type':'inanimate_object', \n",
    "             \"description\": \"A minimalist dining table where Alex enjoys breakfast and dinner.\",\n",
    "             \"state\":\"idle and clean\"},\n",
    "            {\"name\": \"chairs\", 'type':'inanimate_object', \n",
    "             \"description\": \"Comfortable chairs around the dining table, perfect for meals or working on a laptop.\",\n",
    "             \"state\":\"idle and clean\"}\n",
    "        ],\n",
    "        \"Bedroom\": [\n",
    "            {\"name\": \"bed\", 'type':'inanimate_object', \n",
    "             \"description\": \"A cozy bed where Alex gets his much-needed rest.\",\n",
    "             \"state\":\"idle and clean\"},\n",
    "            {\"name\": \"dresser\", 'type':'inanimate_object', \n",
    "             \"description\": \"A dresser with neatly organized clothes, reflecting Alex's organized nature.\",\n",
    "             \"state\":\"idle and clean\"},\n",
    "            {\"name\": \"nightstand\", 'type':'inanimate_object', \n",
    "             \"description\": \"A nightstand with a lamp and a few personal items.\",\n",
    "             \"state\":\"idle and clean\"},\n",
    "            {\"name\": \"closet\", 'type':'inanimate_object', \n",
    "             \"description\": \"A spacious closet with casual and work clothes.\",\n",
    "             \"state\":\"idle and clean\"},\n",
    "            {\"name\": \"desk\", 'type':'inanimate_object', \n",
    "             \"description\": \"A small desk with a notebook and pens, used for jotting down late-night ideas.\",\n",
    "             \"state\":\"idle and clean\"},\n",
    "            {\"name\": \"lamp\", 'type':'inanimate_object', \n",
    "             \"description\": \"A bedside lamp for reading before bed.\",\n",
    "             \"state\":\"off and clean\"}\n",
    "        ],\n",
    "        \"Bathroom\": [\n",
    "            {\"name\": \"shower\", 'type':'inanimate_object', \n",
    "             \"description\": \"A modern shower with various settings for a refreshing start to the day.\",\n",
    "             \"state\":\"off and clean\"},\n",
    "            {\"name\": \"bathroom sink\", 'type':'inanimate_object', \n",
    "             \"description\": \"A clean sink with essential toiletries.\",\n",
    "             \"state\":\"idle and clean\"},\n",
    "            {\"name\": \"toilet\", 'type':'inanimate_object', \n",
    "             \"description\": \"A simple, modern toilet.\",\n",
    "             \"state\":\"idle and clean\"},\n",
    "            {\"name\": \"mirror\", 'type':'inanimate_object', \n",
    "             \"description\": \"A mirror above the sink, used for daily grooming.\",\n",
    "             \"state\":\"idle and clean\"},\n",
    "            {\"name\": \"cabinet\", 'type':'inanimate_object', \n",
    "             \"description\": \"A cabinet filled with towels and personal care items.\",\n",
    "             \"state\":\"idle and clean\"}\n",
    "        ],\n",
    "        \"Home Office\": [\n",
    "            {\"name\": \"desk\", 'type':'inanimate_object', \n",
    "             \"description\": \"A large desk with multiple monitors and a laptop, where Alex spends most of his working hours.\",\n",
    "             \"state\":\"idle and clean\"},\n",
    "            {\"name\": \"computer\", 'type':'inanimate_object', \n",
    "             \"description\": \"A powerful computer equipped with the latest software development tools.\",\n",
    "             \"state\":\"off and clean\"},\n",
    "            {\"name\": \"office chair\", 'type':'inanimate_object', \n",
    "             \"description\": \"An ergonomic office chair to support long coding sessions.\",\n",
    "             \"state\":\"idle and clean\"},\n",
    "            {\"name\": \"bookshelf\", 'type':'inanimate_object', \n",
    "             \"description\": \"A bookshelf filled with programming books and reference materials.\",\n",
    "             \"state\":\"idle and clean\"},\n",
    "            {\"name\": \"printer\", 'type':'inanimate_object',\n",
    "              \"description\": \"A reliable printer for printing documents and designs.\",\n",
    "              \"state\":\"off and clean\"}\n",
    "        ]\n",
    "    }\n",
    "}\n",
    "\n",
    "alex = {\"name\":\"Alex\", \"type\":\"agent\", \"description\":\"human\", 'state':'sleeping in the bed.'}\n",
    "\n",
    "alex_house[\"Alex's House\"][\"Bedroom\"].append(alex)\n",
    "\n",
    "agent_names = [\"Alex\"]"
   ]
  },
  {
   "cell_type": "code",
   "execution_count": 15,
   "metadata": {},
   "outputs": [],
   "source": [
    "from collections import deque\n",
    "from copy import deepcopy\n",
    "\n",
    "known_world_tree = deepcopy(alex_house)\n",
    "\n",
    "stack = deque()\n",
    "for room_name in known_world_tree:\n",
    "    room = known_world_tree[room_name]\n",
    "    stack.append(room)\n",
    "\n",
    "while len(stack) > 0:\n",
    "    room = stack.pop()\n",
    "    if isinstance(room, list):\n",
    "        for object in room:\n",
    "            del object[\"state\"]\n",
    "    else:\n",
    "        for subroom_name in room:\n",
    "            subroom = room[subroom_name]\n",
    "            stack.append(subroom)"
   ]
  },
  {
   "cell_type": "code",
   "execution_count": 16,
   "metadata": {},
   "outputs": [
    {
     "data": {
      "text/plain": [
       "-1"
      ]
     },
     "execution_count": 16,
     "metadata": {},
     "output_type": "execute_result"
    }
   ],
   "source": [
    "known_world.set_info(known_world_tree)"
   ]
  },
  {
   "cell_type": "code",
   "execution_count": 17,
   "metadata": {},
   "outputs": [],
   "source": [
    "observation_memory = {\"index\": 0,\n",
    "    \"type\": \"event\",\n",
    "    \"created\": agent_time_memory.get_info(),\n",
    "    \"description\": f\"Alex is {alex['state']}\"}\n",
    "\n",
    "input_memories.append(observation_memory)"
   ]
  },
  {
   "cell_type": "code",
   "execution_count": 18,
   "metadata": {},
   "outputs": [
    {
     "data": {
      "text/plain": [
       "''"
      ]
     },
     "execution_count": 18,
     "metadata": {},
     "output_type": "execute_result"
    }
   ],
   "source": [
    "action_memory.get_info()"
   ]
  },
  {
   "cell_type": "code",
   "execution_count": 31,
   "metadata": {},
   "outputs": [],
   "source": [
    "first_action = plan.get_info()[0]\n",
    "last_action = plan.get_info()[-1]\n",
    "\n",
    "agent_time = agent_time_memory.get_info()\n",
    "\n",
    "now = datetime.datetime.fromtimestamp(agent_time)\n",
    "\n",
    "now = now.replace(hour=first_action[\"hour\"], minute=first_action[\"minute\"])\n",
    "agent_time_memory.set_info(now.timestamp())\n",
    "\n",
    "simulation_end_time = datetime.datetime.fromtimestamp(agent_time)\n",
    "simulation_end_time = simulation_end_time.replace(hour=last_action[\"hour\"], minute=last_action[\"minute\"]).timestamp()"
   ]
  },
  {
   "cell_type": "code",
   "execution_count": 20,
   "metadata": {},
   "outputs": [],
   "source": [
    "while action_memory.get_info() == \"\":\n",
    "    time.sleep(0.1)\n",
    "\n",
    "last_action_time = action_memory.get_timestamp()"
   ]
  },
  {
   "cell_type": "code",
   "execution_count": 21,
   "metadata": {},
   "outputs": [],
   "source": [
    "env = gg.environment.Environment(alex_house, agent_names)"
   ]
  },
  {
   "cell_type": "code",
   "execution_count": 22,
   "metadata": {},
   "outputs": [],
   "source": [
    "import numpy as np\n",
    "\n",
    "def encoder(obj):\n",
    "    if isinstance(obj, np.integer):\n",
    "            return int(obj)\n",
    "    elif isinstance(obj, np.floating):\n",
    "        return float(obj)\n",
    "    elif isinstance(obj, np.ndarray):\n",
    "        return obj.tolist()\n",
    "    \n",
    "    return obj.__dict__\n",
    "\n",
    "sensor_result = {}\n",
    "\n",
    "def dump_log(path:str):\n",
    "    log = {}\n",
    "    log[\"agent_time\"] = agent_time_memory.get_info()\n",
    "    log[\"action\"] = action_memory.get_info()\n",
    "    log[\"agent_summary_description\"] = agent_summary_description.get_info()\n",
    "    log[\"state\"] = current_state_memory.get_info()\n",
    "    log[\"curret_observation\"] = current_observation_memory.get_info()\n",
    "    log[\"current_place\"] = actual_place_memory.get_info()\n",
    "    log[\"sensor_result\"] = sensor_result\n",
    "    log[\"environment_tree\"] = env._environment_tree\n",
    "    \n",
    "\n",
    "    log[\"memory_stream\"] = list(memory_stream.get_info())\n",
    "\n",
    "    if not os.path.isdir(path):\n",
    "        os.mkdir(path)\n",
    "\n",
    "    log_path = os.path.join(path, str(log[\"agent_time\"])+\".json\")\n",
    "    file = open(log_path, \"w\")\n",
    "    json.dump(log, file, default=encoder)\n",
    "    file.close()\n"
   ]
  },
  {
   "cell_type": "code",
   "execution_count": 23,
   "metadata": {},
   "outputs": [],
   "source": [
    "dump_log(\"logs\")"
   ]
  },
  {
   "cell_type": "code",
   "execution_count": 24,
   "metadata": {},
   "outputs": [],
   "source": [
    "sound_sensor = gg.sensors.SoundSensor()"
   ]
  },
  {
   "cell_type": "code",
   "execution_count": 25,
   "metadata": {},
   "outputs": [],
   "source": [
    "while agent_time_memory.get_info() < simulation_end_time:\n",
    "\n",
    "    agent_actions = {\"Alex\":action_memory.get_info()}\n",
    "\n",
    "    obsevation = env.step(agent_actions)\n",
    "    alex_observation = obsevation[\"Alex\"]\n",
    "\n",
    "    last_memory_stream_size = len(memory_stream.get_info())\n",
    "\n",
    "    observation_memory = {\"type\": \"event\",\n",
    "        \"created\": agent_time_memory.get_info(),\n",
    "        \"description\": f\"Alex is {alex_observation['state']}\"}\n",
    "\n",
    "    memories_input_queue.append(observation_memory)\n",
    "\n",
    "    observation_memory = {\"type\": \"event\",\n",
    "        \"created\": agent_time_memory.get_info(),\n",
    "        \"description\": alex_observation['observation']}\n",
    "\n",
    "    memories_input_queue.append(observation_memory)\n",
    "\n",
    "    current_state_memory.set_info(alex_observation[\"state\"])\n",
    "    current_observation_memory.set_info(alex_observation['observation'])\n",
    "    actual_place_memory.set_info(alex_observation[\"place\"])\n",
    "\n",
    "    current_time = agent_time_memory.get_info()\n",
    "    current_time += alex_observation[\"duration\"]\n",
    "    agent_time_memory.set_info(current_time)\n",
    "\n",
    "    #Get sensor output\n",
    "    query = {\"action\":agent_actions[\"Alex\"],\n",
    "            \"state\":alex_observation['state'],\n",
    "            \"observation\":alex_observation['observation']}\n",
    "\n",
    "    sensor_result, _ = sound_sensor(query)\n",
    "\n",
    "    #Wait for agent processing\n",
    "    while action_memory.get_timestamp() == last_action_time or len(memory_stream.get_info()) < last_memory_stream_size+2:\n",
    "        time.sleep(0.1)\n",
    "\n",
    "    last_action_time = action_memory.get_timestamp()\n",
    "\n",
    "    dump_log(\"logs\")"
   ]
  }
 ],
 "metadata": {
  "kernelspec": {
   "display_name": "Python 3",
   "language": "python",
   "name": "python3"
  },
  "language_info": {
   "codemirror_mode": {
    "name": "ipython",
    "version": 3
   },
   "file_extension": ".py",
   "mimetype": "text/x-python",
   "name": "python",
   "nbconvert_exporter": "python",
   "pygments_lexer": "ipython3",
   "version": "3.8.5"
  }
 },
 "nbformat": 4,
 "nbformat_minor": 2
}
