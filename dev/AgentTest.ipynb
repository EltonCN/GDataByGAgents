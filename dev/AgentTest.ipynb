{
 "cells": [
  {
   "cell_type": "code",
   "execution_count": 1,
   "metadata": {},
   "outputs": [
    {
     "name": "stderr",
     "output_type": "stream",
     "text": [
      "c:\\Users\\weslley.santos\\Documents\\GDataByGAgents\\venv\\Lib\\site-packages\\sentence_transformers\\cross_encoder\\CrossEncoder.py:11: TqdmExperimentalWarning: Using `tqdm.autonotebook.tqdm` in notebook mode. Use `tqdm.tqdm` instead to force console mode (e.g. in jupyter console)\n",
      "  from tqdm.autonotebook import tqdm, trange\n"
     ]
    }
   ],
   "source": [
    "import time\n",
    "import datetime\n",
    "\n",
    "import cst_python as cst\n",
    "import toolpy as tp\n",
    "from toolpy.integrations import groq\n",
    "\n",
    "import sys \n",
    "sys.path.append('../src')\n",
    "\n",
    "import gbyg as gg"
   ]
  },
  {
   "cell_type": "code",
   "execution_count": 2,
   "metadata": {},
   "outputs": [],
   "source": [
    "import os\n",
    "\n",
    "os.environ[\"GROQ_API_KEY\"] = \"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\""
   ]
  },
  {
   "cell_type": "code",
   "execution_count": 3,
   "metadata": {},
   "outputs": [],
   "source": [
    "groq_interface = groq.GroqInterface(model=groq.GroqModel.LLAMA3_70B, n_retry=5)\n",
    "\n",
    "registry = tp.llm.LLMRegistry()\n",
    "registry.registry(model_name=\"llama3-70b\", interface=groq_interface, default=True)"
   ]
  },
  {
   "cell_type": "code",
   "execution_count": 4,
   "metadata": {},
   "outputs": [
    {
     "name": "stderr",
     "output_type": "stream",
     "text": [
      "c:\\Users\\weslley.santos\\Documents\\GDataByGAgents\\venv\\Lib\\site-packages\\huggingface_hub\\file_download.py:1132: FutureWarning: `resume_download` is deprecated and will be removed in version 1.0.0. Downloads always resume when possible. If you want to force a new download, use `force_download=True`.\n",
      "  warnings.warn(\n"
     ]
    }
   ],
   "source": [
    "mind = cst.Mind()\n",
    "\n",
    "gg.agent.agent_constructor(mind)\n",
    "\n",
    "for codelet in mind.code_rack.all_codelets:\n",
    "    codelet.time_step = 100\n",
    "\n",
    "memories_input = mind.raw_memory.get_all_of_type(\"MemoriesInput\")[0]\n",
    "memory_stream = mind.raw_memory.get_all_of_type(\"MemoryStream\")[0]\n",
    "query_memory = mind.raw_memory.get_all_of_type(\"QueryMemory\")[0]\n",
    "agent_time = mind.raw_memory.get_all_of_type(\"AgentTime\")[0]\n",
    "agent_info = mind.raw_memory.get_all_of_type(\"AgentInfo\")[0]\n",
    "agent_summary_description = mind.raw_memory.get_all_of_type(\"AgentSummaryDescription\")[0]\n",
    "\n",
    "retrieved_memories = mind.raw_memory.get_all_of_type(\"RetrievedMemories\")[0]\n",
    "\n",
    "##########################################################################################\n",
    "\n",
    "generated_questions = mind.raw_memory.get_all_of_type(\"GeneratedQuestions\")[0]\n",
    "generated_insights = mind.raw_memory.get_all_of_type(\"GeneratedInsights\")[0]\n",
    "statements = mind.raw_memory.get_all_of_type(\"Statements\")[0]"
   ]
  },
  {
   "cell_type": "code",
   "execution_count": 5,
   "metadata": {},
   "outputs": [
    {
     "data": {
      "text/plain": [
       "-1"
      ]
     },
     "execution_count": 5,
     "metadata": {},
     "output_type": "execute_result"
    }
   ],
   "source": [
    "agent_info.set_info({\"name\":\"Alex\", \"Age\":25, \"Traits\":\"friendly, outgoing, hospitable\"})"
   ]
  },
  {
   "cell_type": "code",
   "execution_count": 6,
   "metadata": {},
   "outputs": [],
   "source": [
    "mind.start()"
   ]
  },
  {
   "cell_type": "code",
   "execution_count": 7,
   "metadata": {},
   "outputs": [],
   "source": [
    "input_memories  = [\n",
    "  {\n",
    "    \"index\": \"0\",\n",
    "    \"type\": \"event\",\n",
    "    \"created\": \"2024-06-01 08:00:00\",\n",
    "    \"description\": \"Alex attended a nature photography workshop in the city park.\",\n",
    "  },\n",
    "  {\n",
    "    \"index\": \"1\",\n",
    "    \"type\": \"thought\",\n",
    "    \"created\": \"2024-06-01 19:00:00\",\n",
    "    \"description\": \"Reflecting on the new techniques learned during the workshop, considering how to apply them in future projects.\",\n",
    "  },\n",
    "  {\n",
    "    \"index\": \"2\",\n",
    "    \"type\": \"event\",\n",
    "    \"created\": \"2024-06-05 10:00:00\",\n",
    "    \"description\": \"Alex completed a major software development project at work, delivering the final product to the client.\",\n",
    "  },\n",
    "  {\n",
    "    \"index\": \"3\",\n",
    "    \"type\": \"thought\",\n",
    "    \"created\": \"2024-06-05 20:00:00\",\n",
    "    \"description\": \"After delivering the project, Alex felt a sense of relief and accomplishment, thinking about the challenges overcome.\",\n",
    "  },\n",
    "  {\n",
    "    \"index\": \"4\",\n",
    "    \"type\": \"event\",\n",
    "    \"created\": \"2024-06-10 16:00:00\",\n",
    "    \"description\": \"Alex went on a weekend trip to explore a national park, taking photos of the wildlife and landscapes.\",\n",
    "  }\n",
    "]\n",
    "\n",
    "for m in input_memories:\n",
    "    m[\"last_acessed\"] = datetime.datetime.fromisoformat(m[\"created\"]).timestamp()"
   ]
  },
  {
   "cell_type": "code",
   "execution_count": 8,
   "metadata": {},
   "outputs": [
    {
     "data": {
      "text/plain": [
       "[{'index': '0',\n",
       "  'type': 'event',\n",
       "  'created': '2024-06-01 08:00:00',\n",
       "  'description': 'Alex attended a nature photography workshop in the city park.',\n",
       "  'last_acessed': 1717239600.0},\n",
       " {'index': '1',\n",
       "  'type': 'thought',\n",
       "  'created': '2024-06-01 19:00:00',\n",
       "  'description': 'Reflecting on the new techniques learned during the workshop, considering how to apply them in future projects.',\n",
       "  'last_acessed': 1717279200.0},\n",
       " {'index': '2',\n",
       "  'type': 'event',\n",
       "  'created': '2024-06-05 10:00:00',\n",
       "  'description': 'Alex completed a major software development project at work, delivering the final product to the client.',\n",
       "  'last_acessed': 1717592400.0},\n",
       " {'index': '3',\n",
       "  'type': 'thought',\n",
       "  'created': '2024-06-05 20:00:00',\n",
       "  'description': 'After delivering the project, Alex felt a sense of relief and accomplishment, thinking about the challenges overcome.',\n",
       "  'last_acessed': 1717628400.0},\n",
       " {'index': '4',\n",
       "  'type': 'event',\n",
       "  'created': '2024-06-10 16:00:00',\n",
       "  'description': 'Alex went on a weekend trip to explore a national park, taking photos of the wildlife and landscapes.',\n",
       "  'last_acessed': 1718046000.0}]"
      ]
     },
     "execution_count": 8,
     "metadata": {},
     "output_type": "execute_result"
    }
   ],
   "source": [
    "input_memories"
   ]
  },
  {
   "cell_type": "code",
   "execution_count": 9,
   "metadata": {},
   "outputs": [],
   "source": [
    "memories_input_queue = memories_input.get_info()\n",
    "for memory in input_memories:\n",
    "    memories_input_queue.append(memory)"
   ]
  },
  {
   "cell_type": "code",
   "execution_count": 10,
   "metadata": {},
   "outputs": [
    {
     "data": {
      "text/plain": [
       "deque([{'index': '0',\n",
       "        'type': 'event',\n",
       "        'created': '2024-06-01 08:00:00',\n",
       "        'description': 'Alex attended a nature photography workshop in the city park.',\n",
       "        'last_acessed': 1717239600.0},\n",
       "       {'index': '1',\n",
       "        'type': 'thought',\n",
       "        'created': '2024-06-01 19:00:00',\n",
       "        'description': 'Reflecting on the new techniques learned during the workshop, considering how to apply them in future projects.',\n",
       "        'last_acessed': 1717279200.0},\n",
       "       {'index': '2',\n",
       "        'type': 'event',\n",
       "        'created': '2024-06-05 10:00:00',\n",
       "        'description': 'Alex completed a major software development project at work, delivering the final product to the client.',\n",
       "        'last_acessed': 1717592400.0},\n",
       "       {'index': '3',\n",
       "        'type': 'thought',\n",
       "        'created': '2024-06-05 20:00:00',\n",
       "        'description': 'After delivering the project, Alex felt a sense of relief and accomplishment, thinking about the challenges overcome.',\n",
       "        'last_acessed': 1717628400.0},\n",
       "       {'index': '4',\n",
       "        'type': 'event',\n",
       "        'created': '2024-06-10 16:00:00',\n",
       "        'description': 'Alex went on a weekend trip to explore a national park, taking photos of the wildlife and landscapes.',\n",
       "        'last_acessed': 1718046000.0}])"
      ]
     },
     "execution_count": 10,
     "metadata": {},
     "output_type": "execute_result"
    }
   ],
   "source": [
    "memories_input_queue"
   ]
  },
  {
   "cell_type": "code",
   "execution_count": 18,
   "metadata": {},
   "outputs": [
    {
     "data": {
      "text/plain": [
       "5"
      ]
     },
     "execution_count": 18,
     "metadata": {},
     "output_type": "execute_result"
    }
   ],
   "source": [
    "time.sleep(10)\n",
    "\n",
    "len(memory_stream.get_info())"
   ]
  },
  {
   "cell_type": "code",
   "execution_count": 19,
   "metadata": {},
   "outputs": [
    {
     "name": "stdout",
     "output_type": "stream",
     "text": [
      "What are Alex's hobbies or interests?\n",
      "What are Alex's accomplishments or achievements?\n",
      "What are the different types of activities Alex engages in?\n"
     ]
    }
   ],
   "source": [
    "questions = generated_questions.get_info()\n",
    "for q in questions:\n",
    "    print(q)"
   ]
  },
  {
   "cell_type": "code",
   "execution_count": 20,
   "metadata": {},
   "outputs": [
    {
     "data": {
      "text/plain": [
       "['After delivering the project, Alex felt a sense of relief and accomplishment, thinking about the challenges overcome.',\n",
       " 'Alex went on a weekend trip to explore a national park, taking photos of the wildlife and landscapes.',\n",
       " 'After delivering the project, Alex felt a sense of relief and accomplishment, thinking about the challenges overcome.',\n",
       " 'Alex went on a weekend trip to explore a national park, taking photos of the wildlife and landscapes.',\n",
       " 'After delivering the project, Alex felt a sense of relief and accomplishment, thinking about the challenges overcome.',\n",
       " 'Alex went on a weekend trip to explore a national park, taking photos of the wildlife and landscapes.']"
      ]
     },
     "execution_count": 20,
     "metadata": {},
     "output_type": "execute_result"
    }
   ],
   "source": [
    "retrieved_mem = []\n",
    "for q in questions:\n",
    "    query_memory.set_info(q)\n",
    "    time.sleep(2)\n",
    "\n",
    "    retrieved_memories_list = retrieved_memories.get_info()\n",
    "    for m in retrieved_memories_list:\n",
    "        retrieved_mem.append(m['description'])\n",
    "\n",
    "retrieved_mem"
   ]
  },
  {
   "cell_type": "code",
   "execution_count": 21,
   "metadata": {},
   "outputs": [],
   "source": [
    "retrieved_mem = list(set(retrieved_mem))"
   ]
  },
  {
   "cell_type": "code",
   "execution_count": 22,
   "metadata": {},
   "outputs": [
    {
     "data": {
      "text/plain": [
       "['After delivering the project, Alex felt a sense of relief and accomplishment, thinking about the challenges overcome.',\n",
       " 'Alex went on a weekend trip to explore a national park, taking photos of the wildlife and landscapes.']"
      ]
     },
     "execution_count": 22,
     "metadata": {},
     "output_type": "execute_result"
    }
   ],
   "source": [
    "retrieved_mem"
   ]
  },
  {
   "cell_type": "code",
   "execution_count": 23,
   "metadata": {},
   "outputs": [
    {
     "name": "stdout",
     "output_type": "stream",
     "text": [
      "Generated Insights:\n",
      "Alex is goal-oriented and values a sense of accomplishment (because of 1)\n",
      "Alex has an adventurous spirit and enjoys exploring nature (because of 2)\n",
      "Alex is capable of overcoming challenges (because of 1)\n",
      "Alex appreciates taking breaks and engaging in leisure activities (because of 2)\n",
      "Alex has an interest in photography (because of 2)\n"
     ]
    }
   ],
   "source": [
    "statements.set_info(retrieved_mem)\n",
    "time.sleep(10)  \n",
    "\n",
    "insights = generated_insights.get_info()\n",
    "print(\"Generated Insights:\")\n",
    "for insight in insights:\n",
    "    print(insight)"
   ]
  },
  {
   "cell_type": "code",
   "execution_count": 24,
   "metadata": {},
   "outputs": [
    {
     "data": {
      "text/plain": [
       "\"{'name': 'Alex', 'Age': 25, 'Traits': 'friendly, outgoing, hospitable'}\\nAlex is an adventurous and accomplished individual who appreciates nature and takes pride in overcoming challenges.\\nAlex is likely on a break or vacation after completing a project, and is currently engaged in leisure activities such as travel and photography.\\n\""
      ]
     },
     "execution_count": 24,
     "metadata": {},
     "output_type": "execute_result"
    }
   ],
   "source": [
    "agent_time.set_info(gg.time_utils.TimeInterval.ONE_DAY)\n",
    "time.sleep(5)\n",
    "agent_summary_description.get_info()"
   ]
  },
  {
   "cell_type": "code",
   "execution_count": 25,
   "metadata": {},
   "outputs": [
    {
     "name": "stdout",
     "output_type": "stream",
     "text": [
      "{'name': 'Alex', 'Age': 25, 'Traits': 'friendly, outgoing, hospitable'}\n",
      "Alex is an adventurous and accomplished individual who appreciates nature and takes pride in overcoming challenges.\n",
      "Alex is likely on a break or vacation after completing a project, and is currently engaged in leisure activities such as travel and photography.\n",
      "\n"
     ]
    }
   ],
   "source": [
    "print(agent_summary_description.get_info())"
   ]
  },
  {
   "cell_type": "code",
   "execution_count": null,
   "metadata": {},
   "outputs": [],
   "source": [
    "importance_prompt = '''On the scale of 1 to 10, where 1 is purely mundane \n",
    "(e.g., brushing teeth, making bed) and 10 is extremely poignant \n",
    "(e.g., a break up, college acceptance), rate the likely poignancy of \n",
    "the following piece of memory.\n",
    "\n",
    "Memory: {memory}'''"
   ]
  }
 ],
 "metadata": {
  "kernelspec": {
   "display_name": "Python 3",
   "language": "python",
   "name": "python3"
  },
  "language_info": {
   "codemirror_mode": {
    "name": "ipython",
    "version": 3
   },
   "file_extension": ".py",
   "mimetype": "text/x-python",
   "name": "python",
   "nbconvert_exporter": "python",
   "pygments_lexer": "ipython3",
   "version": "3.11.5"
  }
 },
 "nbformat": 4,
 "nbformat_minor": 2
}
