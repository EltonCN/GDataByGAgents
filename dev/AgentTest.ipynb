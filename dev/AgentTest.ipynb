{
 "cells": [
  {
   "cell_type": "code",
   "execution_count": 1,
   "metadata": {},
   "outputs": [],
   "source": [
    "import time\n",
    "import datetime\n",
    "\n",
    "import cst_python as cst\n",
    "import toolpy as tp\n",
    "from toolpy.integrations import groq\n",
    "\n",
    "import gbyg as gg"
   ]
  },
  {
   "cell_type": "code",
   "execution_count": 2,
   "metadata": {},
   "outputs": [],
   "source": [
    "groq_interface = groq.GroqInterface(model=groq.GroqModel.LLAMA3_70B, n_retry=5)\n",
    "\n",
    "registry = tp.llm.LLMRegistry()\n",
    "registry.registry(model_name=\"llama3-70b\", interface=groq_interface, default=True)"
   ]
  },
  {
   "cell_type": "code",
   "execution_count": 3,
   "metadata": {},
   "outputs": [],
   "source": [
    "importance_threshould = 1"
   ]
  },
  {
   "cell_type": "code",
   "execution_count": 4,
   "metadata": {},
   "outputs": [],
   "source": [
    "mind = cst.Mind()\n",
    "\n",
    "gg.agent.agent_constructor(mind, importance_threshould)\n",
    "\n",
    "for codelet in mind.code_rack.all_codelets:\n",
    "    codelet.time_step = 100\n",
    "\n",
    "memories_input = mind.raw_memory.get_all_of_type(\"MemoriesInput\")[0]\n",
    "memory_stream = mind.raw_memory.get_all_of_type(\"MemoryStream\")[0]\n",
    "agent_time = mind.raw_memory.get_all_of_type(\"AgentTime\")[0]\n",
    "agent_info = mind.raw_memory.get_all_of_type(\"AgentInfo\")[0]\n",
    "agent_summary_description = mind.raw_memory.get_all_of_type(\"AgentSummaryDescription\")[0]\n",
    "actual_place = mind.raw_memory.get_all_of_type(\"ActualPlace\")[0]\n",
    "\n",
    "generated_questions = mind.raw_memory.get_all_of_type(\"GeneratedQuestions\")[0]\n",
    "statements = mind.raw_memory.get_all_of_type(\"Statements\")[0]"
   ]
  },
  {
   "cell_type": "code",
   "execution_count": 5,
   "metadata": {},
   "outputs": [
    {
     "data": {
      "text/plain": [
       "-1"
      ]
     },
     "execution_count": 5,
     "metadata": {},
     "output_type": "execute_result"
    }
   ],
   "source": [
    "agent_info.set_info({\"name\":\"Alex\", \"Age\":25, \"Traits\":\"friendly, outgoing, hospitable\"})\n",
    "agent_time.set_info(datetime.datetime.fromisoformat(\"2024-06-26T00:00:00\").timestamp())\n",
    "actual_place.set_info(\"Bedroom\")"
   ]
  },
  {
   "cell_type": "code",
   "execution_count": 6,
   "metadata": {},
   "outputs": [],
   "source": [
    "mind.start()"
   ]
  },
  {
   "cell_type": "code",
   "execution_count": 7,
   "metadata": {},
   "outputs": [],
   "source": [
    "input_memories  = [\n",
    "  {\n",
    "    \"index\": 0,\n",
    "    \"type\": \"event\",\n",
    "    \"created\": \"2024-06-01 08:00:00\",\n",
    "    \"description\": \"Alex attended a nature photography workshop in the city park.\",\n",
    "  },\n",
    "  {\n",
    "    \"index\": 1,\n",
    "    \"type\": \"reflection\",\n",
    "    \"created\": \"2024-06-01 19:00:00\",\n",
    "    \"description\": \"Reflecting on the new techniques learned during the workshop, considering how to apply them in future projects.\",\n",
    "  },\n",
    "  {\n",
    "    \"index\": 2,\n",
    "    \"type\": \"event\",\n",
    "    \"created\": \"2024-06-05 10:00:00\",\n",
    "    \"description\": \"Alex completed a major software development project at work, delivering the final product to the client.\",\n",
    "  },\n",
    "  {\n",
    "    \"index\": 3,\n",
    "    \"type\": \"reflection\",\n",
    "    \"created\": \"2024-06-05 20:00:00\",\n",
    "    \"description\": \"After delivering the project, Alex felt a sense of relief and accomplishment, thinking about the challenges overcome.\",\n",
    "  },\n",
    "  {\n",
    "    \"index\": 4,\n",
    "    \"type\": \"event\",\n",
    "    \"created\": \"2024-06-10 16:00:00\",\n",
    "    \"description\": \"Alex went on a weekend trip to explore a national park, taking photos of the wildlife and landscapes.\",\n",
    "  }\n",
    "]\n",
    "\n",
    "for m in input_memories:\n",
    "    m[\"created\"] = datetime.datetime.fromisoformat(m[\"created\"]).timestamp()\n",
    "    m[\"last_acessed\"] = m[\"created\"]"
   ]
  },
  {
   "cell_type": "code",
   "execution_count": 8,
   "metadata": {},
   "outputs": [
    {
     "data": {
      "text/plain": [
       "[{'index': 0,\n",
       "  'type': 'event',\n",
       "  'created': 1717239600.0,\n",
       "  'description': 'Alex attended a nature photography workshop in the city park.',\n",
       "  'last_acessed': 1717239600.0},\n",
       " {'index': 1,\n",
       "  'type': 'reflection',\n",
       "  'created': 1717279200.0,\n",
       "  'description': 'Reflecting on the new techniques learned during the workshop, considering how to apply them in future projects.',\n",
       "  'last_acessed': 1717279200.0},\n",
       " {'index': 2,\n",
       "  'type': 'event',\n",
       "  'created': 1717592400.0,\n",
       "  'description': 'Alex completed a major software development project at work, delivering the final product to the client.',\n",
       "  'last_acessed': 1717592400.0},\n",
       " {'index': 3,\n",
       "  'type': 'reflection',\n",
       "  'created': 1717628400.0,\n",
       "  'description': 'After delivering the project, Alex felt a sense of relief and accomplishment, thinking about the challenges overcome.',\n",
       "  'last_acessed': 1717628400.0},\n",
       " {'index': 4,\n",
       "  'type': 'event',\n",
       "  'created': 1718046000.0,\n",
       "  'description': 'Alex went on a weekend trip to explore a national park, taking photos of the wildlife and landscapes.',\n",
       "  'last_acessed': 1718046000.0}]"
      ]
     },
     "execution_count": 8,
     "metadata": {},
     "output_type": "execute_result"
    }
   ],
   "source": [
    "input_memories"
   ]
  },
  {
   "cell_type": "code",
   "execution_count": 9,
   "metadata": {},
   "outputs": [],
   "source": [
    "memories_input_queue = memories_input.get_info()\n",
    "for memory in input_memories:\n",
    "    memories_input_queue.append(memory)"
   ]
  },
  {
   "cell_type": "code",
   "execution_count": 10,
   "metadata": {},
   "outputs": [
    {
     "name": "stderr",
     "output_type": "stream",
     "text": [
      "D:\\Github\\GDataByGAgents\\src\\gbyg\\agent\\retrieval\\recency_scorer_tool.py:32: RuntimeWarning: invalid value encountered in divide\n",
      "  scores = (scores-min_score)/(max_score-min_score)\n",
      "c:\\Python38\\lib\\site-packages\\sentence_transformers\\util.py:41: UserWarning: Creating a tensor from a list of numpy.ndarrays is extremely slow. Please consider converting the list to a single numpy.ndarray with numpy.array() before converting to a tensor. (Triggered internally at C:\\actions-runner\\_work\\pytorch\\pytorch\\builder\\windows\\pytorch\\torch\\csrc\\utils\\tensor_new.cpp:278.)\n",
      "  b = torch.tensor(b)\n"
     ]
    },
    {
     "name": "stdout",
     "output_type": "stream",
     "text": [
      "6\n"
     ]
    }
   ],
   "source": [
    "time.sleep(10)\n",
    "\n",
    "print(len(memory_stream.get_info()))"
   ]
  },
  {
   "cell_type": "code",
   "execution_count": 11,
   "metadata": {},
   "outputs": [
    {
     "name": "stdout",
     "output_type": "stream",
     "text": [
      "What were Alex's professional accomplishments?\n",
      "What kind of creative pursuits is Alex interested in?\n",
      "What kind of outdoor activities does Alex enjoy?\n"
     ]
    }
   ],
   "source": [
    "questions = generated_questions.get_info()\n",
    "for q in questions:\n",
    "    print(q)"
   ]
  },
  {
   "cell_type": "code",
   "execution_count": 12,
   "metadata": {},
   "outputs": [
    {
     "name": "stdout",
     "output_type": "stream",
     "text": [
      "0 (event): Alex attended a nature photography workshop in the city park. | because of: \n",
      "1 (reflection): Reflecting on the new techniques learned during the workshop, considering how to apply them in future projects. | because of: \n",
      "2 (event): Alex completed a major software development project at work, delivering the final product to the client. | because of: \n",
      "3 (reflection): After delivering the project, Alex felt a sense of relief and accomplishment, thinking about the challenges overcome. | because of: \n",
      "4 (event): Alex went on a weekend trip to explore a national park, taking photos of the wildlife and landscapes. | because of: \n",
      "5 (reflection): Alex is interested in photography | because of: [0, 4]\n"
     ]
    }
   ],
   "source": [
    "for memory in memory_stream.get_info():\n",
    "    because_of = \"\"\n",
    "    if 'because_of' in memory: \n",
    "        because_of = memory['because_of']\n",
    "\n",
    "    memory_str = f\"{memory['index']} ({memory['type']}): {memory['description']} | because of: {because_of}\"\n",
    "    print(memory_str)"
   ]
  },
  {
   "cell_type": "code",
   "execution_count": 13,
   "metadata": {},
   "outputs": [
    {
     "name": "stdout",
     "output_type": "stream",
     "text": [
      "{'name': 'Alex', 'Age': 25, 'Traits': 'friendly, outgoing, hospitable'}\n",
      "Alex is someone who is likely interested in photography and nature\n",
      "Alex is a nature photography enthusiast\n",
      "Alex seems to be revitalized and enthusiastic about exploring new interests.\n"
     ]
    }
   ],
   "source": [
    "print(agent_summary_description.get_info())"
   ]
  },
  {
   "cell_type": "code",
   "execution_count": 14,
   "metadata": {},
   "outputs": [
    {
     "name": "stdout",
     "output_type": "stream",
     "text": [
      "{'name': 'Alex', 'Age': 25, 'Traits': 'friendly, outgoing, hospitable'}\n",
      "Alex is a goal-oriented and adventurous person who appreciates overcoming challenges and exploring new experiences, while also valuing personal accomplishments and capturing memories through photography.\n",
      "Alex is an amateur photographer, possibly a hobbyist or enthusiast, considering their interest in the field and occasional photography trips.\n",
      "Alex is feeling fulfilled and rejuvenated, experiencing a sense of accomplishment and relief after overcoming challenges and taking a break to connect with nature.\n"
     ]
    }
   ],
   "source": [
    "agent_time.set_info(agent_time.get_info()+gg.time_utils.TimeInterval.ONE_DAY)\n",
    "time.sleep(5)\n",
    "print(agent_summary_description.get_info())"
   ]
  },
  {
   "cell_type": "code",
   "execution_count": 15,
   "metadata": {},
   "outputs": [
    {
     "name": "stdout",
     "output_type": "stream",
     "text": [
      "10\n"
     ]
    }
   ],
   "source": [
    "print(len(memory_stream.get_info()))"
   ]
  },
  {
   "cell_type": "code",
   "execution_count": 16,
   "metadata": {},
   "outputs": [],
   "source": [
    "alex_house = {\n",
    "    \"Alex's House\": {\n",
    "        \"Living Room\": [\n",
    "            {\"name\": \"sofa\", 'type':'inanimate_object', \n",
    "             \"description\": \"A comfortable, modern sofa perfect for relaxing or hosting friends.\",\n",
    "             \"state\":\"idle and clean\"},\n",
    "            {\"name\": \"coffee table\", 'type':'inanimate_object', \n",
    "             \"description\": \"A sleek coffee table with a few programming books and the latest tech magazines.\",\n",
    "             \"state\":\"idle and clean\"},\n",
    "            {\"name\": \"television\", 'type':'inanimate_object', \n",
    "             \"description\": \"A large smart TV, often used to watch tech talks or unwind with a show.\",\n",
    "             \"state\":\"off and clean\"},\n",
    "            {\"name\": \"bookshelf\", 'type':'inanimate_object', \n",
    "             \"description\": \"A bookshelf filled with a mix of classic literature and technical manuals.\",\n",
    "             \"state\":\"idle and clean\"},\n",
    "            {\"name\": \"rug\", 'type':'inanimate_object', \n",
    "             \"description\": \"A soft rug that adds a touch of warmth to the living room.\",\n",
    "             \"state\":\"idle and clean\"}\n",
    "        ],\n",
    "        \"Kitchen\": [\n",
    "            {\"name\": \"refrigerator\", 'type':'inanimate_object', \n",
    "             \"description\": \"A high-tech refrigerator that keeps Alex's meals and snacks fresh.\",\n",
    "             \"state\":\"on and clean\"},\n",
    "            {\"name\": \"stove\", 'type':'inanimate_object', \n",
    "             \"description\": \"A modern stove where Alex occasionally experiments with new recipes.\",\n",
    "             \"state\":\"off and clean\"},\n",
    "            {\"name\": \"microwave\", 'type':'inanimate_object', \n",
    "             \"description\": \"A quick and efficient microwave for heating up meals.\",\n",
    "             \"state\":\"off and clean\"},\n",
    "            {\"name\": \"kitchen sink\", 'type':'inanimate_object', \n",
    "             \"description\": \"A stainless steel sink\",\n",
    "             \"state\":\"idle and clean\"},\n",
    "            {\"name\": \"dishwasher\", 'type':'inanimate_object', \n",
    "             \"description\": \"A quiet dishwasher that handles the post-dinner cleanup.\",\n",
    "             \"state\":\"off and clean\"},\n",
    "            {\"name\": \"dining table\", 'type':'inanimate_object', \n",
    "             \"description\": \"A minimalist dining table where Alex enjoys breakfast and dinner.\",\n",
    "             \"state\":\"idle and clean\"},\n",
    "            {\"name\": \"chairs\", 'type':'inanimate_object', \n",
    "             \"description\": \"Comfortable chairs around the dining table, perfect for meals or working on a laptop.\",\n",
    "             \"state\":\"idle and clean\"}\n",
    "        ],\n",
    "        \"Bedroom\": [\n",
    "            {\"name\": \"bed\", 'type':'inanimate_object', \n",
    "             \"description\": \"A cozy bed where Alex gets his much-needed rest.\",\n",
    "             \"state\":\"idle and clean\"},\n",
    "            {\"name\": \"dresser\", 'type':'inanimate_object', \n",
    "             \"description\": \"A dresser with neatly organized clothes, reflecting Alex's organized nature.\",\n",
    "             \"state\":\"idle and clean\"},\n",
    "            {\"name\": \"nightstand\", 'type':'inanimate_object', \n",
    "             \"description\": \"A nightstand with a lamp and a few personal items.\",\n",
    "             \"state\":\"idle and clean\"},\n",
    "            {\"name\": \"closet\", 'type':'inanimate_object', \n",
    "             \"description\": \"A spacious closet with casual and work clothes.\",\n",
    "             \"state\":\"idle and clean\"},\n",
    "            {\"name\": \"desk\", 'type':'inanimate_object', \n",
    "             \"description\": \"A small desk with a notebook and pens, used for jotting down late-night ideas.\",\n",
    "             \"state\":\"idle and clean\"},\n",
    "            {\"name\": \"lamp\", 'type':'inanimate_object', \n",
    "             \"description\": \"A bedside lamp for reading before bed.\",\n",
    "             \"state\":\"off and clean\"}\n",
    "        ],\n",
    "        \"Bathroom\": [\n",
    "            {\"name\": \"shower\", 'type':'inanimate_object', \n",
    "             \"description\": \"A modern shower with various settings for a refreshing start to the day.\",\n",
    "             \"state\":\"off and clean\"},\n",
    "            {\"name\": \"bathroom sink\", 'type':'inanimate_object', \n",
    "             \"description\": \"A clean sink with essential toiletries.\",\n",
    "             \"state\":\"idle and clean\"},\n",
    "            {\"name\": \"toilet\", 'type':'inanimate_object', \n",
    "             \"description\": \"A simple, modern toilet.\",\n",
    "             \"state\":\"idle and clean\"},\n",
    "            {\"name\": \"mirror\", 'type':'inanimate_object', \n",
    "             \"description\": \"A mirror above the sink, used for daily grooming.\",\n",
    "             \"state\":\"idle and clean\"},\n",
    "            {\"name\": \"cabinet\", 'type':'inanimate_object', \n",
    "             \"description\": \"A cabinet filled with towels and personal care items.\",\n",
    "             \"state\":\"idle and clean\"}\n",
    "        ],\n",
    "        \"Home Office\": [\n",
    "            {\"name\": \"desk\", 'type':'inanimate_object', \n",
    "             \"description\": \"A large desk with multiple monitors and a laptop, where Alex spends most of his working hours.\",\n",
    "             \"state\":\"idle and clean\"},\n",
    "            {\"name\": \"computer\", 'type':'inanimate_object', \n",
    "             \"description\": \"A powerful computer equipped with the latest software development tools.\",\n",
    "             \"state\":\"off and clean\"},\n",
    "            {\"name\": \"office chair\", 'type':'inanimate_object', \n",
    "             \"description\": \"An ergonomic office chair to support long coding sessions.\",\n",
    "             \"state\":\"idle and clean\"},\n",
    "            {\"name\": \"bookshelf\", 'type':'inanimate_object', \n",
    "             \"description\": \"A bookshelf filled with programming books and reference materials.\",\n",
    "             \"state\":\"idle and clean\"},\n",
    "            {\"name\": \"printer\", 'type':'inanimate_object',\n",
    "              \"description\": \"A reliable printer for printing documents and designs.\",\n",
    "              \"state\":\"off and clean\"}\n",
    "        ]\n",
    "    }\n",
    "}\n",
    "\n",
    "alex = {\"name\":\"Alex\", \"type\":\"agent\", \"description\":\"human\", 'state':'idle, standing in the middle of the room.'}\n",
    "\n",
    "alex_house[\"Alex's House\"][\"Bedroom\"].append(alex)\n",
    "\n",
    "agent_names = [\"Alex\"]"
   ]
  },
  {
   "cell_type": "code",
   "execution_count": 17,
   "metadata": {},
   "outputs": [],
   "source": [
    "observation_memory = {\"index\": 0,\n",
    "    \"type\": \"event\",\n",
    "    \"created\": agent_time.get_info(),\n",
    "    \"description\": f\"Alex is {alex['state']}\"}\n",
    "\n",
    "input_memories.append(observation_memory)"
   ]
  },
  {
   "cell_type": "code",
   "execution_count": 18,
   "metadata": {},
   "outputs": [],
   "source": [
    "env = gg.environment.Environment(alex_house, agent_names)"
   ]
  },
  {
   "cell_type": "code",
   "execution_count": 19,
   "metadata": {},
   "outputs": [],
   "source": [
    "actions = [\"turn on the lamp\", \"go to the kitchen\"]\n",
    "\n",
    "for step, action in enumerate(actions):\n",
    "    agent_actions = {\"Alex\":action}\n",
    "\n",
    "    obsevation = env.step(agent_actions)\n",
    "    alex_observation = obsevation[\"Alex\"]\n",
    "\n",
    "    observation_memory = {\"type\": \"event\",\n",
    "        \"created\": agent_time.get_info(),\n",
    "        \"description\": f\"Alex is {alex_observation['state']}\"}\n",
    "\n",
    "    memories_input_queue.append(observation_memory)\n",
    "\n",
    "    observation_memory = {\"type\": \"event\",\n",
    "        \"created\": agent_time.get_info(),\n",
    "        \"description\": alex_observation['observation']}\n",
    "    \n",
    "    memories_input_queue.append(observation_memory)\n",
    "\n",
    "    actual_place.set_info(alex_observation[\"place\"])\n",
    "\n",
    "    current_time = agent_time.get_info()\n",
    "    current_time += alex_observation[\"duration\"]\n",
    "    agent_time.set_info(current_time)"
   ]
  },
  {
   "cell_type": "code",
   "execution_count": 20,
   "metadata": {},
   "outputs": [
    {
     "name": "stdout",
     "output_type": "stream",
     "text": [
      "14\n"
     ]
    }
   ],
   "source": [
    "time.sleep(10)\n",
    "print(len(memory_stream.get_info()))"
   ]
  },
  {
   "cell_type": "code",
   "execution_count": 26,
   "metadata": {},
   "outputs": [
    {
     "name": "stdout",
     "output_type": "stream",
     "text": [
      "0.1111111111111111 | Alex is idle, standing in the middle of the room.\n",
      "0.3888888888888889 | Alex sees the cozy bed, dresser, nightstand, closet, and desk in the bedroom. Alex sees himself standing in the middle of the room. Alex hears nothing but silence. Alex feels the soft carpet under his feet. Alex notices the lamp is now on, illuminating the room.\n",
      "0.0 | Alex is walking\n",
      "0.16666666666666666 | Alex sees a modern stove, refrigerator, microwave, kitchen sink, dishwasher, and dining table in the kitchen. He hears the hum of the refrigerator and the faint sound of the dishwasher. He feels the tile floor beneath his feet and the cool air from the air conditioner on his skin.\n"
     ]
    }
   ],
   "source": [
    "for i in range(len(memory_stream.get_info())-4, len(memory_stream.get_info())):\n",
    "    m = memory_stream.get_info()[i]\n",
    "    print(m[\"importance\"],\"|\", m[\"description\"])"
   ]
  },
  {
   "cell_type": "code",
   "execution_count": null,
   "metadata": {},
   "outputs": [],
   "source": []
  }
 ],
 "metadata": {
  "kernelspec": {
   "display_name": "Python 3",
   "language": "python",
   "name": "python3"
  },
  "language_info": {
   "codemirror_mode": {
    "name": "ipython",
    "version": 3
   },
   "file_extension": ".py",
   "mimetype": "text/x-python",
   "name": "python",
   "nbconvert_exporter": "python",
   "pygments_lexer": "ipython3",
   "version": "3.8.5"
  }
 },
 "nbformat": 4,
 "nbformat_minor": 2
}
