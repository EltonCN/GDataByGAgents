{
 "cells": [
  {
   "cell_type": "code",
   "execution_count": 24,
   "metadata": {},
   "outputs": [],
   "source": [
    "import json\n",
    "import glob\n",
    "import datetime\n",
    "import os\n",
    "\n",
    "import matplotlib.pyplot as plt"
   ]
  },
  {
   "cell_type": "code",
   "execution_count": 23,
   "metadata": {},
   "outputs": [],
   "source": [
    "output_path = \"logs\""
   ]
  },
  {
   "cell_type": "code",
   "execution_count": 4,
   "metadata": {},
   "outputs": [],
   "source": [
    "log_paths = glob.glob(\"logs\\\\*.json\")\n",
    "\n",
    "logs = []\n",
    "for log_path in log_paths:\n",
    "    with open(log_path) as file:\n",
    "        logs.append(json.load(file))"
   ]
  },
  {
   "cell_type": "code",
   "execution_count": 6,
   "metadata": {},
   "outputs": [],
   "source": [
    "logs = sorted(logs, key=lambda log : log[\"agent_time\"])"
   ]
  },
  {
   "cell_type": "code",
   "execution_count": 16,
   "metadata": {},
   "outputs": [],
   "source": [
    "times = []\n",
    "sound_intensities = []\n",
    "\n",
    "for log in logs:\n",
    "    if \"sound_intensity\" not in log[\"sensor_result\"]:\n",
    "        continue\n",
    "\n",
    "    agent_time = datetime.datetime.fromtimestamp(log[\"agent_time\"])\n",
    "    hour_time = 0\n",
    "    hour_time += agent_time.hour\n",
    "    hour_time += agent_time.minute/60\n",
    "    hour_time += agent_time.second/60/60\n",
    "        \n",
    "    times.append(hour_time)\n",
    "    sound_intensities.append(log[\"sensor_result\"][\"sound_intensity\"])"
   ]
  },
  {
   "cell_type": "code",
   "execution_count": 25,
   "metadata": {},
   "outputs": [
    {
     "data": {
      "image/png": "[encoded data removed]",
      "text/plain": [
       "<Figure size 432x288 with 1 Axes>"
      ]
     },
     "metadata": {
      "needs_background": "light"
     },
     "output_type": "display_data"
    }
   ],
   "source": [
    "fig = plt.figure()\n",
    "plt.plot(times, sound_intensities, \"o-\")\n",
    "\n",
    "plt.title(\"Sensor Readings\")\n",
    "plt.xlabel(\"Hour\")\n",
    "plt.ylabel(\"Sound Intensity [dB]\")\n",
    "\n",
    "path = os.path.join(output_path, \"SensorReadings.png\")\n",
    "fig.savefig(path, facecolor=\"white\", transparent=False)\n",
    "\n",
    "plt.show()"
   ]
  },
  {
   "cell_type": "code",
   "execution_count": 36,
   "metadata": {},
   "outputs": [
    {
     "name": "stdout",
     "output_type": "stream",
     "text": [
      "08:00:00 Bedroom\n",
      "\n",
      "State: \n",
      "\n",
      "Observation: \n",
      "\n",
      "Next action: Alex wakes up.\n",
      "\n",
      "----\n",
      "08:00:02 Bedroom\n",
      "\n",
      "State: Alex is wide awake\n",
      "\n",
      "Observation: Alex sees the dresser and nightstand near the bed, and notices the notebook and pens on the desk. He hears the silence of his bedroom. He feels the bed beneath him and the softness of the pillow. He smells the familiar scent of his bedroom. Alex notices the framed nature photographs on the walls, and the plant near the window. He feels his body relaxed and refreshed after a good night's sleep.\n",
      "\n",
      "Next action: Alex gets out of bed\n",
      "\n",
      "----\n",
      "08:00:04 Bedroom\n",
      "\n",
      "State: Alex is standing\n",
      "\n",
      "Observation: Alex sees the dresser, nightstand, closet, desk, and lamp in the bedroom, hears silence, and feels a soft rug beneath his feet.\n",
      "\n",
      "Next action: Alex goes to the dresser\n",
      "\n",
      "----\n",
      "08:00:06 Bedroom\n",
      "\n",
      "State: Alex is in front of the dresser\n",
      "\n",
      "Observation: Alex sees the dresser in front of him, with the dresser's door slightly open, and notes the neatly organized clothes inside. He hears the silence of the bedroom. He feels the softness of the rug beneath his feet and the coolness of the air in the room. Alex notices the unmade bed nearby, the nightstand with a lamp, and the closet to his left.\n",
      "\n",
      "Next action: Alex gets dressed\n",
      "\n",
      "----\n",
      "08:00:08 Bedroom\n",
      "\n",
      "State: Alex is dressed\n",
      "\n",
      "Observation: Alex sees himself in the mirror, dressed and ready for the day. He notices the neatly organized dresser, nightstand, and desk with a notebook and pens on top. The lamp is off, and the framed nature photographs adorn the walls. He hears no sounds. He feels the softness of the carpet beneath his feet.\n",
      "\n",
      "Next action: Alex goes to the Bedroom door and heads towards the Kitchen\n",
      "\n",
      "----\n",
      "08:00:13 Kitchen\n",
      "\n",
      "State: Alex is heading towards the Kitchen\n",
      "\n",
      "Observation: Alex sees the kitchen sink, stove, and refrigerator in front of him, and hears the sound of the refrigerator humming. He feels the cool air of the air-conditioned kitchen on his skin as he enters the room. He notices the dining table with chairs and the herb garden near the window, which adds a touch of nature to the room. He senses the scent of fresh herbs coming from the herb garden.\n",
      "\n",
      "Next action: Alex goes to the refrigerator to prepare breakfast\n",
      "\n",
      "----\n",
      "08:00:23 Kitchen\n",
      "\n",
      "State: Alex prepares breakfast\n",
      "\n",
      "Observation: Alex sees the modern stove, microwave, kitchen sink, and dining table in front of him. He hears the humming of the refrigerator as he approaches it. He feels the cool air from the open refrigerator door on his skin. He sees the kitchen sink, dishwasher, and dining table to his left. On his right, he notices the herb garden growing and the comfortable chairs around the dining table. He smells the fresh scent of the herb garden and feels the gentle morning light coming through the window.\n",
      "\n",
      "Next action: Alex prepares breakfast in the kitchen\n",
      "\n",
      "----\n"
     ]
    }
   ],
   "source": [
    "for log in logs:\n",
    "    agent_time = datetime.datetime.fromtimestamp(log[\"agent_time\"])\n",
    "    print(agent_time.strftime(\"%H:%M:%S\"), log[\"current_place\"])\n",
    "    print()\n",
    "    print(\"State:\", log[\"state\"])\n",
    "    print()\n",
    "    print(\"Observation:\", log[\"curret_observation\"])\n",
    "    print()\n",
    "    print(\"Next action:\", log[\"action\"])\n",
    "    print()\n",
    "    print(\"----\")"
   ]
  },
  {
   "cell_type": "code",
   "execution_count": null,
   "metadata": {},
   "outputs": [],
   "source": []
  }
 ],
 "metadata": {
  "kernelspec": {
   "display_name": "Python 3",
   "language": "python",
   "name": "python3"
  },
  "language_info": {
   "codemirror_mode": {
    "name": "ipython",
    "version": 3
   },
   "file_extension": ".py",
   "mimetype": "text/x-python",
   "name": "python",
   "nbconvert_exporter": "python",
   "pygments_lexer": "ipython3",
   "version": "3.8.5"
  }
 },
 "nbformat": 4,
 "nbformat_minor": 2
}
